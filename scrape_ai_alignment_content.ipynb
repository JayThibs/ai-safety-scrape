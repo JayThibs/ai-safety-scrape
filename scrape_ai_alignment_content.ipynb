{
  "nbformat": 4,
  "nbformat_minor": 0,
  "metadata": {
    "colab": {
      "name": "scrape-ai-alignment-content.ipynb",
      "provenance": [],
      "collapsed_sections": [
        "CnAz2Ws6XONA"
      ],
      "machine_shape": "hm",
      "authorship_tag": "ABX9TyNUcB9DYNxFiRgkJWOEVB2p",
      "include_colab_link": true
    },
    "kernelspec": {
      "name": "python3",
      "display_name": "Python 3"
    },
    "language_info": {
      "name": "python"
    }
  },
  "cells": [
    {
      "cell_type": "markdown",
      "metadata": {
        "id": "view-in-github",
        "colab_type": "text"
      },
      "source": [
        "<a href=\"https://colab.research.google.com/github/JayThibs/ai-safety-scrape/blob/main/scrape_ai_alignment_content.ipynb\" target=\"_parent\"><img src=\"https://colab.research.google.com/assets/colab-badge.svg\" alt=\"Open In Colab\"/></a>"
      ]
    },
    {
      "cell_type": "markdown",
      "source": [
        "# Extracting Contents from AI Alignment Resources\n",
        "\n",
        "This notebook is used to scrape the contents of AI Alignment resources."
      ],
      "metadata": {
        "id": "97CXz6XJM8q3"
      }
    },
    {
      "cell_type": "markdown",
      "source": [
        "# Installations"
      ],
      "metadata": {
        "id": "LYg2mYW2nGYH"
      }
    },
    {
      "cell_type": "code",
      "source": [
        "!pip install tika arxiv pandoc -q"
      ],
      "metadata": {
        "colab": {
          "base_uri": "https://localhost:8080/"
        },
        "id": "ugHfLSwFnIjf",
        "outputId": "d09faa89-5a5e-4c37-b0d8-111846d992b0"
      },
      "execution_count": 1,
      "outputs": [
        {
          "output_type": "stream",
          "name": "stdout",
          "text": [
            "\u001b[?25l\r\u001b[K     |████                            | 10 kB 31.8 MB/s eta 0:00:01\r\u001b[K     |████████                        | 20 kB 43.0 MB/s eta 0:00:01\r\u001b[K     |████████████▏                   | 30 kB 54.2 MB/s eta 0:00:01\r\u001b[K     |████████████████▏               | 40 kB 60.0 MB/s eta 0:00:01\r\u001b[K     |████████████████████▏           | 51 kB 18.1 MB/s eta 0:00:01\r\u001b[K     |████████████████████████▎       | 61 kB 20.9 MB/s eta 0:00:01\r\u001b[K     |████████████████████████████▎   | 71 kB 23.4 MB/s eta 0:00:01\r\u001b[K     |████████████████████████████████| 81 kB 7.3 MB/s \n",
            "\u001b[K     |████████████████████████████████| 117 kB 84.2 MB/s \n",
            "\u001b[K     |████████████████████████████████| 49 kB 5.9 MB/s \n",
            "\u001b[?25h  Building wheel for tika (setup.py) ... \u001b[?25l\u001b[?25hdone\n",
            "  Building wheel for pandoc (setup.py) ... \u001b[?25l\u001b[?25hdone\n",
            "  Building wheel for sgmllib3k (setup.py) ... \u001b[?25l\u001b[?25hdone\n"
          ]
        }
      ]
    },
    {
      "cell_type": "markdown",
      "source": [
        "# Imports"
      ],
      "metadata": {
        "id": "4XsCNDx4nKBD"
      }
    },
    {
      "cell_type": "code",
      "source": [
        "import os\n",
        "import pandas as pd\n",
        "from tika import parser\n",
        "from google.colab import drive\n",
        "from pathlib import Path\n",
        "from urllib import request\n",
        "from bs4 import BeautifulSoup\n",
        "import arxiv\n",
        "import pandoc\n",
        "import requests\n",
        "import tarfile\n",
        "import pickle"
      ],
      "metadata": {
        "id": "LaV6DoUenFyD"
      },
      "execution_count": 41,
      "outputs": []
    },
    {
      "cell_type": "markdown",
      "source": [
        "# Setting up Environment"
      ],
      "metadata": {
        "id": "JGEHyxtIrABU"
      }
    },
    {
      "cell_type": "code",
      "source": [
        "drive.mount('/content/drive')"
      ],
      "metadata": {
        "colab": {
          "base_uri": "https://localhost:8080/"
        },
        "id": "q7EXurg4rE4U",
        "outputId": "6354abd9-c3c7-4327-f8e7-923956e2fa55"
      },
      "execution_count": 3,
      "outputs": [
        {
          "output_type": "stream",
          "name": "stdout",
          "text": [
            "Mounted at /content/drive\n"
          ]
        }
      ]
    },
    {
      "cell_type": "code",
      "source": [
        "%cd drive/MyDrive/"
      ],
      "metadata": {
        "colab": {
          "base_uri": "https://localhost:8080/"
        },
        "id": "4x7qM-qXrGCn",
        "outputId": "eef2e36d-0cbc-4e92-c18b-9e72e2976ca1"
      },
      "execution_count": 4,
      "outputs": [
        {
          "output_type": "stream",
          "name": "stdout",
          "text": [
            "/content/drive/MyDrive\n"
          ]
        }
      ]
    },
    {
      "cell_type": "code",
      "source": [
        "CODE_DIR = Path('.') / 'code-projects/gpt-ai-safety'\n",
        "RAW_DIR = Path('.') / 'data/raw'\n",
        "TARS_DIR = RAW_DIR / 'tars'\n",
        "LATEX_DIR = RAW_DIR / 'latex_files'\n",
        "PDFS_DIR = RAW_DIR / 'pdfs'"
      ],
      "metadata": {
        "id": "nrQERsuk8lRe"
      },
      "execution_count": 5,
      "outputs": []
    },
    {
      "cell_type": "code",
      "source": [
        "%cd {CODE_DIR}"
      ],
      "metadata": {
        "colab": {
          "base_uri": "https://localhost:8080/"
        },
        "id": "rdvzqbWx8yrK",
        "outputId": "08c3fbf8-a344-443e-89bb-8da11eaee5cb"
      },
      "execution_count": 6,
      "outputs": [
        {
          "output_type": "stream",
          "name": "stdout",
          "text": [
            "/content/drive/MyDrive/code-projects/gpt-ai-safety\n"
          ]
        }
      ]
    },
    {
      "cell_type": "code",
      "source": [
        "# !git clone https://github.com/JayThibs/ai-safety-scrape\n",
        "# !mv ai-safety-scrape/* ."
      ],
      "metadata": {
        "id": "pDsiFyBfxC8H"
      },
      "execution_count": 7,
      "outputs": []
    },
    {
      "cell_type": "markdown",
      "source": [
        "# Load and Explore Data"
      ],
      "metadata": {
        "id": "Z6UiH03NAdoz"
      }
    },
    {
      "cell_type": "code",
      "source": [
        "df = pd.read_csv('ai-alignment-papers.csv')\n",
        "df.head()"
      ],
      "metadata": {
        "colab": {
          "base_uri": "https://localhost:8080/",
          "height": 699
        },
        "id": "cJit0jX1An6S",
        "outputId": "1dfcdbfd-45be-42dc-eef0-cfebf7120732"
      },
      "execution_count": 8,
      "outputs": [
        {
          "output_type": "execute_result",
          "data": {
            "text/html": [
              "\n",
              "  <div id=\"df-6ac1911b-27d5-4a8b-9f24-8e766efec705\">\n",
              "    <div class=\"colab-df-container\">\n",
              "      <div>\n",
              "<style scoped>\n",
              "    .dataframe tbody tr th:only-of-type {\n",
              "        vertical-align: middle;\n",
              "    }\n",
              "\n",
              "    .dataframe tbody tr th {\n",
              "        vertical-align: top;\n",
              "    }\n",
              "\n",
              "    .dataframe thead th {\n",
              "        text-align: right;\n",
              "    }\n",
              "</style>\n",
              "<table border=\"1\" class=\"dataframe\">\n",
              "  <thead>\n",
              "    <tr style=\"text-align: right;\">\n",
              "      <th></th>\n",
              "      <th>Key</th>\n",
              "      <th>Item Type</th>\n",
              "      <th>Publication Year</th>\n",
              "      <th>Author</th>\n",
              "      <th>Title</th>\n",
              "      <th>Publication Title</th>\n",
              "      <th>ISBN</th>\n",
              "      <th>ISSN</th>\n",
              "      <th>DOI</th>\n",
              "      <th>Url</th>\n",
              "      <th>Abstract Note</th>\n",
              "      <th>Date</th>\n",
              "      <th>Date Added</th>\n",
              "      <th>Date Modified</th>\n",
              "      <th>Access Date</th>\n",
              "      <th>Pages</th>\n",
              "      <th>Num Pages</th>\n",
              "      <th>Issue</th>\n",
              "      <th>Volume</th>\n",
              "      <th>Number Of Volumes</th>\n",
              "      <th>Journal Abbreviation</th>\n",
              "      <th>Short Title</th>\n",
              "      <th>Series</th>\n",
              "      <th>Series Number</th>\n",
              "      <th>Series Text</th>\n",
              "      <th>Series Title</th>\n",
              "      <th>Publisher</th>\n",
              "      <th>Place</th>\n",
              "      <th>Language</th>\n",
              "      <th>Rights</th>\n",
              "      <th>Type</th>\n",
              "      <th>Archive</th>\n",
              "      <th>Archive Location</th>\n",
              "      <th>Library Catalog</th>\n",
              "      <th>Call Number</th>\n",
              "      <th>Extra</th>\n",
              "      <th>Notes</th>\n",
              "      <th>File Attachments</th>\n",
              "      <th>Link Attachments</th>\n",
              "      <th>Manual Tags</th>\n",
              "      <th>...</th>\n",
              "      <th>Cast Member</th>\n",
              "      <th>Commenter</th>\n",
              "      <th>Composer</th>\n",
              "      <th>Cosponsor</th>\n",
              "      <th>Counsel</th>\n",
              "      <th>Interviewer</th>\n",
              "      <th>Producer</th>\n",
              "      <th>Recipient</th>\n",
              "      <th>Reviewed Author</th>\n",
              "      <th>Scriptwriter</th>\n",
              "      <th>Words By</th>\n",
              "      <th>Guest</th>\n",
              "      <th>Number</th>\n",
              "      <th>Edition</th>\n",
              "      <th>Running Time</th>\n",
              "      <th>Scale</th>\n",
              "      <th>Medium</th>\n",
              "      <th>Artwork Size</th>\n",
              "      <th>Filing Date</th>\n",
              "      <th>Application Number</th>\n",
              "      <th>Assignee</th>\n",
              "      <th>Issuing Authority</th>\n",
              "      <th>Country</th>\n",
              "      <th>Meeting Name</th>\n",
              "      <th>Conference Name</th>\n",
              "      <th>Court</th>\n",
              "      <th>References</th>\n",
              "      <th>Reporter</th>\n",
              "      <th>Legal Status</th>\n",
              "      <th>Priority Numbers</th>\n",
              "      <th>Programming Language</th>\n",
              "      <th>Version</th>\n",
              "      <th>System</th>\n",
              "      <th>Code</th>\n",
              "      <th>Code Number</th>\n",
              "      <th>Section</th>\n",
              "      <th>Session</th>\n",
              "      <th>Committee</th>\n",
              "      <th>History</th>\n",
              "      <th>Legislative Body</th>\n",
              "    </tr>\n",
              "  </thead>\n",
              "  <tbody>\n",
              "    <tr>\n",
              "      <th>0</th>\n",
              "      <td>XBZAPQFK</td>\n",
              "      <td>blogPost</td>\n",
              "      <td>2020.0</td>\n",
              "      <td>Kokotajlo, Daniel</td>\n",
              "      <td>Three kinds of competitiveness</td>\n",
              "      <td>AI Impacts</td>\n",
              "      <td>NaN</td>\n",
              "      <td>NaN</td>\n",
              "      <td>NaN</td>\n",
              "      <td>https://aiimpacts.org/three-kinds-of-competiti...</td>\n",
              "      <td>By Daniel Kokotajlo In this post, I distinguis...</td>\n",
              "      <td>2020-03-30</td>\n",
              "      <td>2022-01-30 01:53:10</td>\n",
              "      <td>2022-01-30 01:53:10</td>\n",
              "      <td>2021-11-20 18:55:39</td>\n",
              "      <td>NaN</td>\n",
              "      <td>NaN</td>\n",
              "      <td>NaN</td>\n",
              "      <td>NaN</td>\n",
              "      <td>NaN</td>\n",
              "      <td>NaN</td>\n",
              "      <td>NaN</td>\n",
              "      <td>NaN</td>\n",
              "      <td>NaN</td>\n",
              "      <td>NaN</td>\n",
              "      <td>NaN</td>\n",
              "      <td>NaN</td>\n",
              "      <td>NaN</td>\n",
              "      <td>en-US</td>\n",
              "      <td>NaN</td>\n",
              "      <td>NaN</td>\n",
              "      <td>NaN</td>\n",
              "      <td>NaN</td>\n",
              "      <td>NaN</td>\n",
              "      <td>NaN</td>\n",
              "      <td>ZSCC: NoCitationData[s0]  ACC: N/A  Section: Blog</td>\n",
              "      <td>NaN</td>\n",
              "      <td>/Users/jacquesthibodeau/Zotero/storage/PU9A2KS...</td>\n",
              "      <td>NaN</td>\n",
              "      <td>UnsortedSafety</td>\n",
              "      <td>...</td>\n",
              "      <td>NaN</td>\n",
              "      <td>NaN</td>\n",
              "      <td>NaN</td>\n",
              "      <td>NaN</td>\n",
              "      <td>NaN</td>\n",
              "      <td>NaN</td>\n",
              "      <td>NaN</td>\n",
              "      <td>NaN</td>\n",
              "      <td>NaN</td>\n",
              "      <td>NaN</td>\n",
              "      <td>NaN</td>\n",
              "      <td>NaN</td>\n",
              "      <td>NaN</td>\n",
              "      <td>NaN</td>\n",
              "      <td>NaN</td>\n",
              "      <td>NaN</td>\n",
              "      <td>NaN</td>\n",
              "      <td>NaN</td>\n",
              "      <td>NaN</td>\n",
              "      <td>NaN</td>\n",
              "      <td>NaN</td>\n",
              "      <td>NaN</td>\n",
              "      <td>NaN</td>\n",
              "      <td>NaN</td>\n",
              "      <td>NaN</td>\n",
              "      <td>NaN</td>\n",
              "      <td>NaN</td>\n",
              "      <td>NaN</td>\n",
              "      <td>NaN</td>\n",
              "      <td>NaN</td>\n",
              "      <td>NaN</td>\n",
              "      <td>NaN</td>\n",
              "      <td>NaN</td>\n",
              "      <td>NaN</td>\n",
              "      <td>NaN</td>\n",
              "      <td>NaN</td>\n",
              "      <td>NaN</td>\n",
              "      <td>NaN</td>\n",
              "      <td>NaN</td>\n",
              "      <td>NaN</td>\n",
              "    </tr>\n",
              "    <tr>\n",
              "      <th>1</th>\n",
              "      <td>HX9UZ5JP</td>\n",
              "      <td>journalArticle</td>\n",
              "      <td>2020.0</td>\n",
              "      <td>Cihon, Peter; Maas, Matthijs M.; Kemp, Luke</td>\n",
              "      <td>Fragmentation and the Future: Investigating Ar...</td>\n",
              "      <td>Global Policy</td>\n",
              "      <td>NaN</td>\n",
              "      <td>1758-5899</td>\n",
              "      <td>10.1111/1758-5899.12890</td>\n",
              "      <td>https://onlinelibrary.wiley.com/doi/abs/10.111...</td>\n",
              "      <td>The international governance of artificial int...</td>\n",
              "      <td>2020</td>\n",
              "      <td>2022-01-30 04:47:43</td>\n",
              "      <td>2022-01-30 04:47:43</td>\n",
              "      <td>2021-11-13 15:58:24</td>\n",
              "      <td>545-556</td>\n",
              "      <td>NaN</td>\n",
              "      <td>5</td>\n",
              "      <td>11.0</td>\n",
              "      <td>NaN</td>\n",
              "      <td>NaN</td>\n",
              "      <td>Fragmentation and the Future</td>\n",
              "      <td>NaN</td>\n",
              "      <td>NaN</td>\n",
              "      <td>NaN</td>\n",
              "      <td>NaN</td>\n",
              "      <td>NaN</td>\n",
              "      <td>NaN</td>\n",
              "      <td>en</td>\n",
              "      <td>NaN</td>\n",
              "      <td>NaN</td>\n",
              "      <td>NaN</td>\n",
              "      <td>NaN</td>\n",
              "      <td>Wiley Online Library</td>\n",
              "      <td>NaN</td>\n",
              "      <td>ZSCC: 0000010  _eprint: https://onlinelibrary....</td>\n",
              "      <td>NaN</td>\n",
              "      <td>/Users/jacquesthibodeau/Zotero/storage/2TZBI3F...</td>\n",
              "      <td>NaN</td>\n",
              "      <td>UnsortedSafety</td>\n",
              "      <td>...</td>\n",
              "      <td>NaN</td>\n",
              "      <td>NaN</td>\n",
              "      <td>NaN</td>\n",
              "      <td>NaN</td>\n",
              "      <td>NaN</td>\n",
              "      <td>NaN</td>\n",
              "      <td>NaN</td>\n",
              "      <td>NaN</td>\n",
              "      <td>NaN</td>\n",
              "      <td>NaN</td>\n",
              "      <td>NaN</td>\n",
              "      <td>NaN</td>\n",
              "      <td>NaN</td>\n",
              "      <td>NaN</td>\n",
              "      <td>NaN</td>\n",
              "      <td>NaN</td>\n",
              "      <td>NaN</td>\n",
              "      <td>NaN</td>\n",
              "      <td>NaN</td>\n",
              "      <td>NaN</td>\n",
              "      <td>NaN</td>\n",
              "      <td>NaN</td>\n",
              "      <td>NaN</td>\n",
              "      <td>NaN</td>\n",
              "      <td>NaN</td>\n",
              "      <td>NaN</td>\n",
              "      <td>NaN</td>\n",
              "      <td>NaN</td>\n",
              "      <td>NaN</td>\n",
              "      <td>NaN</td>\n",
              "      <td>NaN</td>\n",
              "      <td>NaN</td>\n",
              "      <td>NaN</td>\n",
              "      <td>NaN</td>\n",
              "      <td>NaN</td>\n",
              "      <td>NaN</td>\n",
              "      <td>NaN</td>\n",
              "      <td>NaN</td>\n",
              "      <td>NaN</td>\n",
              "      <td>NaN</td>\n",
              "    </tr>\n",
              "    <tr>\n",
              "      <th>2</th>\n",
              "      <td>BQCZM53S</td>\n",
              "      <td>blogPost</td>\n",
              "      <td>2021.0</td>\n",
              "      <td>Clarke, Sam; Martin, Samuel Dylan</td>\n",
              "      <td>Distinguishing AI takeover scenarios</td>\n",
              "      <td>AI Alignment Forum</td>\n",
              "      <td>NaN</td>\n",
              "      <td>NaN</td>\n",
              "      <td>NaN</td>\n",
              "      <td>https://www.alignmentforum.org/posts/qYzqDtoQa...</td>\n",
              "      <td>Epistemic status: lots of this involves interp...</td>\n",
              "      <td>2021-09-08</td>\n",
              "      <td>2022-01-30 04:47:42</td>\n",
              "      <td>2022-01-30 04:47:42</td>\n",
              "      <td>2021-11-18 23:45:23</td>\n",
              "      <td>NaN</td>\n",
              "      <td>NaN</td>\n",
              "      <td>NaN</td>\n",
              "      <td>NaN</td>\n",
              "      <td>NaN</td>\n",
              "      <td>NaN</td>\n",
              "      <td>NaN</td>\n",
              "      <td>NaN</td>\n",
              "      <td>NaN</td>\n",
              "      <td>NaN</td>\n",
              "      <td>NaN</td>\n",
              "      <td>NaN</td>\n",
              "      <td>NaN</td>\n",
              "      <td>NaN</td>\n",
              "      <td>NaN</td>\n",
              "      <td>NaN</td>\n",
              "      <td>NaN</td>\n",
              "      <td>NaN</td>\n",
              "      <td>NaN</td>\n",
              "      <td>NaN</td>\n",
              "      <td>ZSCC: NoCitationData[s0]  ACC: N/A</td>\n",
              "      <td>NaN</td>\n",
              "      <td>/Users/jacquesthibodeau/Zotero/storage/ENAMQXC...</td>\n",
              "      <td>NaN</td>\n",
              "      <td>UnsortedSafety</td>\n",
              "      <td>...</td>\n",
              "      <td>NaN</td>\n",
              "      <td>NaN</td>\n",
              "      <td>NaN</td>\n",
              "      <td>NaN</td>\n",
              "      <td>NaN</td>\n",
              "      <td>NaN</td>\n",
              "      <td>NaN</td>\n",
              "      <td>NaN</td>\n",
              "      <td>NaN</td>\n",
              "      <td>NaN</td>\n",
              "      <td>NaN</td>\n",
              "      <td>NaN</td>\n",
              "      <td>NaN</td>\n",
              "      <td>NaN</td>\n",
              "      <td>NaN</td>\n",
              "      <td>NaN</td>\n",
              "      <td>NaN</td>\n",
              "      <td>NaN</td>\n",
              "      <td>NaN</td>\n",
              "      <td>NaN</td>\n",
              "      <td>NaN</td>\n",
              "      <td>NaN</td>\n",
              "      <td>NaN</td>\n",
              "      <td>NaN</td>\n",
              "      <td>NaN</td>\n",
              "      <td>NaN</td>\n",
              "      <td>NaN</td>\n",
              "      <td>NaN</td>\n",
              "      <td>NaN</td>\n",
              "      <td>NaN</td>\n",
              "      <td>NaN</td>\n",
              "      <td>NaN</td>\n",
              "      <td>NaN</td>\n",
              "      <td>NaN</td>\n",
              "      <td>NaN</td>\n",
              "      <td>NaN</td>\n",
              "      <td>NaN</td>\n",
              "      <td>NaN</td>\n",
              "      <td>NaN</td>\n",
              "      <td>NaN</td>\n",
              "    </tr>\n",
              "    <tr>\n",
              "      <th>3</th>\n",
              "      <td>JVMJ4RMM</td>\n",
              "      <td>journalArticle</td>\n",
              "      <td>2020.0</td>\n",
              "      <td>Stray, Jonathan</td>\n",
              "      <td>Aligning AI Optimization to Community Well-Being</td>\n",
              "      <td>International Journal of Community Well-Being</td>\n",
              "      <td>NaN</td>\n",
              "      <td>2524-5295, 2524-5309</td>\n",
              "      <td>10.1007/s42413-020-00086-3</td>\n",
              "      <td>http://link.springer.com/10.1007/s42413-020-00...</td>\n",
              "      <td>NaN</td>\n",
              "      <td>2020-12</td>\n",
              "      <td>2022-01-30 04:47:36</td>\n",
              "      <td>2022-01-30 04:47:36</td>\n",
              "      <td>2021-11-13 22:47:54</td>\n",
              "      <td>443-463</td>\n",
              "      <td>NaN</td>\n",
              "      <td>4</td>\n",
              "      <td>3.0</td>\n",
              "      <td>NaN</td>\n",
              "      <td>Int. Journal of Com. WB</td>\n",
              "      <td>NaN</td>\n",
              "      <td>NaN</td>\n",
              "      <td>NaN</td>\n",
              "      <td>NaN</td>\n",
              "      <td>NaN</td>\n",
              "      <td>NaN</td>\n",
              "      <td>NaN</td>\n",
              "      <td>en</td>\n",
              "      <td>NaN</td>\n",
              "      <td>NaN</td>\n",
              "      <td>NaN</td>\n",
              "      <td>NaN</td>\n",
              "      <td>DOI.org (Crossref)</td>\n",
              "      <td>NaN</td>\n",
              "      <td>ZSCC: 0000010</td>\n",
              "      <td>NaN</td>\n",
              "      <td>/Users/jacquesthibodeau/Zotero/storage/V3BEV7X...</td>\n",
              "      <td>NaN</td>\n",
              "      <td>UnsortedSafety</td>\n",
              "      <td>...</td>\n",
              "      <td>NaN</td>\n",
              "      <td>NaN</td>\n",
              "      <td>NaN</td>\n",
              "      <td>NaN</td>\n",
              "      <td>NaN</td>\n",
              "      <td>NaN</td>\n",
              "      <td>NaN</td>\n",
              "      <td>NaN</td>\n",
              "      <td>NaN</td>\n",
              "      <td>NaN</td>\n",
              "      <td>NaN</td>\n",
              "      <td>NaN</td>\n",
              "      <td>NaN</td>\n",
              "      <td>NaN</td>\n",
              "      <td>NaN</td>\n",
              "      <td>NaN</td>\n",
              "      <td>NaN</td>\n",
              "      <td>NaN</td>\n",
              "      <td>NaN</td>\n",
              "      <td>NaN</td>\n",
              "      <td>NaN</td>\n",
              "      <td>NaN</td>\n",
              "      <td>NaN</td>\n",
              "      <td>NaN</td>\n",
              "      <td>NaN</td>\n",
              "      <td>NaN</td>\n",
              "      <td>NaN</td>\n",
              "      <td>NaN</td>\n",
              "      <td>NaN</td>\n",
              "      <td>NaN</td>\n",
              "      <td>NaN</td>\n",
              "      <td>NaN</td>\n",
              "      <td>NaN</td>\n",
              "      <td>NaN</td>\n",
              "      <td>NaN</td>\n",
              "      <td>NaN</td>\n",
              "      <td>NaN</td>\n",
              "      <td>NaN</td>\n",
              "      <td>NaN</td>\n",
              "      <td>NaN</td>\n",
              "    </tr>\n",
              "    <tr>\n",
              "      <th>4</th>\n",
              "      <td>W8F6VI9I</td>\n",
              "      <td>thesis</td>\n",
              "      <td>2020.0</td>\n",
              "      <td>Shah, Rohin Monish</td>\n",
              "      <td>Extracting and Using Preference Information fr...</td>\n",
              "      <td>NaN</td>\n",
              "      <td>NaN</td>\n",
              "      <td>NaN</td>\n",
              "      <td>NaN</td>\n",
              "      <td>https://www.proquest.com/openview/da8bf63ef343...</td>\n",
              "      <td>Typically when learning about what people want...</td>\n",
              "      <td>2020-12-17</td>\n",
              "      <td>2022-01-30 04:47:35</td>\n",
              "      <td>2022-01-30 04:47:35</td>\n",
              "      <td>NaN</td>\n",
              "      <td>NaN</td>\n",
              "      <td>24.0</td>\n",
              "      <td>NaN</td>\n",
              "      <td>NaN</td>\n",
              "      <td>NaN</td>\n",
              "      <td>NaN</td>\n",
              "      <td>NaN</td>\n",
              "      <td>NaN</td>\n",
              "      <td>NaN</td>\n",
              "      <td>NaN</td>\n",
              "      <td>NaN</td>\n",
              "      <td>University of California, Berkeley</td>\n",
              "      <td>Berkeley, CA</td>\n",
              "      <td>en</td>\n",
              "      <td>NaN</td>\n",
              "      <td>NaN</td>\n",
              "      <td>NaN</td>\n",
              "      <td>NaN</td>\n",
              "      <td>Zotero</td>\n",
              "      <td>NaN</td>\n",
              "      <td>ZSCC: 0000000</td>\n",
              "      <td>NaN</td>\n",
              "      <td>/Users/jacquesthibodeau/Zotero/storage/S96M3KT...</td>\n",
              "      <td>NaN</td>\n",
              "      <td>UnsortedSafety</td>\n",
              "      <td>...</td>\n",
              "      <td>NaN</td>\n",
              "      <td>NaN</td>\n",
              "      <td>NaN</td>\n",
              "      <td>NaN</td>\n",
              "      <td>NaN</td>\n",
              "      <td>NaN</td>\n",
              "      <td>NaN</td>\n",
              "      <td>NaN</td>\n",
              "      <td>NaN</td>\n",
              "      <td>NaN</td>\n",
              "      <td>NaN</td>\n",
              "      <td>NaN</td>\n",
              "      <td>NaN</td>\n",
              "      <td>NaN</td>\n",
              "      <td>NaN</td>\n",
              "      <td>NaN</td>\n",
              "      <td>NaN</td>\n",
              "      <td>NaN</td>\n",
              "      <td>NaN</td>\n",
              "      <td>NaN</td>\n",
              "      <td>NaN</td>\n",
              "      <td>NaN</td>\n",
              "      <td>NaN</td>\n",
              "      <td>NaN</td>\n",
              "      <td>NaN</td>\n",
              "      <td>NaN</td>\n",
              "      <td>NaN</td>\n",
              "      <td>NaN</td>\n",
              "      <td>NaN</td>\n",
              "      <td>NaN</td>\n",
              "      <td>NaN</td>\n",
              "      <td>NaN</td>\n",
              "      <td>NaN</td>\n",
              "      <td>NaN</td>\n",
              "      <td>NaN</td>\n",
              "      <td>NaN</td>\n",
              "      <td>NaN</td>\n",
              "      <td>NaN</td>\n",
              "      <td>NaN</td>\n",
              "      <td>NaN</td>\n",
              "    </tr>\n",
              "  </tbody>\n",
              "</table>\n",
              "<p>5 rows × 87 columns</p>\n",
              "</div>\n",
              "      <button class=\"colab-df-convert\" onclick=\"convertToInteractive('df-6ac1911b-27d5-4a8b-9f24-8e766efec705')\"\n",
              "              title=\"Convert this dataframe to an interactive table.\"\n",
              "              style=\"display:none;\">\n",
              "        \n",
              "  <svg xmlns=\"http://www.w3.org/2000/svg\" height=\"24px\"viewBox=\"0 0 24 24\"\n",
              "       width=\"24px\">\n",
              "    <path d=\"M0 0h24v24H0V0z\" fill=\"none\"/>\n",
              "    <path d=\"M18.56 5.44l.94 2.06.94-2.06 2.06-.94-2.06-.94-.94-2.06-.94 2.06-2.06.94zm-11 1L8.5 8.5l.94-2.06 2.06-.94-2.06-.94L8.5 2.5l-.94 2.06-2.06.94zm10 10l.94 2.06.94-2.06 2.06-.94-2.06-.94-.94-2.06-.94 2.06-2.06.94z\"/><path d=\"M17.41 7.96l-1.37-1.37c-.4-.4-.92-.59-1.43-.59-.52 0-1.04.2-1.43.59L10.3 9.45l-7.72 7.72c-.78.78-.78 2.05 0 2.83L4 21.41c.39.39.9.59 1.41.59.51 0 1.02-.2 1.41-.59l7.78-7.78 2.81-2.81c.8-.78.8-2.07 0-2.86zM5.41 20L4 18.59l7.72-7.72 1.47 1.35L5.41 20z\"/>\n",
              "  </svg>\n",
              "      </button>\n",
              "      \n",
              "  <style>\n",
              "    .colab-df-container {\n",
              "      display:flex;\n",
              "      flex-wrap:wrap;\n",
              "      gap: 12px;\n",
              "    }\n",
              "\n",
              "    .colab-df-convert {\n",
              "      background-color: #E8F0FE;\n",
              "      border: none;\n",
              "      border-radius: 50%;\n",
              "      cursor: pointer;\n",
              "      display: none;\n",
              "      fill: #1967D2;\n",
              "      height: 32px;\n",
              "      padding: 0 0 0 0;\n",
              "      width: 32px;\n",
              "    }\n",
              "\n",
              "    .colab-df-convert:hover {\n",
              "      background-color: #E2EBFA;\n",
              "      box-shadow: 0px 1px 2px rgba(60, 64, 67, 0.3), 0px 1px 3px 1px rgba(60, 64, 67, 0.15);\n",
              "      fill: #174EA6;\n",
              "    }\n",
              "\n",
              "    [theme=dark] .colab-df-convert {\n",
              "      background-color: #3B4455;\n",
              "      fill: #D2E3FC;\n",
              "    }\n",
              "\n",
              "    [theme=dark] .colab-df-convert:hover {\n",
              "      background-color: #434B5C;\n",
              "      box-shadow: 0px 1px 3px 1px rgba(0, 0, 0, 0.15);\n",
              "      filter: drop-shadow(0px 1px 2px rgba(0, 0, 0, 0.3));\n",
              "      fill: #FFFFFF;\n",
              "    }\n",
              "  </style>\n",
              "\n",
              "      <script>\n",
              "        const buttonEl =\n",
              "          document.querySelector('#df-6ac1911b-27d5-4a8b-9f24-8e766efec705 button.colab-df-convert');\n",
              "        buttonEl.style.display =\n",
              "          google.colab.kernel.accessAllowed ? 'block' : 'none';\n",
              "\n",
              "        async function convertToInteractive(key) {\n",
              "          const element = document.querySelector('#df-6ac1911b-27d5-4a8b-9f24-8e766efec705');\n",
              "          const dataTable =\n",
              "            await google.colab.kernel.invokeFunction('convertToInteractive',\n",
              "                                                     [key], {});\n",
              "          if (!dataTable) return;\n",
              "\n",
              "          const docLinkHtml = 'Like what you see? Visit the ' +\n",
              "            '<a target=\"_blank\" href=https://colab.research.google.com/notebooks/data_table.ipynb>data table notebook</a>'\n",
              "            + ' to learn more about interactive tables.';\n",
              "          element.innerHTML = '';\n",
              "          dataTable['output_type'] = 'display_data';\n",
              "          await google.colab.output.renderOutput(dataTable, element);\n",
              "          const docLink = document.createElement('div');\n",
              "          docLink.innerHTML = docLinkHtml;\n",
              "          element.appendChild(docLink);\n",
              "        }\n",
              "      </script>\n",
              "    </div>\n",
              "  </div>\n",
              "  "
            ],
            "text/plain": [
              "        Key       Item Type  ...  History Legislative Body\n",
              "0  XBZAPQFK        blogPost  ...      NaN              NaN\n",
              "1  HX9UZ5JP  journalArticle  ...      NaN              NaN\n",
              "2  BQCZM53S        blogPost  ...      NaN              NaN\n",
              "3  JVMJ4RMM  journalArticle  ...      NaN              NaN\n",
              "4  W8F6VI9I          thesis  ...      NaN              NaN\n",
              "\n",
              "[5 rows x 87 columns]"
            ]
          },
          "metadata": {},
          "execution_count": 8
        }
      ]
    },
    {
      "cell_type": "code",
      "source": [
        "df['Item Type'].unique()"
      ],
      "metadata": {
        "colab": {
          "base_uri": "https://localhost:8080/"
        },
        "id": "h9EhbqMYAv2_",
        "outputId": "9955ae95-ec0a-4791-d675-fe41c67b82d6"
      },
      "execution_count": 9,
      "outputs": [
        {
          "output_type": "execute_result",
          "data": {
            "text/plain": [
              "array(['blogPost', 'journalArticle', 'thesis', 'conferencePaper',\n",
              "       'manuscript', 'report', 'bookSection', 'magazineArticle', 'book'],\n",
              "      dtype=object)"
            ]
          },
          "metadata": {},
          "execution_count": 9
        }
      ]
    },
    {
      "cell_type": "code",
      "source": [
        "item_nums = []\n",
        "for item in df['Item Type'].unique():\n",
        "    item_nums.append([item, len(df[df['Item Type'] == item])])\n",
        "\n",
        "item_nums.sort(key=lambda x:x[1])\n",
        "item_nums"
      ],
      "metadata": {
        "colab": {
          "base_uri": "https://localhost:8080/"
        },
        "id": "RsXK6OGkGA_F",
        "outputId": "6ed0897c-3f69-4607-c128-721ccc3dee41"
      },
      "execution_count": 10,
      "outputs": [
        {
          "output_type": "execute_result",
          "data": {
            "text/plain": [
              "[['magazineArticle', 2],\n",
              " ['thesis', 3],\n",
              " ['book', 13],\n",
              " ['bookSection', 52],\n",
              " ['report', 87],\n",
              " ['manuscript', 154],\n",
              " ['journalArticle', 170],\n",
              " ['conferencePaper', 262],\n",
              " ['blogPost', 421]]"
            ]
          },
          "metadata": {},
          "execution_count": 10
        }
      ]
    },
    {
      "cell_type": "code",
      "source": [
        "df[df['Item Type'] == 'journalArticle'].head()"
      ],
      "metadata": {
        "colab": {
          "base_uri": "https://localhost:8080/",
          "height": 716
        },
        "id": "niZZINK1Av78",
        "outputId": "cde9aae7-da87-428f-b370-0b6464ff52ee"
      },
      "execution_count": 11,
      "outputs": [
        {
          "output_type": "execute_result",
          "data": {
            "text/html": [
              "\n",
              "  <div id=\"df-3b6f3dfa-11bc-427d-9b75-47b62f54070d\">\n",
              "    <div class=\"colab-df-container\">\n",
              "      <div>\n",
              "<style scoped>\n",
              "    .dataframe tbody tr th:only-of-type {\n",
              "        vertical-align: middle;\n",
              "    }\n",
              "\n",
              "    .dataframe tbody tr th {\n",
              "        vertical-align: top;\n",
              "    }\n",
              "\n",
              "    .dataframe thead th {\n",
              "        text-align: right;\n",
              "    }\n",
              "</style>\n",
              "<table border=\"1\" class=\"dataframe\">\n",
              "  <thead>\n",
              "    <tr style=\"text-align: right;\">\n",
              "      <th></th>\n",
              "      <th>Key</th>\n",
              "      <th>Item Type</th>\n",
              "      <th>Publication Year</th>\n",
              "      <th>Author</th>\n",
              "      <th>Title</th>\n",
              "      <th>Publication Title</th>\n",
              "      <th>ISBN</th>\n",
              "      <th>ISSN</th>\n",
              "      <th>DOI</th>\n",
              "      <th>Url</th>\n",
              "      <th>Abstract Note</th>\n",
              "      <th>Date</th>\n",
              "      <th>Date Added</th>\n",
              "      <th>Date Modified</th>\n",
              "      <th>Access Date</th>\n",
              "      <th>Pages</th>\n",
              "      <th>Num Pages</th>\n",
              "      <th>Issue</th>\n",
              "      <th>Volume</th>\n",
              "      <th>Number Of Volumes</th>\n",
              "      <th>Journal Abbreviation</th>\n",
              "      <th>Short Title</th>\n",
              "      <th>Series</th>\n",
              "      <th>Series Number</th>\n",
              "      <th>Series Text</th>\n",
              "      <th>Series Title</th>\n",
              "      <th>Publisher</th>\n",
              "      <th>Place</th>\n",
              "      <th>Language</th>\n",
              "      <th>Rights</th>\n",
              "      <th>Type</th>\n",
              "      <th>Archive</th>\n",
              "      <th>Archive Location</th>\n",
              "      <th>Library Catalog</th>\n",
              "      <th>Call Number</th>\n",
              "      <th>Extra</th>\n",
              "      <th>Notes</th>\n",
              "      <th>File Attachments</th>\n",
              "      <th>Link Attachments</th>\n",
              "      <th>Manual Tags</th>\n",
              "      <th>...</th>\n",
              "      <th>Cast Member</th>\n",
              "      <th>Commenter</th>\n",
              "      <th>Composer</th>\n",
              "      <th>Cosponsor</th>\n",
              "      <th>Counsel</th>\n",
              "      <th>Interviewer</th>\n",
              "      <th>Producer</th>\n",
              "      <th>Recipient</th>\n",
              "      <th>Reviewed Author</th>\n",
              "      <th>Scriptwriter</th>\n",
              "      <th>Words By</th>\n",
              "      <th>Guest</th>\n",
              "      <th>Number</th>\n",
              "      <th>Edition</th>\n",
              "      <th>Running Time</th>\n",
              "      <th>Scale</th>\n",
              "      <th>Medium</th>\n",
              "      <th>Artwork Size</th>\n",
              "      <th>Filing Date</th>\n",
              "      <th>Application Number</th>\n",
              "      <th>Assignee</th>\n",
              "      <th>Issuing Authority</th>\n",
              "      <th>Country</th>\n",
              "      <th>Meeting Name</th>\n",
              "      <th>Conference Name</th>\n",
              "      <th>Court</th>\n",
              "      <th>References</th>\n",
              "      <th>Reporter</th>\n",
              "      <th>Legal Status</th>\n",
              "      <th>Priority Numbers</th>\n",
              "      <th>Programming Language</th>\n",
              "      <th>Version</th>\n",
              "      <th>System</th>\n",
              "      <th>Code</th>\n",
              "      <th>Code Number</th>\n",
              "      <th>Section</th>\n",
              "      <th>Session</th>\n",
              "      <th>Committee</th>\n",
              "      <th>History</th>\n",
              "      <th>Legislative Body</th>\n",
              "    </tr>\n",
              "  </thead>\n",
              "  <tbody>\n",
              "    <tr>\n",
              "      <th>1</th>\n",
              "      <td>HX9UZ5JP</td>\n",
              "      <td>journalArticle</td>\n",
              "      <td>2020.0</td>\n",
              "      <td>Cihon, Peter; Maas, Matthijs M.; Kemp, Luke</td>\n",
              "      <td>Fragmentation and the Future: Investigating Ar...</td>\n",
              "      <td>Global Policy</td>\n",
              "      <td>NaN</td>\n",
              "      <td>1758-5899</td>\n",
              "      <td>10.1111/1758-5899.12890</td>\n",
              "      <td>https://onlinelibrary.wiley.com/doi/abs/10.111...</td>\n",
              "      <td>The international governance of artificial int...</td>\n",
              "      <td>2020</td>\n",
              "      <td>2022-01-30 04:47:43</td>\n",
              "      <td>2022-01-30 04:47:43</td>\n",
              "      <td>2021-11-13 15:58:24</td>\n",
              "      <td>545-556</td>\n",
              "      <td>NaN</td>\n",
              "      <td>5</td>\n",
              "      <td>11.0</td>\n",
              "      <td>NaN</td>\n",
              "      <td>NaN</td>\n",
              "      <td>Fragmentation and the Future</td>\n",
              "      <td>NaN</td>\n",
              "      <td>NaN</td>\n",
              "      <td>NaN</td>\n",
              "      <td>NaN</td>\n",
              "      <td>NaN</td>\n",
              "      <td>NaN</td>\n",
              "      <td>en</td>\n",
              "      <td>NaN</td>\n",
              "      <td>NaN</td>\n",
              "      <td>NaN</td>\n",
              "      <td>NaN</td>\n",
              "      <td>Wiley Online Library</td>\n",
              "      <td>NaN</td>\n",
              "      <td>ZSCC: 0000010  _eprint: https://onlinelibrary....</td>\n",
              "      <td>NaN</td>\n",
              "      <td>/Users/jacquesthibodeau/Zotero/storage/2TZBI3F...</td>\n",
              "      <td>NaN</td>\n",
              "      <td>UnsortedSafety</td>\n",
              "      <td>...</td>\n",
              "      <td>NaN</td>\n",
              "      <td>NaN</td>\n",
              "      <td>NaN</td>\n",
              "      <td>NaN</td>\n",
              "      <td>NaN</td>\n",
              "      <td>NaN</td>\n",
              "      <td>NaN</td>\n",
              "      <td>NaN</td>\n",
              "      <td>NaN</td>\n",
              "      <td>NaN</td>\n",
              "      <td>NaN</td>\n",
              "      <td>NaN</td>\n",
              "      <td>NaN</td>\n",
              "      <td>NaN</td>\n",
              "      <td>NaN</td>\n",
              "      <td>NaN</td>\n",
              "      <td>NaN</td>\n",
              "      <td>NaN</td>\n",
              "      <td>NaN</td>\n",
              "      <td>NaN</td>\n",
              "      <td>NaN</td>\n",
              "      <td>NaN</td>\n",
              "      <td>NaN</td>\n",
              "      <td>NaN</td>\n",
              "      <td>NaN</td>\n",
              "      <td>NaN</td>\n",
              "      <td>NaN</td>\n",
              "      <td>NaN</td>\n",
              "      <td>NaN</td>\n",
              "      <td>NaN</td>\n",
              "      <td>NaN</td>\n",
              "      <td>NaN</td>\n",
              "      <td>NaN</td>\n",
              "      <td>NaN</td>\n",
              "      <td>NaN</td>\n",
              "      <td>NaN</td>\n",
              "      <td>NaN</td>\n",
              "      <td>NaN</td>\n",
              "      <td>NaN</td>\n",
              "      <td>NaN</td>\n",
              "    </tr>\n",
              "    <tr>\n",
              "      <th>3</th>\n",
              "      <td>JVMJ4RMM</td>\n",
              "      <td>journalArticle</td>\n",
              "      <td>2020.0</td>\n",
              "      <td>Stray, Jonathan</td>\n",
              "      <td>Aligning AI Optimization to Community Well-Being</td>\n",
              "      <td>International Journal of Community Well-Being</td>\n",
              "      <td>NaN</td>\n",
              "      <td>2524-5295, 2524-5309</td>\n",
              "      <td>10.1007/s42413-020-00086-3</td>\n",
              "      <td>http://link.springer.com/10.1007/s42413-020-00...</td>\n",
              "      <td>NaN</td>\n",
              "      <td>2020-12</td>\n",
              "      <td>2022-01-30 04:47:36</td>\n",
              "      <td>2022-01-30 04:47:36</td>\n",
              "      <td>2021-11-13 22:47:54</td>\n",
              "      <td>443-463</td>\n",
              "      <td>NaN</td>\n",
              "      <td>4</td>\n",
              "      <td>3.0</td>\n",
              "      <td>NaN</td>\n",
              "      <td>Int. Journal of Com. WB</td>\n",
              "      <td>NaN</td>\n",
              "      <td>NaN</td>\n",
              "      <td>NaN</td>\n",
              "      <td>NaN</td>\n",
              "      <td>NaN</td>\n",
              "      <td>NaN</td>\n",
              "      <td>NaN</td>\n",
              "      <td>en</td>\n",
              "      <td>NaN</td>\n",
              "      <td>NaN</td>\n",
              "      <td>NaN</td>\n",
              "      <td>NaN</td>\n",
              "      <td>DOI.org (Crossref)</td>\n",
              "      <td>NaN</td>\n",
              "      <td>ZSCC: 0000010</td>\n",
              "      <td>NaN</td>\n",
              "      <td>/Users/jacquesthibodeau/Zotero/storage/V3BEV7X...</td>\n",
              "      <td>NaN</td>\n",
              "      <td>UnsortedSafety</td>\n",
              "      <td>...</td>\n",
              "      <td>NaN</td>\n",
              "      <td>NaN</td>\n",
              "      <td>NaN</td>\n",
              "      <td>NaN</td>\n",
              "      <td>NaN</td>\n",
              "      <td>NaN</td>\n",
              "      <td>NaN</td>\n",
              "      <td>NaN</td>\n",
              "      <td>NaN</td>\n",
              "      <td>NaN</td>\n",
              "      <td>NaN</td>\n",
              "      <td>NaN</td>\n",
              "      <td>NaN</td>\n",
              "      <td>NaN</td>\n",
              "      <td>NaN</td>\n",
              "      <td>NaN</td>\n",
              "      <td>NaN</td>\n",
              "      <td>NaN</td>\n",
              "      <td>NaN</td>\n",
              "      <td>NaN</td>\n",
              "      <td>NaN</td>\n",
              "      <td>NaN</td>\n",
              "      <td>NaN</td>\n",
              "      <td>NaN</td>\n",
              "      <td>NaN</td>\n",
              "      <td>NaN</td>\n",
              "      <td>NaN</td>\n",
              "      <td>NaN</td>\n",
              "      <td>NaN</td>\n",
              "      <td>NaN</td>\n",
              "      <td>NaN</td>\n",
              "      <td>NaN</td>\n",
              "      <td>NaN</td>\n",
              "      <td>NaN</td>\n",
              "      <td>NaN</td>\n",
              "      <td>NaN</td>\n",
              "      <td>NaN</td>\n",
              "      <td>NaN</td>\n",
              "      <td>NaN</td>\n",
              "      <td>NaN</td>\n",
              "    </tr>\n",
              "    <tr>\n",
              "      <th>11</th>\n",
              "      <td>TK5F29IU</td>\n",
              "      <td>journalArticle</td>\n",
              "      <td>2021.0</td>\n",
              "      <td>Hayden, Benjamin; Niv, Yael</td>\n",
              "      <td>The case against economic values in the orbito...</td>\n",
              "      <td>Behavioral Neuroscience</td>\n",
              "      <td>NaN</td>\n",
              "      <td>NaN</td>\n",
              "      <td>10.1037/bne0000448</td>\n",
              "      <td>https://osf.io/7hgup</td>\n",
              "      <td>Much of traditional neuroeconomics proceeds fr...</td>\n",
              "      <td>2021</td>\n",
              "      <td>2022-01-30 04:48:47</td>\n",
              "      <td>2022-01-30 04:48:47</td>\n",
              "      <td>2021-11-08 23:41:47</td>\n",
              "      <td>192-201</td>\n",
              "      <td>NaN</td>\n",
              "      <td>2</td>\n",
              "      <td>135.0</td>\n",
              "      <td>NaN</td>\n",
              "      <td>NaN</td>\n",
              "      <td>NaN</td>\n",
              "      <td>NaN</td>\n",
              "      <td>NaN</td>\n",
              "      <td>NaN</td>\n",
              "      <td>NaN</td>\n",
              "      <td>NaN</td>\n",
              "      <td>NaN</td>\n",
              "      <td>NaN</td>\n",
              "      <td>NaN</td>\n",
              "      <td>NaN</td>\n",
              "      <td>NaN</td>\n",
              "      <td>NaN</td>\n",
              "      <td>DOI.org (Crossref)</td>\n",
              "      <td>NaN</td>\n",
              "      <td>ZSCC: 0000026  DOI: 10.31234/osf.io/7hgup</td>\n",
              "      <td>NaN</td>\n",
              "      <td>NaN</td>\n",
              "      <td>NaN</td>\n",
              "      <td>UnsortedSafety</td>\n",
              "      <td>...</td>\n",
              "      <td>NaN</td>\n",
              "      <td>NaN</td>\n",
              "      <td>NaN</td>\n",
              "      <td>NaN</td>\n",
              "      <td>NaN</td>\n",
              "      <td>NaN</td>\n",
              "      <td>NaN</td>\n",
              "      <td>NaN</td>\n",
              "      <td>NaN</td>\n",
              "      <td>NaN</td>\n",
              "      <td>NaN</td>\n",
              "      <td>NaN</td>\n",
              "      <td>NaN</td>\n",
              "      <td>NaN</td>\n",
              "      <td>NaN</td>\n",
              "      <td>NaN</td>\n",
              "      <td>NaN</td>\n",
              "      <td>NaN</td>\n",
              "      <td>NaN</td>\n",
              "      <td>NaN</td>\n",
              "      <td>NaN</td>\n",
              "      <td>NaN</td>\n",
              "      <td>NaN</td>\n",
              "      <td>NaN</td>\n",
              "      <td>NaN</td>\n",
              "      <td>NaN</td>\n",
              "      <td>NaN</td>\n",
              "      <td>NaN</td>\n",
              "      <td>NaN</td>\n",
              "      <td>NaN</td>\n",
              "      <td>NaN</td>\n",
              "      <td>NaN</td>\n",
              "      <td>NaN</td>\n",
              "      <td>NaN</td>\n",
              "      <td>NaN</td>\n",
              "      <td>NaN</td>\n",
              "      <td>NaN</td>\n",
              "      <td>NaN</td>\n",
              "      <td>NaN</td>\n",
              "      <td>NaN</td>\n",
              "    </tr>\n",
              "    <tr>\n",
              "      <th>25</th>\n",
              "      <td>NHWZIKZ2</td>\n",
              "      <td>journalArticle</td>\n",
              "      <td>2020.0</td>\n",
              "      <td>Fernandes, Pedro; Santos, Francisco C.; Lopes,...</td>\n",
              "      <td>Norms for Beneficial A.I.: A Computational Ana...</td>\n",
              "      <td>AI Communications</td>\n",
              "      <td>NaN</td>\n",
              "      <td>18758452, 09217126</td>\n",
              "      <td>10.3233/AIC-201502</td>\n",
              "      <td>http://arxiv.org/abs/1907.03843</td>\n",
              "      <td>The rise of artificial intelligence (A.I.) bas...</td>\n",
              "      <td>2020-12-18</td>\n",
              "      <td>2022-01-30 04:48:46</td>\n",
              "      <td>2022-01-30 04:48:46</td>\n",
              "      <td>2021-11-13 22:40:37</td>\n",
              "      <td>155-171</td>\n",
              "      <td>NaN</td>\n",
              "      <td>3-6</td>\n",
              "      <td>33.0</td>\n",
              "      <td>NaN</td>\n",
              "      <td>AIC</td>\n",
              "      <td>Norms for Beneficial A.I.</td>\n",
              "      <td>NaN</td>\n",
              "      <td>NaN</td>\n",
              "      <td>NaN</td>\n",
              "      <td>NaN</td>\n",
              "      <td>NaN</td>\n",
              "      <td>NaN</td>\n",
              "      <td>NaN</td>\n",
              "      <td>NaN</td>\n",
              "      <td>NaN</td>\n",
              "      <td>NaN</td>\n",
              "      <td>NaN</td>\n",
              "      <td>arXiv.org</td>\n",
              "      <td>NaN</td>\n",
              "      <td>ZSCC: 0000004  arXiv: 1907.03843</td>\n",
              "      <td>NaN</td>\n",
              "      <td>/Users/jacquesthibodeau/Zotero/storage/JAVXSVN...</td>\n",
              "      <td>NaN</td>\n",
              "      <td>UnsortedSafety</td>\n",
              "      <td>...</td>\n",
              "      <td>NaN</td>\n",
              "      <td>NaN</td>\n",
              "      <td>NaN</td>\n",
              "      <td>NaN</td>\n",
              "      <td>NaN</td>\n",
              "      <td>NaN</td>\n",
              "      <td>NaN</td>\n",
              "      <td>NaN</td>\n",
              "      <td>NaN</td>\n",
              "      <td>NaN</td>\n",
              "      <td>NaN</td>\n",
              "      <td>NaN</td>\n",
              "      <td>NaN</td>\n",
              "      <td>NaN</td>\n",
              "      <td>NaN</td>\n",
              "      <td>NaN</td>\n",
              "      <td>NaN</td>\n",
              "      <td>NaN</td>\n",
              "      <td>NaN</td>\n",
              "      <td>NaN</td>\n",
              "      <td>NaN</td>\n",
              "      <td>NaN</td>\n",
              "      <td>NaN</td>\n",
              "      <td>NaN</td>\n",
              "      <td>NaN</td>\n",
              "      <td>NaN</td>\n",
              "      <td>NaN</td>\n",
              "      <td>NaN</td>\n",
              "      <td>NaN</td>\n",
              "      <td>NaN</td>\n",
              "      <td>NaN</td>\n",
              "      <td>NaN</td>\n",
              "      <td>NaN</td>\n",
              "      <td>NaN</td>\n",
              "      <td>NaN</td>\n",
              "      <td>NaN</td>\n",
              "      <td>NaN</td>\n",
              "      <td>NaN</td>\n",
              "      <td>NaN</td>\n",
              "      <td>NaN</td>\n",
              "    </tr>\n",
              "    <tr>\n",
              "      <th>30</th>\n",
              "      <td>HDWGJGAP</td>\n",
              "      <td>journalArticle</td>\n",
              "      <td>2021.0</td>\n",
              "      <td>Mingard, Chris; Valle-Pérez, Guillermo; Skalse...</td>\n",
              "      <td>Is SGD a Bayesian sampler? Well, almost</td>\n",
              "      <td>Journal of Machine Learning Research</td>\n",
              "      <td>NaN</td>\n",
              "      <td>NaN</td>\n",
              "      <td>NaN</td>\n",
              "      <td>http://arxiv.org/abs/2006.15191</td>\n",
              "      <td>Overparameterised deep neural networks (DNNs) ...</td>\n",
              "      <td>2021-02</td>\n",
              "      <td>2022-01-30 04:48:46</td>\n",
              "      <td>2022-01-30 04:48:46</td>\n",
              "      <td>2021-11-13 22:56:31</td>\n",
              "      <td>NaN</td>\n",
              "      <td>NaN</td>\n",
              "      <td>NaN</td>\n",
              "      <td>22.0</td>\n",
              "      <td>NaN</td>\n",
              "      <td>NaN</td>\n",
              "      <td>Is SGD a Bayesian sampler?</td>\n",
              "      <td>NaN</td>\n",
              "      <td>NaN</td>\n",
              "      <td>NaN</td>\n",
              "      <td>NaN</td>\n",
              "      <td>NaN</td>\n",
              "      <td>NaN</td>\n",
              "      <td>NaN</td>\n",
              "      <td>NaN</td>\n",
              "      <td>NaN</td>\n",
              "      <td>NaN</td>\n",
              "      <td>NaN</td>\n",
              "      <td>arXiv.org</td>\n",
              "      <td>NaN</td>\n",
              "      <td>ZSCC: 0000009  arXiv: 2006.15191</td>\n",
              "      <td>NaN</td>\n",
              "      <td>/Users/jacquesthibodeau/Zotero/storage/ACV9IXE...</td>\n",
              "      <td>NaN</td>\n",
              "      <td>UnsortedSafety</td>\n",
              "      <td>...</td>\n",
              "      <td>NaN</td>\n",
              "      <td>NaN</td>\n",
              "      <td>NaN</td>\n",
              "      <td>NaN</td>\n",
              "      <td>NaN</td>\n",
              "      <td>NaN</td>\n",
              "      <td>NaN</td>\n",
              "      <td>NaN</td>\n",
              "      <td>NaN</td>\n",
              "      <td>NaN</td>\n",
              "      <td>NaN</td>\n",
              "      <td>NaN</td>\n",
              "      <td>NaN</td>\n",
              "      <td>NaN</td>\n",
              "      <td>NaN</td>\n",
              "      <td>NaN</td>\n",
              "      <td>NaN</td>\n",
              "      <td>NaN</td>\n",
              "      <td>NaN</td>\n",
              "      <td>NaN</td>\n",
              "      <td>NaN</td>\n",
              "      <td>NaN</td>\n",
              "      <td>NaN</td>\n",
              "      <td>NaN</td>\n",
              "      <td>NaN</td>\n",
              "      <td>NaN</td>\n",
              "      <td>NaN</td>\n",
              "      <td>NaN</td>\n",
              "      <td>NaN</td>\n",
              "      <td>NaN</td>\n",
              "      <td>NaN</td>\n",
              "      <td>NaN</td>\n",
              "      <td>NaN</td>\n",
              "      <td>NaN</td>\n",
              "      <td>NaN</td>\n",
              "      <td>NaN</td>\n",
              "      <td>NaN</td>\n",
              "      <td>NaN</td>\n",
              "      <td>NaN</td>\n",
              "      <td>NaN</td>\n",
              "    </tr>\n",
              "  </tbody>\n",
              "</table>\n",
              "<p>5 rows × 87 columns</p>\n",
              "</div>\n",
              "      <button class=\"colab-df-convert\" onclick=\"convertToInteractive('df-3b6f3dfa-11bc-427d-9b75-47b62f54070d')\"\n",
              "              title=\"Convert this dataframe to an interactive table.\"\n",
              "              style=\"display:none;\">\n",
              "        \n",
              "  <svg xmlns=\"http://www.w3.org/2000/svg\" height=\"24px\"viewBox=\"0 0 24 24\"\n",
              "       width=\"24px\">\n",
              "    <path d=\"M0 0h24v24H0V0z\" fill=\"none\"/>\n",
              "    <path d=\"M18.56 5.44l.94 2.06.94-2.06 2.06-.94-2.06-.94-.94-2.06-.94 2.06-2.06.94zm-11 1L8.5 8.5l.94-2.06 2.06-.94-2.06-.94L8.5 2.5l-.94 2.06-2.06.94zm10 10l.94 2.06.94-2.06 2.06-.94-2.06-.94-.94-2.06-.94 2.06-2.06.94z\"/><path d=\"M17.41 7.96l-1.37-1.37c-.4-.4-.92-.59-1.43-.59-.52 0-1.04.2-1.43.59L10.3 9.45l-7.72 7.72c-.78.78-.78 2.05 0 2.83L4 21.41c.39.39.9.59 1.41.59.51 0 1.02-.2 1.41-.59l7.78-7.78 2.81-2.81c.8-.78.8-2.07 0-2.86zM5.41 20L4 18.59l7.72-7.72 1.47 1.35L5.41 20z\"/>\n",
              "  </svg>\n",
              "      </button>\n",
              "      \n",
              "  <style>\n",
              "    .colab-df-container {\n",
              "      display:flex;\n",
              "      flex-wrap:wrap;\n",
              "      gap: 12px;\n",
              "    }\n",
              "\n",
              "    .colab-df-convert {\n",
              "      background-color: #E8F0FE;\n",
              "      border: none;\n",
              "      border-radius: 50%;\n",
              "      cursor: pointer;\n",
              "      display: none;\n",
              "      fill: #1967D2;\n",
              "      height: 32px;\n",
              "      padding: 0 0 0 0;\n",
              "      width: 32px;\n",
              "    }\n",
              "\n",
              "    .colab-df-convert:hover {\n",
              "      background-color: #E2EBFA;\n",
              "      box-shadow: 0px 1px 2px rgba(60, 64, 67, 0.3), 0px 1px 3px 1px rgba(60, 64, 67, 0.15);\n",
              "      fill: #174EA6;\n",
              "    }\n",
              "\n",
              "    [theme=dark] .colab-df-convert {\n",
              "      background-color: #3B4455;\n",
              "      fill: #D2E3FC;\n",
              "    }\n",
              "\n",
              "    [theme=dark] .colab-df-convert:hover {\n",
              "      background-color: #434B5C;\n",
              "      box-shadow: 0px 1px 3px 1px rgba(0, 0, 0, 0.15);\n",
              "      filter: drop-shadow(0px 1px 2px rgba(0, 0, 0, 0.3));\n",
              "      fill: #FFFFFF;\n",
              "    }\n",
              "  </style>\n",
              "\n",
              "      <script>\n",
              "        const buttonEl =\n",
              "          document.querySelector('#df-3b6f3dfa-11bc-427d-9b75-47b62f54070d button.colab-df-convert');\n",
              "        buttonEl.style.display =\n",
              "          google.colab.kernel.accessAllowed ? 'block' : 'none';\n",
              "\n",
              "        async function convertToInteractive(key) {\n",
              "          const element = document.querySelector('#df-3b6f3dfa-11bc-427d-9b75-47b62f54070d');\n",
              "          const dataTable =\n",
              "            await google.colab.kernel.invokeFunction('convertToInteractive',\n",
              "                                                     [key], {});\n",
              "          if (!dataTable) return;\n",
              "\n",
              "          const docLinkHtml = 'Like what you see? Visit the ' +\n",
              "            '<a target=\"_blank\" href=https://colab.research.google.com/notebooks/data_table.ipynb>data table notebook</a>'\n",
              "            + ' to learn more about interactive tables.';\n",
              "          element.innerHTML = '';\n",
              "          dataTable['output_type'] = 'display_data';\n",
              "          await google.colab.output.renderOutput(dataTable, element);\n",
              "          const docLink = document.createElement('div');\n",
              "          docLink.innerHTML = docLinkHtml;\n",
              "          element.appendChild(docLink);\n",
              "        }\n",
              "      </script>\n",
              "    </div>\n",
              "  </div>\n",
              "  "
            ],
            "text/plain": [
              "         Key       Item Type  ...  History Legislative Body\n",
              "1   HX9UZ5JP  journalArticle  ...      NaN              NaN\n",
              "3   JVMJ4RMM  journalArticle  ...      NaN              NaN\n",
              "11  TK5F29IU  journalArticle  ...      NaN              NaN\n",
              "25  NHWZIKZ2  journalArticle  ...      NaN              NaN\n",
              "30  HDWGJGAP  journalArticle  ...      NaN              NaN\n",
              "\n",
              "[5 rows x 87 columns]"
            ]
          },
          "metadata": {},
          "execution_count": 11
        }
      ]
    },
    {
      "cell_type": "markdown",
      "source": [
        "# Extract text from AI Alignment Resources"
      ],
      "metadata": {
        "id": "q4WhBM5lrPyD"
      }
    },
    {
      "cell_type": "code",
      "source": [
        "df_arxiv = df[df['Url'].str.contains('arxiv') == True]\n",
        "arxiv_paper_list = df_arxiv['Url'].values\n",
        "arxiv_paper_list[0:10]"
      ],
      "metadata": {
        "colab": {
          "base_uri": "https://localhost:8080/"
        },
        "id": "TaTb1nnZRrUE",
        "outputId": "7085d555-7048-47cb-9c44-4326307e45d3"
      },
      "execution_count": 34,
      "outputs": [
        {
          "output_type": "execute_result",
          "data": {
            "text/plain": [
              "array(['http://arxiv.org/abs/2002.11328',\n",
              "       'http://arxiv.org/abs/2010.11645',\n",
              "       'http://arxiv.org/abs/2002.11708',\n",
              "       'http://arxiv.org/abs/2012.10800',\n",
              "       'http://arxiv.org/abs/2011.08512',\n",
              "       'http://arxiv.org/abs/2002.11089',\n",
              "       'http://arxiv.org/abs/2012.05876',\n",
              "       'http://arxiv.org/abs/2010.14603',\n",
              "       'http://arxiv.org/abs/2005.01643',\n",
              "       'http://arxiv.org/abs/1907.03843'], dtype=object)"
            ]
          },
          "metadata": {},
          "execution_count": 34
        }
      ]
    },
    {
      "cell_type": "code",
      "source": [
        "# # Grabbing files from ar5iv in case source (LaTeX doesn't work)\n",
        "\n",
        "# def grab_text_from_webpage(url):\n",
        "#     with request.urlopen(url) as response:\n",
        "#         html = response.read()\n",
        "#     soup = BeautifulSoup(html, \"html.parser\")\n",
        "#     return soup.get_text(separator=\" \")\n",
        "\n",
        "# df_arxiv['Url'].str.replace('arxiv', 'ar5iv')\n",
        "# arxiv_paper = grab_text_from_webpage('http://ar5iv.org/abs/2002.11328')\n",
        "# arxiv_paper_list = arxiv_paper.split('\\n\\n')\n",
        "# list_text = BeautifulSoup(arxiv_paper, \"html.parser\").get_text(separator=\" \").split('\\n')\n",
        "# ''.join(list_text)"
      ],
      "metadata": {
        "id": "DTjcEYYLAwAd"
      },
      "execution_count": 35,
      "outputs": []
    },
    {
      "cell_type": "markdown",
      "source": [
        "## Extracting PDFs with Tika"
      ],
      "metadata": {
        "id": "CnAz2Ws6XONA"
      }
    },
    {
      "cell_type": "code",
      "source": [
        "def tikaTextExtractor(file_path):\n",
        "    \"\"\"Extracts text from a PDF using tika.\"\"\"\n",
        "    print(\"Extracting text from file: \" + file_path)\n",
        "    parsed_tika = parser.from_file(file_path)\n",
        "    return parsed_tika[\"content\"]"
      ],
      "metadata": {
        "id": "GtcCbZzznPE3"
      },
      "execution_count": 13,
      "outputs": []
    },
    {
      "cell_type": "code",
      "source": [
        "txt = tikaTextExtractor(str(RAW_DIR / 'pdfs' / 'Superintelligence.pdf'))"
      ],
      "metadata": {
        "colab": {
          "base_uri": "https://localhost:8080/"
        },
        "id": "Bvbi8ZEqnWTJ",
        "outputId": "e1293e03-3025-4f72-e197-19802dffa9e3"
      },
      "execution_count": 14,
      "outputs": [
        {
          "output_type": "stream",
          "name": "stdout",
          "text": [
            "Extracting text from file: data/raw/pdfs/Superintelligence.pdf\n"
          ]
        },
        {
          "output_type": "stream",
          "name": "stderr",
          "text": [
            "2022-02-19 02:51:47,757 [MainThread  ] [INFO ]  Retrieving http://search.maven.org/remotecontent?filepath=org/apache/tika/tika-server/1.24/tika-server-1.24.jar to /tmp/tika-server.jar.\n",
            "2022-02-19 02:51:48,259 [MainThread  ] [INFO ]  Retrieving http://search.maven.org/remotecontent?filepath=org/apache/tika/tika-server/1.24/tika-server-1.24.jar.md5 to /tmp/tika-server.jar.md5.\n",
            "2022-02-19 02:51:48,654 [MainThread  ] [WARNI]  Failed to see startup log message; retrying...\n"
          ]
        }
      ]
    },
    {
      "cell_type": "code",
      "source": [
        ""
      ],
      "metadata": {
        "id": "X2uluOML5Xhv"
      },
      "execution_count": null,
      "outputs": []
    },
    {
      "cell_type": "code",
      "source": [
        "with open(RAW_DIR / 'txts' / 'Superintelligence.txt', 'w') as f:\n",
        "    f.write(txt)"
      ],
      "metadata": {
        "id": "cmiZn7w8sopD"
      },
      "execution_count": null,
      "outputs": []
    },
    {
      "cell_type": "code",
      "source": [
        ""
      ],
      "metadata": {
        "id": "VdLu_LFRYZDO"
      },
      "execution_count": null,
      "outputs": []
    },
    {
      "cell_type": "code",
      "source": [
        "with request.urlopen('https://arxiv.org/e-print/2010.11645') as response:\n",
        "    html = response.read()"
      ],
      "metadata": {
        "id": "q5zCEol86qjM"
      },
      "execution_count": null,
      "outputs": []
    },
    {
      "cell_type": "code",
      "source": [
        "for i,link in enumerate(['https://arxiv.org/e-print/2010.11645']):\n",
        "    r = requests.get(link,allow_redirects=True)\n",
        "    with open(f\"a{i}.\",\"wb\") as code:\n",
        "        code.write(r.content)"
      ],
      "metadata": {
        "id": "wTsZ7T4t6qvE"
      },
      "execution_count": null,
      "outputs": []
    },
    {
      "cell_type": "code",
      "source": [
        ""
      ],
      "metadata": {
        "id": "cYFjBbmL-PGr"
      },
      "execution_count": null,
      "outputs": []
    },
    {
      "cell_type": "markdown",
      "source": [
        "## Extract LaTeX papers from arXiv"
      ],
      "metadata": {
        "id": "DIvoazD3XjV_"
      }
    },
    {
      "cell_type": "code",
      "source": [
        "paper = next(arxiv.Search(id_list=[\"2101.00027v1\"]).results())"
      ],
      "metadata": {
        "id": "JwzdUTI7FDl4"
      },
      "execution_count": 15,
      "outputs": []
    },
    {
      "cell_type": "code",
      "source": [
        "# paper.download_source(dirpath=TARS_DIR, filename=\"2101.00027v1.tar.gz\")"
      ],
      "metadata": {
        "colab": {
          "base_uri": "https://localhost:8080/",
          "height": 36
        },
        "id": "X4ociSItFDsz",
        "outputId": "790712e4-dc5f-4b2e-ecb4-0554d0dbb150"
      },
      "execution_count": 20,
      "outputs": [
        {
          "output_type": "execute_result",
          "data": {
            "application/vnd.google.colaboratory.intrinsic+json": {
              "type": "string"
            },
            "text/plain": [
              "'data/raw/tars/2101.00027v1.tar.gz'"
            ]
          },
          "metadata": {},
          "execution_count": 20
        }
      ]
    },
    {
      "cell_type": "code",
      "source": [
        "paper.entry_id"
      ],
      "metadata": {
        "colab": {
          "base_uri": "https://localhost:8080/",
          "height": 36
        },
        "id": "W3vvZWrRJk-W",
        "outputId": "5d09af12-f88f-4b4f-ae98-14aa8849f76a"
      },
      "execution_count": 19,
      "outputs": [
        {
          "output_type": "execute_result",
          "data": {
            "application/vnd.google.colaboratory.intrinsic+json": {
              "type": "string"
            },
            "text/plain": [
              "'http://arxiv.org/abs/2101.00027v1'"
            ]
          },
          "metadata": {},
          "execution_count": 19
        }
      ]
    },
    {
      "cell_type": "code",
      "source": [
        "if not os.path.exists(TARS_DIR / \"211.00027v1.tar.gz\"):\n",
        "    print('does not exists')"
      ],
      "metadata": {
        "colab": {
          "base_uri": "https://localhost:8080/"
        },
        "id": "weqKO1UrNp2e",
        "outputId": "3e647b51-78f1-461c-bb1c-90cf9c1fbd01"
      },
      "execution_count": 36,
      "outputs": [
        {
          "output_type": "stream",
          "name": "stdout",
          "text": [
            "does not exists\n"
          ]
        }
      ]
    },
    {
      "cell_type": "code",
      "source": [
        "def download_arxiv_paper_tar(paper_id, tar_filename):\n",
        "    paper = next(arxiv.Search(id_list=[paper_id]).results())\n",
        "    if not os.path.exists(str(TARS_DIR / tar_filename)):\n",
        "        paper.download_source(dirpath=TARS_DIR, filename=tar_filename)\n",
        "\n",
        "def extract_tex(tar_filename):\n",
        "    tar = tarfile.open(str(TARS_DIR / tar_filename))\n",
        "    for member in tar.getmembers():\n",
        "        if \".tex\" in member.name:\n",
        "            tex_filename = member.name\n",
        "            tar.extract(member, LATEX_DIR)\n",
        "    tar.close()\n",
        "    return tex_filename"
      ],
      "metadata": {
        "id": "HqPtQc8GJlQP"
      },
      "execution_count": 39,
      "outputs": []
    },
    {
      "cell_type": "code",
      "source": [
        "pickled_arxiv_list = str(RAW_DIR / \"arxiv_ids_and_names.pkl\")\n",
        "\n",
        "if not os.path.exists(pickled_arxiv_list):\n",
        "    arxiv_ids_and_names = []\n",
        "else:\n",
        "    pickle.load(pickled_arxiv_list)"
      ],
      "metadata": {
        "id": "NJSNa2ytZIYG"
      },
      "execution_count": 44,
      "outputs": []
    },
    {
      "cell_type": "code",
      "source": [
        "for paper_id in arxiv_paper_list:\n",
        "    paper_id = paper_id.split('/')[-1] + \"v1\"\n",
        "    tar_filename = paper_id + \".tar.gz\"\n",
        "    download_arxiv_paper_tar(paper_id, tar_filename)\n",
        "    if not os.path.exists(str(LATEX_DIR / tar_filename)):\n",
        "        tex_filename = extract_tex(tar_filename)\n",
        "    arxiv_ids_and_names.append([paper_id, tex_filename])\n"
      ],
      "metadata": {
        "id": "GAm1TLv_JlXw",
        "colab": {
          "base_uri": "https://localhost:8080/",
          "height": 318
        },
        "outputId": "03d529f9-6895-4713-9edb-2c39f08c9ac1"
      },
      "execution_count": 43,
      "outputs": [
        {
          "output_type": "stream",
          "name": "stdout",
          "text": [
            "editor.tex\n",
            "ms.tex\n",
            "TexFiles/Theory.tex\n",
            "TexFiles/Introduction.tex\n",
            "TexFiles/Experiments.tex\n",
            "TexFiles/Appendix.tex\n"
          ]
        },
        {
          "output_type": "error",
          "ename": "NameError",
          "evalue": "ignored",
          "traceback": [
            "\u001b[0;31m---------------------------------------------------------------------------\u001b[0m",
            "\u001b[0;31mNameError\u001b[0m                                 Traceback (most recent call last)",
            "\u001b[0;32m<ipython-input-43-e1402249cd44>\u001b[0m in \u001b[0;36m<module>\u001b[0;34m()\u001b[0m\n\u001b[1;32m      5\u001b[0m     \u001b[0;32mif\u001b[0m \u001b[0;32mnot\u001b[0m \u001b[0mos\u001b[0m\u001b[0;34m.\u001b[0m\u001b[0mpath\u001b[0m\u001b[0;34m.\u001b[0m\u001b[0mexists\u001b[0m\u001b[0;34m(\u001b[0m\u001b[0mstr\u001b[0m\u001b[0;34m(\u001b[0m\u001b[0mLATEX_DIR\u001b[0m \u001b[0;34m/\u001b[0m \u001b[0mtar_filename\u001b[0m\u001b[0;34m)\u001b[0m\u001b[0;34m)\u001b[0m\u001b[0;34m:\u001b[0m\u001b[0;34m\u001b[0m\u001b[0;34m\u001b[0m\u001b[0m\n\u001b[1;32m      6\u001b[0m         \u001b[0mtex_filename\u001b[0m \u001b[0;34m=\u001b[0m \u001b[0mextract_tex\u001b[0m\u001b[0;34m(\u001b[0m\u001b[0mtar_filename\u001b[0m\u001b[0;34m)\u001b[0m\u001b[0;34m\u001b[0m\u001b[0;34m\u001b[0m\u001b[0m\n\u001b[0;32m----> 7\u001b[0;31m     \u001b[0marxiv_ids_and_names\u001b[0m\u001b[0;34m.\u001b[0m\u001b[0mappend\u001b[0m\u001b[0;34m(\u001b[0m\u001b[0;34m[\u001b[0m\u001b[0mpaper_id\u001b[0m\u001b[0;34m,\u001b[0m \u001b[0mtex_filename\u001b[0m\u001b[0;34m]\u001b[0m\u001b[0;34m)\u001b[0m\u001b[0;34m\u001b[0m\u001b[0;34m\u001b[0m\u001b[0m\n\u001b[0m",
            "\u001b[0;31mNameError\u001b[0m: name 'arxiv_ids_and_names' is not defined"
          ]
        }
      ]
    },
    {
      "cell_type": "code",
      "source": [
        "with open('arxiv_ids_and_names.pkl', 'wb') as b:\n",
        "    pickle.dump(arxiv_ids_and_names, b)"
      ],
      "metadata": {
        "id": "XEOxzItJde5X"
      },
      "execution_count": null,
      "outputs": []
    },
    {
      "cell_type": "markdown",
      "source": [
        "## Convert LaTeX or EPUB with Pandoc"
      ],
      "metadata": {
        "id": "-17qzp78XwAv"
      }
    },
    {
      "cell_type": "code",
      "source": [
        "pandoc.read(file='/content/drive/MyDrive/code-projects/gpt-ai-safety/2006.15191')"
      ],
      "metadata": {
        "colab": {
          "base_uri": "https://localhost:8080/",
          "height": 361
        },
        "id": "oAU-KDql-PdU",
        "outputId": "28c39744-0f2f-41ed-d435-75b9f02254d6"
      },
      "execution_count": null,
      "outputs": [
        {
          "output_type": "error",
          "ename": "ProcessExecutionError",
          "evalue": "ignored",
          "traceback": [
            "\u001b[0;31m---------------------------------------------------------------------------\u001b[0m",
            "\u001b[0;31mProcessExecutionError\u001b[0m                     Traceback (most recent call last)",
            "\u001b[0;32m<ipython-input-30-1b93a80b7df0>\u001b[0m in \u001b[0;36m<module>\u001b[0;34m()\u001b[0m\n\u001b[0;32m----> 1\u001b[0;31m \u001b[0mpandoc\u001b[0m\u001b[0;34m.\u001b[0m\u001b[0mread\u001b[0m\u001b[0;34m(\u001b[0m\u001b[0mfile\u001b[0m\u001b[0;34m=\u001b[0m\u001b[0;34m'/content/drive/MyDrive/code-projects/gpt-ai-safety/2006.15191'\u001b[0m\u001b[0;34m)\u001b[0m\u001b[0;34m\u001b[0m\u001b[0;34m\u001b[0m\u001b[0m\n\u001b[0m",
            "\u001b[0;32m/usr/local/lib/python3.7/dist-packages/pandoc/__init__.py\u001b[0m in \u001b[0;36mread\u001b[0;34m(source, file, format, options)\u001b[0m\n\u001b[1;32m    196\u001b[0m             \u001b[0;34m+\u001b[0m \u001b[0;34m[\u001b[0m\u001b[0;34m\"-f\"\u001b[0m\u001b[0;34m,\u001b[0m \u001b[0mformat\u001b[0m\u001b[0;34m,\u001b[0m \u001b[0minput_path\u001b[0m\u001b[0;34m]\u001b[0m\u001b[0;34m\u001b[0m\u001b[0;34m\u001b[0m\u001b[0m\n\u001b[1;32m    197\u001b[0m         )\n\u001b[0;32m--> 198\u001b[0;31m         \u001b[0mpandoc\u001b[0m\u001b[0;34m(\u001b[0m\u001b[0moptions\u001b[0m\u001b[0;34m)\u001b[0m\u001b[0;34m\u001b[0m\u001b[0;34m\u001b[0m\u001b[0m\n\u001b[0m\u001b[1;32m    199\u001b[0m         \u001b[0mjson_file\u001b[0m \u001b[0;34m=\u001b[0m \u001b[0mopen\u001b[0m\u001b[0;34m(\u001b[0m\u001b[0moutput_path\u001b[0m\u001b[0;34m,\u001b[0m \u001b[0;34m\"r\"\u001b[0m\u001b[0;34m,\u001b[0m \u001b[0mencoding\u001b[0m\u001b[0;34m=\u001b[0m\u001b[0;34m\"utf-8\"\u001b[0m\u001b[0;34m)\u001b[0m\u001b[0;34m\u001b[0m\u001b[0;34m\u001b[0m\u001b[0m\n\u001b[1;32m    200\u001b[0m     \u001b[0mjson_\u001b[0m \u001b[0;34m=\u001b[0m \u001b[0mjson\u001b[0m\u001b[0;34m.\u001b[0m\u001b[0mload\u001b[0m\u001b[0;34m(\u001b[0m\u001b[0mjson_file\u001b[0m\u001b[0;34m)\u001b[0m\u001b[0;34m\u001b[0m\u001b[0;34m\u001b[0m\u001b[0m\n",
            "\u001b[0;32m/usr/local/lib/python3.7/dist-packages/plumbum/commands/base.py\u001b[0m in \u001b[0;36m__call__\u001b[0;34m(self, *args, **kwargs)\u001b[0m\n\u001b[1;32m     97\u001b[0m     \u001b[0;32mdef\u001b[0m \u001b[0m__call__\u001b[0m\u001b[0;34m(\u001b[0m\u001b[0mself\u001b[0m\u001b[0;34m,\u001b[0m \u001b[0;34m*\u001b[0m\u001b[0margs\u001b[0m\u001b[0;34m,\u001b[0m \u001b[0;34m**\u001b[0m\u001b[0mkwargs\u001b[0m\u001b[0;34m)\u001b[0m\u001b[0;34m:\u001b[0m\u001b[0;34m\u001b[0m\u001b[0;34m\u001b[0m\u001b[0m\n\u001b[1;32m     98\u001b[0m         \u001b[0;34m\"\"\"A shortcut for `run(args)`, returning only the process' stdout\"\"\"\u001b[0m\u001b[0;34m\u001b[0m\u001b[0;34m\u001b[0m\u001b[0m\n\u001b[0;32m---> 99\u001b[0;31m         \u001b[0;32mreturn\u001b[0m \u001b[0mself\u001b[0m\u001b[0;34m.\u001b[0m\u001b[0mrun\u001b[0m\u001b[0;34m(\u001b[0m\u001b[0margs\u001b[0m\u001b[0;34m,\u001b[0m \u001b[0;34m**\u001b[0m\u001b[0mkwargs\u001b[0m\u001b[0;34m)\u001b[0m\u001b[0;34m[\u001b[0m\u001b[0;36m1\u001b[0m\u001b[0;34m]\u001b[0m\u001b[0;34m\u001b[0m\u001b[0;34m\u001b[0m\u001b[0m\n\u001b[0m\u001b[1;32m    100\u001b[0m \u001b[0;34m\u001b[0m\u001b[0m\n\u001b[1;32m    101\u001b[0m     \u001b[0;32mdef\u001b[0m \u001b[0m_get_encoding\u001b[0m\u001b[0;34m(\u001b[0m\u001b[0mself\u001b[0m\u001b[0;34m)\u001b[0m\u001b[0;34m:\u001b[0m\u001b[0;34m\u001b[0m\u001b[0;34m\u001b[0m\u001b[0m\n",
            "\u001b[0;32m/usr/local/lib/python3.7/dist-packages/plumbum/commands/base.py\u001b[0m in \u001b[0;36mrun\u001b[0;34m(self, args, **kwargs)\u001b[0m\n\u001b[1;32m    238\u001b[0m         \"\"\"\n\u001b[1;32m    239\u001b[0m         \u001b[0;32mwith\u001b[0m \u001b[0mself\u001b[0m\u001b[0;34m.\u001b[0m\u001b[0mbgrun\u001b[0m\u001b[0;34m(\u001b[0m\u001b[0margs\u001b[0m\u001b[0;34m,\u001b[0m \u001b[0;34m**\u001b[0m\u001b[0mkwargs\u001b[0m\u001b[0;34m)\u001b[0m \u001b[0;32mas\u001b[0m \u001b[0mp\u001b[0m\u001b[0;34m:\u001b[0m\u001b[0;34m\u001b[0m\u001b[0;34m\u001b[0m\u001b[0m\n\u001b[0;32m--> 240\u001b[0;31m             \u001b[0;32mreturn\u001b[0m \u001b[0mp\u001b[0m\u001b[0;34m.\u001b[0m\u001b[0mrun\u001b[0m\u001b[0;34m(\u001b[0m\u001b[0;34m)\u001b[0m\u001b[0;34m\u001b[0m\u001b[0;34m\u001b[0m\u001b[0m\n\u001b[0m\u001b[1;32m    241\u001b[0m \u001b[0;34m\u001b[0m\u001b[0m\n\u001b[1;32m    242\u001b[0m     \u001b[0;32mdef\u001b[0m \u001b[0m_use_modifier\u001b[0m\u001b[0;34m(\u001b[0m\u001b[0mself\u001b[0m\u001b[0;34m,\u001b[0m \u001b[0mmodifier\u001b[0m\u001b[0;34m,\u001b[0m \u001b[0margs\u001b[0m\u001b[0;34m)\u001b[0m\u001b[0;34m:\u001b[0m\u001b[0;34m\u001b[0m\u001b[0;34m\u001b[0m\u001b[0m\n",
            "\u001b[0;32m/usr/local/lib/python3.7/dist-packages/plumbum/commands/base.py\u001b[0m in \u001b[0;36mrunner\u001b[0;34m()\u001b[0m\n\u001b[1;32m    199\u001b[0m             \u001b[0mwas_run\u001b[0m\u001b[0;34m[\u001b[0m\u001b[0;36m0\u001b[0m\u001b[0;34m]\u001b[0m \u001b[0;34m=\u001b[0m \u001b[0;32mTrue\u001b[0m\u001b[0;34m\u001b[0m\u001b[0;34m\u001b[0m\u001b[0m\n\u001b[1;32m    200\u001b[0m             \u001b[0;32mtry\u001b[0m\u001b[0;34m:\u001b[0m\u001b[0;34m\u001b[0m\u001b[0;34m\u001b[0m\u001b[0m\n\u001b[0;32m--> 201\u001b[0;31m                 \u001b[0;32mreturn\u001b[0m \u001b[0mrun_proc\u001b[0m\u001b[0;34m(\u001b[0m\u001b[0mp\u001b[0m\u001b[0;34m,\u001b[0m \u001b[0mretcode\u001b[0m\u001b[0;34m,\u001b[0m \u001b[0mtimeout\u001b[0m\u001b[0;34m)\u001b[0m\u001b[0;34m\u001b[0m\u001b[0;34m\u001b[0m\u001b[0m\n\u001b[0m\u001b[1;32m    202\u001b[0m             \u001b[0;32mfinally\u001b[0m\u001b[0;34m:\u001b[0m\u001b[0;34m\u001b[0m\u001b[0;34m\u001b[0m\u001b[0m\n\u001b[1;32m    203\u001b[0m                 \u001b[0;32mdel\u001b[0m \u001b[0mp\u001b[0m\u001b[0;34m.\u001b[0m\u001b[0mrun\u001b[0m  \u001b[0;31m# to break cyclic reference p -> cell -> p\u001b[0m\u001b[0;34m\u001b[0m\u001b[0;34m\u001b[0m\u001b[0m\n",
            "\u001b[0;32m/usr/local/lib/python3.7/dist-packages/plumbum/commands/processes.py\u001b[0m in \u001b[0;36mrun_proc\u001b[0;34m(proc, retcode, timeout)\u001b[0m\n\u001b[1;32m    320\u001b[0m         \u001b[0mstderr\u001b[0m \u001b[0;34m=\u001b[0m \u001b[0mstderr\u001b[0m\u001b[0;34m.\u001b[0m\u001b[0mdecode\u001b[0m\u001b[0;34m(\u001b[0m\u001b[0mproc\u001b[0m\u001b[0;34m.\u001b[0m\u001b[0mcustom_encoding\u001b[0m\u001b[0;34m,\u001b[0m \u001b[0;34m\"ignore\"\u001b[0m\u001b[0;34m)\u001b[0m\u001b[0;34m\u001b[0m\u001b[0;34m\u001b[0m\u001b[0m\n\u001b[1;32m    321\u001b[0m \u001b[0;34m\u001b[0m\u001b[0m\n\u001b[0;32m--> 322\u001b[0;31m     \u001b[0;32mreturn\u001b[0m \u001b[0m_check_process\u001b[0m\u001b[0;34m(\u001b[0m\u001b[0mproc\u001b[0m\u001b[0;34m,\u001b[0m \u001b[0mretcode\u001b[0m\u001b[0;34m,\u001b[0m \u001b[0mtimeout\u001b[0m\u001b[0;34m,\u001b[0m \u001b[0mstdout\u001b[0m\u001b[0;34m,\u001b[0m \u001b[0mstderr\u001b[0m\u001b[0;34m)\u001b[0m\u001b[0;34m\u001b[0m\u001b[0;34m\u001b[0m\u001b[0m\n\u001b[0m\u001b[1;32m    323\u001b[0m \u001b[0;34m\u001b[0m\u001b[0m\n\u001b[1;32m    324\u001b[0m \u001b[0;34m\u001b[0m\u001b[0m\n",
            "\u001b[0;32m/usr/local/lib/python3.7/dist-packages/plumbum/commands/processes.py\u001b[0m in \u001b[0;36m_check_process\u001b[0;34m(proc, retcode, timeout, stdout, stderr)\u001b[0m\n\u001b[1;32m     22\u001b[0m \u001b[0;31m# ===================================================================================================\u001b[0m\u001b[0;34m\u001b[0m\u001b[0;34m\u001b[0m\u001b[0;34m\u001b[0m\u001b[0m\n\u001b[1;32m     23\u001b[0m \u001b[0;32mdef\u001b[0m \u001b[0m_check_process\u001b[0m\u001b[0;34m(\u001b[0m\u001b[0mproc\u001b[0m\u001b[0;34m,\u001b[0m \u001b[0mretcode\u001b[0m\u001b[0;34m,\u001b[0m \u001b[0mtimeout\u001b[0m\u001b[0;34m,\u001b[0m \u001b[0mstdout\u001b[0m\u001b[0;34m,\u001b[0m \u001b[0mstderr\u001b[0m\u001b[0;34m)\u001b[0m\u001b[0;34m:\u001b[0m\u001b[0;34m\u001b[0m\u001b[0;34m\u001b[0m\u001b[0m\n\u001b[0;32m---> 24\u001b[0;31m     \u001b[0mproc\u001b[0m\u001b[0;34m.\u001b[0m\u001b[0mverify\u001b[0m\u001b[0;34m(\u001b[0m\u001b[0mretcode\u001b[0m\u001b[0;34m,\u001b[0m \u001b[0mtimeout\u001b[0m\u001b[0;34m,\u001b[0m \u001b[0mstdout\u001b[0m\u001b[0;34m,\u001b[0m \u001b[0mstderr\u001b[0m\u001b[0;34m)\u001b[0m\u001b[0;34m\u001b[0m\u001b[0;34m\u001b[0m\u001b[0m\n\u001b[0m\u001b[1;32m     25\u001b[0m     \u001b[0;32mreturn\u001b[0m \u001b[0mproc\u001b[0m\u001b[0;34m.\u001b[0m\u001b[0mreturncode\u001b[0m\u001b[0;34m,\u001b[0m \u001b[0mstdout\u001b[0m\u001b[0;34m,\u001b[0m \u001b[0mstderr\u001b[0m\u001b[0;34m\u001b[0m\u001b[0;34m\u001b[0m\u001b[0m\n\u001b[1;32m     26\u001b[0m \u001b[0;34m\u001b[0m\u001b[0m\n",
            "\u001b[0;32m/usr/local/lib/python3.7/dist-packages/plumbum/machines/base.py\u001b[0m in \u001b[0;36mverify\u001b[0;34m(self, retcode, timeout, stdout, stderr)\u001b[0m\n\u001b[1;32m     27\u001b[0m             \u001b[0;32melif\u001b[0m \u001b[0mself\u001b[0m\u001b[0;34m.\u001b[0m\u001b[0mreturncode\u001b[0m \u001b[0;34m!=\u001b[0m \u001b[0mretcode\u001b[0m\u001b[0;34m:\u001b[0m\u001b[0;34m\u001b[0m\u001b[0;34m\u001b[0m\u001b[0m\n\u001b[1;32m     28\u001b[0m                 raise ProcessExecutionError(\n\u001b[0;32m---> 29\u001b[0;31m                     \u001b[0mgetattr\u001b[0m\u001b[0;34m(\u001b[0m\u001b[0mself\u001b[0m\u001b[0;34m,\u001b[0m \u001b[0;34m\"argv\"\u001b[0m\u001b[0;34m,\u001b[0m \u001b[0;32mNone\u001b[0m\u001b[0;34m)\u001b[0m\u001b[0;34m,\u001b[0m \u001b[0mself\u001b[0m\u001b[0;34m.\u001b[0m\u001b[0mreturncode\u001b[0m\u001b[0;34m,\u001b[0m \u001b[0mstdout\u001b[0m\u001b[0;34m,\u001b[0m \u001b[0mstderr\u001b[0m\u001b[0;34m\u001b[0m\u001b[0;34m\u001b[0m\u001b[0m\n\u001b[0m\u001b[1;32m     30\u001b[0m                 )\n\u001b[1;32m     31\u001b[0m \u001b[0;34m\u001b[0m\u001b[0m\n",
            "\u001b[0;31mProcessExecutionError\u001b[0m: Unexpected exit code: 1\nCommand line: | /usr/bin/pandoc -t json -o /tmp/tmpt1cx0jf3/output.js -f markdown /tmp/tmpt1cx0jf3/input\nStderr:       | pandoc: Cannot decode byte '\\x89': Data.Text.Internal.Encoding.Fusion.streamUtf8: Invalid UTF-8 stream"
          ]
        }
      ]
    }
  ]
}