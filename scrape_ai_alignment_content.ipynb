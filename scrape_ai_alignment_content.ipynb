{
  "nbformat": 4,
  "nbformat_minor": 0,
  "metadata": {
    "colab": {
      "name": "scrape-ai-alignment-content.ipynb",
      "provenance": [],
      "collapsed_sections": [
        "4XsCNDx4nKBD",
        "JGEHyxtIrABU",
        "Z6UiH03NAdoz",
        "CnAz2Ws6XONA",
        "bMlEPzymEceg"
      ],
      "machine_shape": "hm",
      "authorship_tag": "ABX9TyPhs6rNm9bltP7KhBGpUAev",
      "include_colab_link": true
    },
    "kernelspec": {
      "name": "python3",
      "display_name": "Python 3"
    },
    "language_info": {
      "name": "python"
    }
  },
  "cells": [
    {
      "cell_type": "markdown",
      "metadata": {
        "id": "view-in-github",
        "colab_type": "text"
      },
      "source": [
        "<a href=\"https://colab.research.google.com/github/JayThibs/ai-safety-scrape/blob/main/scrape_ai_alignment_content.ipynb\" target=\"_parent\"><img src=\"https://colab.research.google.com/assets/colab-badge.svg\" alt=\"Open In Colab\"/></a>"
      ]
    },
    {
      "cell_type": "markdown",
      "source": [
        "# Extracting Contents from AI Alignment Resources\n",
        "\n",
        "This notebook is used to scrape the contents of AI Alignment resources."
      ],
      "metadata": {
        "id": "97CXz6XJM8q3"
      }
    },
    {
      "cell_type": "markdown",
      "source": [
        "# Installations"
      ],
      "metadata": {
        "id": "LYg2mYW2nGYH"
      }
    },
    {
      "cell_type": "code",
      "source": [
        "!python --version"
      ],
      "metadata": {
        "colab": {
          "base_uri": "https://localhost:8080/"
        },
        "id": "ZlBaaNHIdaAt",
        "outputId": "f8e5dcec-3dac-4085-bdff-462db96373f0"
      },
      "execution_count": 1,
      "outputs": [
        {
          "output_type": "stream",
          "name": "stdout",
          "text": [
            "Python 3.7.12\n"
          ]
        }
      ]
    },
    {
      "cell_type": "code",
      "source": [
        "%env PYTHONPATH="
      ],
      "metadata": {
        "colab": {
          "base_uri": "https://localhost:8080/"
        },
        "id": "oT8wbg3CdIFJ",
        "outputId": "a7fd0b06-3e8d-4c59-ff5e-73645cd83d97"
      },
      "execution_count": 2,
      "outputs": [
        {
          "output_type": "stream",
          "name": "stdout",
          "text": [
            "env: PYTHONPATH=\n"
          ]
        }
      ]
    },
    {
      "cell_type": "code",
      "source": [
        "%%bash\n",
        "\n",
        "MINICONDA_INSTALLER_SCRIPT=Miniconda3-py37_4.11.0-Linux-x86_64.sh\n",
        "MINICONDA_PREFIX=/usr/local\n",
        "wget https://repo.continuum.io/miniconda/$MINICONDA_INSTALLER_SCRIPT\n",
        "chmod +x $MINICONDA_INSTALLER_SCRIPT\n",
        "./$MINICONDA_INSTALLER_SCRIPT -b -f -p $MINICONDA_PREFIX"
      ],
      "metadata": {
        "id": "FGLUPQBDdMbj"
      },
      "execution_count": null,
      "outputs": []
    },
    {
      "cell_type": "code",
      "source": [
        "%%bash\n",
        "\n",
        "conda install --channel defaults conda python=3.7 --yes\n",
        "conda update --channel defaults --all --yes"
      ],
      "metadata": {
        "colab": {
          "base_uri": "https://localhost:8080/"
        },
        "id": "GmJ1as68dPeW",
        "outputId": "b2ebbac3-8126-4177-ad6b-035a5eff0b36"
      },
      "execution_count": 16,
      "outputs": [
        {
          "output_type": "stream",
          "name": "stdout",
          "text": [
            "Collecting package metadata (current_repodata.json): ...working... done\n",
            "Solving environment: ...working... done\n",
            "\n",
            "## Package Plan ##\n",
            "\n",
            "  environment location: /usr/local\n",
            "\n",
            "  added / updated specs:\n",
            "    - conda\n",
            "    - python=3.7\n",
            "\n",
            "\n",
            "The following packages will be UPDATED:\n",
            "\n",
            "  ca-certificates    anaconda::ca-certificates-2020.10.14-0 --> pkgs/main::ca-certificates-2021.10.26-h06a4308_2\n",
            "  certifi                anaconda::certifi-2020.6.20-py37_0 --> pkgs/main::certifi-2021.10.8-py37h06a4308_2\n",
            "\n",
            "\n",
            "Preparing transaction: ...working... done\n",
            "Verifying transaction: ...working... done\n",
            "Executing transaction: ...working... done\n",
            "Collecting package metadata (current_repodata.json): ...working... done\n",
            "Solving environment: ...working... done\n",
            "\n",
            "## Package Plan ##\n",
            "\n",
            "  environment location: /usr/local\n",
            "\n",
            "\n",
            "The following packages will be downloaded:\n",
            "\n",
            "    package                    |            build\n",
            "    ---------------------------|-----------------\n",
            "    pandoc-2.12                |       h06a4308_0         9.5 MB\n",
            "    ------------------------------------------------------------\n",
            "                                           Total:         9.5 MB\n",
            "\n",
            "The following packages will be REMOVED:\n",
            "\n",
            "  python_abi-3.7-2_cp37m\n",
            "\n",
            "The following packages will be UPDATED:\n",
            "\n",
            "  pip                           anaconda::pip-20.2.4-py37_0 --> pkgs/main::pip-21.2.2-py37h06a4308_0\n",
            "\n",
            "The following packages will be SUPERSEDED by a higher-priority channel:\n",
            "\n",
            "  pandoc             conda-forge::pandoc-2.17.1.1-ha770c72~ --> pkgs/main::pandoc-2.12-h06a4308_0\n",
            "\n",
            "\n",
            "\n",
            "Downloading and Extracting Packages\n",
            "\rpandoc-2.12          | 9.5 MB    |            |   0% \rpandoc-2.12          | 9.5 MB    | 1          |   1% \rpandoc-2.12          | 9.5 MB    | ########## | 100% \rpandoc-2.12          | 9.5 MB    | ########## | 100% \n",
            "Preparing transaction: ...working... done\n",
            "Verifying transaction: ...working... done\n",
            "Executing transaction: ...working... done\n"
          ]
        }
      ]
    },
    {
      "cell_type": "code",
      "source": [
        "import sys\n",
        "\n",
        "_ = (sys.path.append(\"/usr/local/lib/python3.7/site-packages\"))"
      ],
      "metadata": {
        "id": "4Z-UEqM1eTco"
      },
      "execution_count": 17,
      "outputs": []
    },
    {
      "cell_type": "code",
      "source": [
        "sys.path"
      ],
      "metadata": {
        "colab": {
          "base_uri": "https://localhost:8080/"
        },
        "id": "41lDVzgAebu1",
        "outputId": "07311926-3249-498a-e924-11a53147c1e8"
      },
      "execution_count": 18,
      "outputs": [
        {
          "output_type": "execute_result",
          "data": {
            "text/plain": [
              "['',\n",
              " '/content',\n",
              " '/env/python',\n",
              " '/usr/lib/python37.zip',\n",
              " '/usr/lib/python3.7',\n",
              " '/usr/lib/python3.7/lib-dynload',\n",
              " '/usr/local/lib/python3.7/dist-packages',\n",
              " '/usr/lib/python3/dist-packages',\n",
              " '/usr/local/lib/python3.7/dist-packages/IPython/extensions',\n",
              " '/root/.ipython',\n",
              " '/usr/local/lib/python3.7.12/site-packages',\n",
              " '/usr/local/lib/python3.7/site-packages']"
            ]
          },
          "metadata": {},
          "execution_count": 18
        }
      ]
    },
    {
      "cell_type": "code",
      "source": [
        "!conda install -c conda-forge pandoc --yes"
      ],
      "metadata": {
        "colab": {
          "base_uri": "https://localhost:8080/"
        },
        "id": "8VQ1U_9ZcyiW",
        "outputId": "a153acb7-62e9-46d5-ac5c-4ac2ee858e6b"
      },
      "execution_count": 19,
      "outputs": [
        {
          "output_type": "stream",
          "name": "stdout",
          "text": [
            "Collecting package metadata (current_repodata.json): - \b\b\\ \b\b| \b\b/ \b\b- \b\b\\ \b\b| \b\b/ \b\b- \b\b\\ \b\b| \b\b/ \b\b- \b\b\\ \b\b| \b\b/ \b\b- \b\bdone\n",
            "Solving environment: | \b\b/ \b\b- \b\b\\ \b\b| \b\b/ \b\bdone\n",
            "\n",
            "## Package Plan ##\n",
            "\n",
            "  environment location: /usr/local\n",
            "\n",
            "  added / updated specs:\n",
            "    - pandoc\n",
            "\n",
            "\n",
            "The following NEW packages will be INSTALLED:\n",
            "\n",
            "  python_abi         conda-forge/linux-64::python_abi-3.7-2_cp37m\n",
            "\n",
            "The following packages will be UPDATED:\n",
            "\n",
            "  pandoc                  pkgs/main::pandoc-2.12-h06a4308_0 --> conda-forge::pandoc-2.17.1.1-ha770c72_0\n",
            "\n",
            "The following packages will be SUPERSEDED by a higher-priority channel:\n",
            "\n",
            "  ca-certificates    pkgs/main::ca-certificates-2021.10.26~ --> conda-forge::ca-certificates-2021.10.8-ha878542_0\n",
            "  certifi            pkgs/main::certifi-2021.10.8-py37h06a~ --> conda-forge::certifi-2021.10.8-py37h89c1867_1\n",
            "  conda              pkgs/main::conda-4.11.0-py37h06a4308_0 --> conda-forge::conda-4.11.0-py37h89c1867_0\n",
            "\n",
            "\n",
            "Preparing transaction: \\ \b\bdone\n",
            "Verifying transaction: / \b\bdone\n",
            "Executing transaction: \\ \b\bdone\n"
          ]
        }
      ]
    },
    {
      "cell_type": "code",
      "source": [
        "!conda install -c anaconda pip --yes"
      ],
      "metadata": {
        "colab": {
          "base_uri": "https://localhost:8080/"
        },
        "id": "gPUsiKeGeyvD",
        "outputId": "741336f0-68b6-4d69-a6b0-09861013c281"
      },
      "execution_count": 20,
      "outputs": [
        {
          "output_type": "stream",
          "name": "stdout",
          "text": [
            "Collecting package metadata (current_repodata.json): - \b\b\\ \b\b| \b\b/ \b\b- \b\b\\ \b\b| \b\bdone\n",
            "Solving environment: - \b\b\\ \b\b| \b\b/ \b\b- \b\bdone\n",
            "\n",
            "## Package Plan ##\n",
            "\n",
            "  environment location: /usr/local\n",
            "\n",
            "  added / updated specs:\n",
            "    - pip\n",
            "\n",
            "\n",
            "The following packages will be SUPERSEDED by a higher-priority channel:\n",
            "\n",
            "  ca-certificates    conda-forge::ca-certificates-2021.10.~ --> anaconda::ca-certificates-2020.10.14-0\n",
            "  certifi            conda-forge::certifi-2021.10.8-py37h8~ --> anaconda::certifi-2020.6.20-py37_0\n",
            "  conda              conda-forge::conda-4.11.0-py37h89c186~ --> pkgs/main::conda-4.11.0-py37h06a4308_0\n",
            "  pip                  pkgs/main::pip-21.2.2-py37h06a4308_0 --> anaconda::pip-20.2.4-py37_0\n",
            "\n",
            "\n",
            "Preparing transaction: | \b\bdone\n",
            "Verifying transaction: - \b\b\\ \b\bdone\n",
            "Executing transaction: / \b\b- \b\bdone\n"
          ]
        }
      ]
    },
    {
      "cell_type": "code",
      "source": [
        "!pip install --upgrade pandoc -q"
      ],
      "metadata": {
        "id": "BwF_eQPeeFHD"
      },
      "execution_count": 21,
      "outputs": []
    },
    {
      "cell_type": "code",
      "source": [
        "!pip install tika arxiv"
      ],
      "metadata": {
        "colab": {
          "base_uri": "https://localhost:8080/"
        },
        "id": "ugHfLSwFnIjf",
        "outputId": "fe9093e3-97ee-4590-dfc0-d98c69feb462"
      },
      "execution_count": 22,
      "outputs": [
        {
          "output_type": "stream",
          "name": "stdout",
          "text": [
            "Requirement already satisfied: tika in /usr/local/lib/python3.7/site-packages (1.24)\n",
            "Requirement already satisfied: arxiv in /usr/local/lib/python3.7/site-packages (1.4.2)\n",
            "Requirement already satisfied: setuptools in /usr/local/lib/python3.7/site-packages (from tika) (58.0.4)\n",
            "Requirement already satisfied: requests in /usr/local/lib/python3.7/site-packages (from tika) (2.27.1)\n",
            "Requirement already satisfied: feedparser in /usr/local/lib/python3.7/site-packages (from arxiv) (6.0.8)\n",
            "Requirement already satisfied: certifi>=2017.4.17 in /usr/local/lib/python3.7/site-packages (from requests->tika) (2020.6.20)\n",
            "Requirement already satisfied: charset-normalizer~=2.0.0; python_version >= \"3\" in /usr/local/lib/python3.7/site-packages (from requests->tika) (2.0.4)\n",
            "Requirement already satisfied: idna<4,>=2.5; python_version >= \"3\" in /usr/local/lib/python3.7/site-packages (from requests->tika) (3.3)\n",
            "Requirement already satisfied: urllib3<1.27,>=1.21.1 in /usr/local/lib/python3.7/site-packages (from requests->tika) (1.26.8)\n",
            "Requirement already satisfied: sgmllib3k in /usr/local/lib/python3.7/site-packages (from feedparser->arxiv) (1.0.0)\n"
          ]
        }
      ]
    },
    {
      "cell_type": "markdown",
      "source": [
        "# Imports"
      ],
      "metadata": {
        "id": "4XsCNDx4nKBD"
      }
    },
    {
      "cell_type": "code",
      "source": [
        "import os\n",
        "import pandas as pd\n",
        "from tika import parser\n",
        "from google.colab import drive\n",
        "from pathlib import Path\n",
        "from urllib import request\n",
        "from bs4 import BeautifulSoup\n",
        "import arxiv\n",
        "import pandoc\n",
        "import requests\n",
        "import tarfile\n",
        "import pickle"
      ],
      "metadata": {
        "id": "LaV6DoUenFyD"
      },
      "execution_count": 23,
      "outputs": []
    },
    {
      "cell_type": "markdown",
      "source": [
        "# Setting up Environment"
      ],
      "metadata": {
        "id": "JGEHyxtIrABU"
      }
    },
    {
      "cell_type": "code",
      "source": [
        "drive.mount('/content/drive')"
      ],
      "metadata": {
        "colab": {
          "base_uri": "https://localhost:8080/"
        },
        "id": "q7EXurg4rE4U",
        "outputId": "9fc1e25b-54ea-4aa5-9def-45a446aa089b"
      },
      "execution_count": 24,
      "outputs": [
        {
          "output_type": "stream",
          "name": "stdout",
          "text": [
            "Mounted at /content/drive\n"
          ]
        }
      ]
    },
    {
      "cell_type": "code",
      "source": [
        "%cd drive/MyDrive/"
      ],
      "metadata": {
        "colab": {
          "base_uri": "https://localhost:8080/"
        },
        "id": "4x7qM-qXrGCn",
        "outputId": "2b414063-ac25-400a-f4b0-200868ed15bd"
      },
      "execution_count": 25,
      "outputs": [
        {
          "output_type": "stream",
          "name": "stdout",
          "text": [
            "/content/drive/MyDrive\n"
          ]
        }
      ]
    },
    {
      "cell_type": "code",
      "source": [
        "CODE_DIR = Path('.') / 'code-projects/gpt-ai-safety'\n",
        "RAW_DIR = Path('.') / 'data/raw'\n",
        "TARS_DIR = RAW_DIR / 'tars'\n",
        "LATEX_DIR = RAW_DIR / 'latex_files'\n",
        "PDFS_DIR = RAW_DIR / 'pdfs'"
      ],
      "metadata": {
        "id": "nrQERsuk8lRe"
      },
      "execution_count": 26,
      "outputs": []
    },
    {
      "cell_type": "code",
      "source": [
        "%cd {CODE_DIR}"
      ],
      "metadata": {
        "colab": {
          "base_uri": "https://localhost:8080/"
        },
        "id": "rdvzqbWx8yrK",
        "outputId": "f53e6b9d-b275-48ee-d4fc-e1cf46bd0eb1"
      },
      "execution_count": 27,
      "outputs": [
        {
          "output_type": "stream",
          "name": "stdout",
          "text": [
            "/content/drive/MyDrive/code-projects/gpt-ai-safety\n"
          ]
        }
      ]
    },
    {
      "cell_type": "code",
      "source": [
        "# !git clone https://github.com/JayThibs/ai-safety-scrape\n",
        "# !mv ai-safety-scrape/* ."
      ],
      "metadata": {
        "id": "pDsiFyBfxC8H"
      },
      "execution_count": 28,
      "outputs": []
    },
    {
      "cell_type": "markdown",
      "source": [
        "# Load and Explore Data"
      ],
      "metadata": {
        "id": "Z6UiH03NAdoz"
      }
    },
    {
      "cell_type": "code",
      "source": [
        "df = pd.read_csv('ai-alignment-papers.csv')\n",
        "df.head()"
      ],
      "metadata": {
        "colab": {
          "base_uri": "https://localhost:8080/",
          "height": 699
        },
        "id": "cJit0jX1An6S",
        "outputId": "41e181ec-da0d-4af0-9bfe-02dacd9e0b30"
      },
      "execution_count": 29,
      "outputs": [
        {
          "output_type": "execute_result",
          "data": {
            "text/html": [
              "\n",
              "  <div id=\"df-491214ab-75da-4201-9bc3-d53e088cfd3e\">\n",
              "    <div class=\"colab-df-container\">\n",
              "      <div>\n",
              "<style scoped>\n",
              "    .dataframe tbody tr th:only-of-type {\n",
              "        vertical-align: middle;\n",
              "    }\n",
              "\n",
              "    .dataframe tbody tr th {\n",
              "        vertical-align: top;\n",
              "    }\n",
              "\n",
              "    .dataframe thead th {\n",
              "        text-align: right;\n",
              "    }\n",
              "</style>\n",
              "<table border=\"1\" class=\"dataframe\">\n",
              "  <thead>\n",
              "    <tr style=\"text-align: right;\">\n",
              "      <th></th>\n",
              "      <th>Key</th>\n",
              "      <th>Item Type</th>\n",
              "      <th>Publication Year</th>\n",
              "      <th>Author</th>\n",
              "      <th>Title</th>\n",
              "      <th>Publication Title</th>\n",
              "      <th>ISBN</th>\n",
              "      <th>ISSN</th>\n",
              "      <th>DOI</th>\n",
              "      <th>Url</th>\n",
              "      <th>Abstract Note</th>\n",
              "      <th>Date</th>\n",
              "      <th>Date Added</th>\n",
              "      <th>Date Modified</th>\n",
              "      <th>Access Date</th>\n",
              "      <th>Pages</th>\n",
              "      <th>Num Pages</th>\n",
              "      <th>Issue</th>\n",
              "      <th>Volume</th>\n",
              "      <th>Number Of Volumes</th>\n",
              "      <th>Journal Abbreviation</th>\n",
              "      <th>Short Title</th>\n",
              "      <th>Series</th>\n",
              "      <th>Series Number</th>\n",
              "      <th>Series Text</th>\n",
              "      <th>Series Title</th>\n",
              "      <th>Publisher</th>\n",
              "      <th>Place</th>\n",
              "      <th>Language</th>\n",
              "      <th>Rights</th>\n",
              "      <th>Type</th>\n",
              "      <th>Archive</th>\n",
              "      <th>Archive Location</th>\n",
              "      <th>Library Catalog</th>\n",
              "      <th>Call Number</th>\n",
              "      <th>Extra</th>\n",
              "      <th>Notes</th>\n",
              "      <th>File Attachments</th>\n",
              "      <th>Link Attachments</th>\n",
              "      <th>Manual Tags</th>\n",
              "      <th>...</th>\n",
              "      <th>Cast Member</th>\n",
              "      <th>Commenter</th>\n",
              "      <th>Composer</th>\n",
              "      <th>Cosponsor</th>\n",
              "      <th>Counsel</th>\n",
              "      <th>Interviewer</th>\n",
              "      <th>Producer</th>\n",
              "      <th>Recipient</th>\n",
              "      <th>Reviewed Author</th>\n",
              "      <th>Scriptwriter</th>\n",
              "      <th>Words By</th>\n",
              "      <th>Guest</th>\n",
              "      <th>Number</th>\n",
              "      <th>Edition</th>\n",
              "      <th>Running Time</th>\n",
              "      <th>Scale</th>\n",
              "      <th>Medium</th>\n",
              "      <th>Artwork Size</th>\n",
              "      <th>Filing Date</th>\n",
              "      <th>Application Number</th>\n",
              "      <th>Assignee</th>\n",
              "      <th>Issuing Authority</th>\n",
              "      <th>Country</th>\n",
              "      <th>Meeting Name</th>\n",
              "      <th>Conference Name</th>\n",
              "      <th>Court</th>\n",
              "      <th>References</th>\n",
              "      <th>Reporter</th>\n",
              "      <th>Legal Status</th>\n",
              "      <th>Priority Numbers</th>\n",
              "      <th>Programming Language</th>\n",
              "      <th>Version</th>\n",
              "      <th>System</th>\n",
              "      <th>Code</th>\n",
              "      <th>Code Number</th>\n",
              "      <th>Section</th>\n",
              "      <th>Session</th>\n",
              "      <th>Committee</th>\n",
              "      <th>History</th>\n",
              "      <th>Legislative Body</th>\n",
              "    </tr>\n",
              "  </thead>\n",
              "  <tbody>\n",
              "    <tr>\n",
              "      <th>0</th>\n",
              "      <td>XBZAPQFK</td>\n",
              "      <td>blogPost</td>\n",
              "      <td>2020.0</td>\n",
              "      <td>Kokotajlo, Daniel</td>\n",
              "      <td>Three kinds of competitiveness</td>\n",
              "      <td>AI Impacts</td>\n",
              "      <td>NaN</td>\n",
              "      <td>NaN</td>\n",
              "      <td>NaN</td>\n",
              "      <td>https://aiimpacts.org/three-kinds-of-competiti...</td>\n",
              "      <td>By Daniel Kokotajlo In this post, I distinguis...</td>\n",
              "      <td>2020-03-30</td>\n",
              "      <td>2022-01-30 01:53:10</td>\n",
              "      <td>2022-01-30 01:53:10</td>\n",
              "      <td>2021-11-20 18:55:39</td>\n",
              "      <td>NaN</td>\n",
              "      <td>NaN</td>\n",
              "      <td>NaN</td>\n",
              "      <td>NaN</td>\n",
              "      <td>NaN</td>\n",
              "      <td>NaN</td>\n",
              "      <td>NaN</td>\n",
              "      <td>NaN</td>\n",
              "      <td>NaN</td>\n",
              "      <td>NaN</td>\n",
              "      <td>NaN</td>\n",
              "      <td>NaN</td>\n",
              "      <td>NaN</td>\n",
              "      <td>en-US</td>\n",
              "      <td>NaN</td>\n",
              "      <td>NaN</td>\n",
              "      <td>NaN</td>\n",
              "      <td>NaN</td>\n",
              "      <td>NaN</td>\n",
              "      <td>NaN</td>\n",
              "      <td>ZSCC: NoCitationData[s0]  ACC: N/A  Section: Blog</td>\n",
              "      <td>NaN</td>\n",
              "      <td>/Users/jacquesthibodeau/Zotero/storage/PU9A2KS...</td>\n",
              "      <td>NaN</td>\n",
              "      <td>UnsortedSafety</td>\n",
              "      <td>...</td>\n",
              "      <td>NaN</td>\n",
              "      <td>NaN</td>\n",
              "      <td>NaN</td>\n",
              "      <td>NaN</td>\n",
              "      <td>NaN</td>\n",
              "      <td>NaN</td>\n",
              "      <td>NaN</td>\n",
              "      <td>NaN</td>\n",
              "      <td>NaN</td>\n",
              "      <td>NaN</td>\n",
              "      <td>NaN</td>\n",
              "      <td>NaN</td>\n",
              "      <td>NaN</td>\n",
              "      <td>NaN</td>\n",
              "      <td>NaN</td>\n",
              "      <td>NaN</td>\n",
              "      <td>NaN</td>\n",
              "      <td>NaN</td>\n",
              "      <td>NaN</td>\n",
              "      <td>NaN</td>\n",
              "      <td>NaN</td>\n",
              "      <td>NaN</td>\n",
              "      <td>NaN</td>\n",
              "      <td>NaN</td>\n",
              "      <td>NaN</td>\n",
              "      <td>NaN</td>\n",
              "      <td>NaN</td>\n",
              "      <td>NaN</td>\n",
              "      <td>NaN</td>\n",
              "      <td>NaN</td>\n",
              "      <td>NaN</td>\n",
              "      <td>NaN</td>\n",
              "      <td>NaN</td>\n",
              "      <td>NaN</td>\n",
              "      <td>NaN</td>\n",
              "      <td>NaN</td>\n",
              "      <td>NaN</td>\n",
              "      <td>NaN</td>\n",
              "      <td>NaN</td>\n",
              "      <td>NaN</td>\n",
              "    </tr>\n",
              "    <tr>\n",
              "      <th>1</th>\n",
              "      <td>HX9UZ5JP</td>\n",
              "      <td>journalArticle</td>\n",
              "      <td>2020.0</td>\n",
              "      <td>Cihon, Peter; Maas, Matthijs M.; Kemp, Luke</td>\n",
              "      <td>Fragmentation and the Future: Investigating Ar...</td>\n",
              "      <td>Global Policy</td>\n",
              "      <td>NaN</td>\n",
              "      <td>1758-5899</td>\n",
              "      <td>10.1111/1758-5899.12890</td>\n",
              "      <td>https://onlinelibrary.wiley.com/doi/abs/10.111...</td>\n",
              "      <td>The international governance of artificial int...</td>\n",
              "      <td>2020</td>\n",
              "      <td>2022-01-30 04:47:43</td>\n",
              "      <td>2022-01-30 04:47:43</td>\n",
              "      <td>2021-11-13 15:58:24</td>\n",
              "      <td>545-556</td>\n",
              "      <td>NaN</td>\n",
              "      <td>5</td>\n",
              "      <td>11.0</td>\n",
              "      <td>NaN</td>\n",
              "      <td>NaN</td>\n",
              "      <td>Fragmentation and the Future</td>\n",
              "      <td>NaN</td>\n",
              "      <td>NaN</td>\n",
              "      <td>NaN</td>\n",
              "      <td>NaN</td>\n",
              "      <td>NaN</td>\n",
              "      <td>NaN</td>\n",
              "      <td>en</td>\n",
              "      <td>NaN</td>\n",
              "      <td>NaN</td>\n",
              "      <td>NaN</td>\n",
              "      <td>NaN</td>\n",
              "      <td>Wiley Online Library</td>\n",
              "      <td>NaN</td>\n",
              "      <td>ZSCC: 0000010  _eprint: https://onlinelibrary....</td>\n",
              "      <td>NaN</td>\n",
              "      <td>/Users/jacquesthibodeau/Zotero/storage/2TZBI3F...</td>\n",
              "      <td>NaN</td>\n",
              "      <td>UnsortedSafety</td>\n",
              "      <td>...</td>\n",
              "      <td>NaN</td>\n",
              "      <td>NaN</td>\n",
              "      <td>NaN</td>\n",
              "      <td>NaN</td>\n",
              "      <td>NaN</td>\n",
              "      <td>NaN</td>\n",
              "      <td>NaN</td>\n",
              "      <td>NaN</td>\n",
              "      <td>NaN</td>\n",
              "      <td>NaN</td>\n",
              "      <td>NaN</td>\n",
              "      <td>NaN</td>\n",
              "      <td>NaN</td>\n",
              "      <td>NaN</td>\n",
              "      <td>NaN</td>\n",
              "      <td>NaN</td>\n",
              "      <td>NaN</td>\n",
              "      <td>NaN</td>\n",
              "      <td>NaN</td>\n",
              "      <td>NaN</td>\n",
              "      <td>NaN</td>\n",
              "      <td>NaN</td>\n",
              "      <td>NaN</td>\n",
              "      <td>NaN</td>\n",
              "      <td>NaN</td>\n",
              "      <td>NaN</td>\n",
              "      <td>NaN</td>\n",
              "      <td>NaN</td>\n",
              "      <td>NaN</td>\n",
              "      <td>NaN</td>\n",
              "      <td>NaN</td>\n",
              "      <td>NaN</td>\n",
              "      <td>NaN</td>\n",
              "      <td>NaN</td>\n",
              "      <td>NaN</td>\n",
              "      <td>NaN</td>\n",
              "      <td>NaN</td>\n",
              "      <td>NaN</td>\n",
              "      <td>NaN</td>\n",
              "      <td>NaN</td>\n",
              "    </tr>\n",
              "    <tr>\n",
              "      <th>2</th>\n",
              "      <td>BQCZM53S</td>\n",
              "      <td>blogPost</td>\n",
              "      <td>2021.0</td>\n",
              "      <td>Clarke, Sam; Martin, Samuel Dylan</td>\n",
              "      <td>Distinguishing AI takeover scenarios</td>\n",
              "      <td>AI Alignment Forum</td>\n",
              "      <td>NaN</td>\n",
              "      <td>NaN</td>\n",
              "      <td>NaN</td>\n",
              "      <td>https://www.alignmentforum.org/posts/qYzqDtoQa...</td>\n",
              "      <td>Epistemic status: lots of this involves interp...</td>\n",
              "      <td>2021-09-08</td>\n",
              "      <td>2022-01-30 04:47:42</td>\n",
              "      <td>2022-01-30 04:47:42</td>\n",
              "      <td>2021-11-18 23:45:23</td>\n",
              "      <td>NaN</td>\n",
              "      <td>NaN</td>\n",
              "      <td>NaN</td>\n",
              "      <td>NaN</td>\n",
              "      <td>NaN</td>\n",
              "      <td>NaN</td>\n",
              "      <td>NaN</td>\n",
              "      <td>NaN</td>\n",
              "      <td>NaN</td>\n",
              "      <td>NaN</td>\n",
              "      <td>NaN</td>\n",
              "      <td>NaN</td>\n",
              "      <td>NaN</td>\n",
              "      <td>NaN</td>\n",
              "      <td>NaN</td>\n",
              "      <td>NaN</td>\n",
              "      <td>NaN</td>\n",
              "      <td>NaN</td>\n",
              "      <td>NaN</td>\n",
              "      <td>NaN</td>\n",
              "      <td>ZSCC: NoCitationData[s0]  ACC: N/A</td>\n",
              "      <td>NaN</td>\n",
              "      <td>/Users/jacquesthibodeau/Zotero/storage/ENAMQXC...</td>\n",
              "      <td>NaN</td>\n",
              "      <td>UnsortedSafety</td>\n",
              "      <td>...</td>\n",
              "      <td>NaN</td>\n",
              "      <td>NaN</td>\n",
              "      <td>NaN</td>\n",
              "      <td>NaN</td>\n",
              "      <td>NaN</td>\n",
              "      <td>NaN</td>\n",
              "      <td>NaN</td>\n",
              "      <td>NaN</td>\n",
              "      <td>NaN</td>\n",
              "      <td>NaN</td>\n",
              "      <td>NaN</td>\n",
              "      <td>NaN</td>\n",
              "      <td>NaN</td>\n",
              "      <td>NaN</td>\n",
              "      <td>NaN</td>\n",
              "      <td>NaN</td>\n",
              "      <td>NaN</td>\n",
              "      <td>NaN</td>\n",
              "      <td>NaN</td>\n",
              "      <td>NaN</td>\n",
              "      <td>NaN</td>\n",
              "      <td>NaN</td>\n",
              "      <td>NaN</td>\n",
              "      <td>NaN</td>\n",
              "      <td>NaN</td>\n",
              "      <td>NaN</td>\n",
              "      <td>NaN</td>\n",
              "      <td>NaN</td>\n",
              "      <td>NaN</td>\n",
              "      <td>NaN</td>\n",
              "      <td>NaN</td>\n",
              "      <td>NaN</td>\n",
              "      <td>NaN</td>\n",
              "      <td>NaN</td>\n",
              "      <td>NaN</td>\n",
              "      <td>NaN</td>\n",
              "      <td>NaN</td>\n",
              "      <td>NaN</td>\n",
              "      <td>NaN</td>\n",
              "      <td>NaN</td>\n",
              "    </tr>\n",
              "    <tr>\n",
              "      <th>3</th>\n",
              "      <td>JVMJ4RMM</td>\n",
              "      <td>journalArticle</td>\n",
              "      <td>2020.0</td>\n",
              "      <td>Stray, Jonathan</td>\n",
              "      <td>Aligning AI Optimization to Community Well-Being</td>\n",
              "      <td>International Journal of Community Well-Being</td>\n",
              "      <td>NaN</td>\n",
              "      <td>2524-5295, 2524-5309</td>\n",
              "      <td>10.1007/s42413-020-00086-3</td>\n",
              "      <td>http://link.springer.com/10.1007/s42413-020-00...</td>\n",
              "      <td>NaN</td>\n",
              "      <td>2020-12</td>\n",
              "      <td>2022-01-30 04:47:36</td>\n",
              "      <td>2022-01-30 04:47:36</td>\n",
              "      <td>2021-11-13 22:47:54</td>\n",
              "      <td>443-463</td>\n",
              "      <td>NaN</td>\n",
              "      <td>4</td>\n",
              "      <td>3.0</td>\n",
              "      <td>NaN</td>\n",
              "      <td>Int. Journal of Com. WB</td>\n",
              "      <td>NaN</td>\n",
              "      <td>NaN</td>\n",
              "      <td>NaN</td>\n",
              "      <td>NaN</td>\n",
              "      <td>NaN</td>\n",
              "      <td>NaN</td>\n",
              "      <td>NaN</td>\n",
              "      <td>en</td>\n",
              "      <td>NaN</td>\n",
              "      <td>NaN</td>\n",
              "      <td>NaN</td>\n",
              "      <td>NaN</td>\n",
              "      <td>DOI.org (Crossref)</td>\n",
              "      <td>NaN</td>\n",
              "      <td>ZSCC: 0000010</td>\n",
              "      <td>NaN</td>\n",
              "      <td>/Users/jacquesthibodeau/Zotero/storage/V3BEV7X...</td>\n",
              "      <td>NaN</td>\n",
              "      <td>UnsortedSafety</td>\n",
              "      <td>...</td>\n",
              "      <td>NaN</td>\n",
              "      <td>NaN</td>\n",
              "      <td>NaN</td>\n",
              "      <td>NaN</td>\n",
              "      <td>NaN</td>\n",
              "      <td>NaN</td>\n",
              "      <td>NaN</td>\n",
              "      <td>NaN</td>\n",
              "      <td>NaN</td>\n",
              "      <td>NaN</td>\n",
              "      <td>NaN</td>\n",
              "      <td>NaN</td>\n",
              "      <td>NaN</td>\n",
              "      <td>NaN</td>\n",
              "      <td>NaN</td>\n",
              "      <td>NaN</td>\n",
              "      <td>NaN</td>\n",
              "      <td>NaN</td>\n",
              "      <td>NaN</td>\n",
              "      <td>NaN</td>\n",
              "      <td>NaN</td>\n",
              "      <td>NaN</td>\n",
              "      <td>NaN</td>\n",
              "      <td>NaN</td>\n",
              "      <td>NaN</td>\n",
              "      <td>NaN</td>\n",
              "      <td>NaN</td>\n",
              "      <td>NaN</td>\n",
              "      <td>NaN</td>\n",
              "      <td>NaN</td>\n",
              "      <td>NaN</td>\n",
              "      <td>NaN</td>\n",
              "      <td>NaN</td>\n",
              "      <td>NaN</td>\n",
              "      <td>NaN</td>\n",
              "      <td>NaN</td>\n",
              "      <td>NaN</td>\n",
              "      <td>NaN</td>\n",
              "      <td>NaN</td>\n",
              "      <td>NaN</td>\n",
              "    </tr>\n",
              "    <tr>\n",
              "      <th>4</th>\n",
              "      <td>W8F6VI9I</td>\n",
              "      <td>thesis</td>\n",
              "      <td>2020.0</td>\n",
              "      <td>Shah, Rohin Monish</td>\n",
              "      <td>Extracting and Using Preference Information fr...</td>\n",
              "      <td>NaN</td>\n",
              "      <td>NaN</td>\n",
              "      <td>NaN</td>\n",
              "      <td>NaN</td>\n",
              "      <td>https://www.proquest.com/openview/da8bf63ef343...</td>\n",
              "      <td>Typically when learning about what people want...</td>\n",
              "      <td>2020-12-17</td>\n",
              "      <td>2022-01-30 04:47:35</td>\n",
              "      <td>2022-01-30 04:47:35</td>\n",
              "      <td>NaN</td>\n",
              "      <td>NaN</td>\n",
              "      <td>24.0</td>\n",
              "      <td>NaN</td>\n",
              "      <td>NaN</td>\n",
              "      <td>NaN</td>\n",
              "      <td>NaN</td>\n",
              "      <td>NaN</td>\n",
              "      <td>NaN</td>\n",
              "      <td>NaN</td>\n",
              "      <td>NaN</td>\n",
              "      <td>NaN</td>\n",
              "      <td>University of California, Berkeley</td>\n",
              "      <td>Berkeley, CA</td>\n",
              "      <td>en</td>\n",
              "      <td>NaN</td>\n",
              "      <td>NaN</td>\n",
              "      <td>NaN</td>\n",
              "      <td>NaN</td>\n",
              "      <td>Zotero</td>\n",
              "      <td>NaN</td>\n",
              "      <td>ZSCC: 0000000</td>\n",
              "      <td>NaN</td>\n",
              "      <td>/Users/jacquesthibodeau/Zotero/storage/S96M3KT...</td>\n",
              "      <td>NaN</td>\n",
              "      <td>UnsortedSafety</td>\n",
              "      <td>...</td>\n",
              "      <td>NaN</td>\n",
              "      <td>NaN</td>\n",
              "      <td>NaN</td>\n",
              "      <td>NaN</td>\n",
              "      <td>NaN</td>\n",
              "      <td>NaN</td>\n",
              "      <td>NaN</td>\n",
              "      <td>NaN</td>\n",
              "      <td>NaN</td>\n",
              "      <td>NaN</td>\n",
              "      <td>NaN</td>\n",
              "      <td>NaN</td>\n",
              "      <td>NaN</td>\n",
              "      <td>NaN</td>\n",
              "      <td>NaN</td>\n",
              "      <td>NaN</td>\n",
              "      <td>NaN</td>\n",
              "      <td>NaN</td>\n",
              "      <td>NaN</td>\n",
              "      <td>NaN</td>\n",
              "      <td>NaN</td>\n",
              "      <td>NaN</td>\n",
              "      <td>NaN</td>\n",
              "      <td>NaN</td>\n",
              "      <td>NaN</td>\n",
              "      <td>NaN</td>\n",
              "      <td>NaN</td>\n",
              "      <td>NaN</td>\n",
              "      <td>NaN</td>\n",
              "      <td>NaN</td>\n",
              "      <td>NaN</td>\n",
              "      <td>NaN</td>\n",
              "      <td>NaN</td>\n",
              "      <td>NaN</td>\n",
              "      <td>NaN</td>\n",
              "      <td>NaN</td>\n",
              "      <td>NaN</td>\n",
              "      <td>NaN</td>\n",
              "      <td>NaN</td>\n",
              "      <td>NaN</td>\n",
              "    </tr>\n",
              "  </tbody>\n",
              "</table>\n",
              "<p>5 rows × 87 columns</p>\n",
              "</div>\n",
              "      <button class=\"colab-df-convert\" onclick=\"convertToInteractive('df-491214ab-75da-4201-9bc3-d53e088cfd3e')\"\n",
              "              title=\"Convert this dataframe to an interactive table.\"\n",
              "              style=\"display:none;\">\n",
              "        \n",
              "  <svg xmlns=\"http://www.w3.org/2000/svg\" height=\"24px\"viewBox=\"0 0 24 24\"\n",
              "       width=\"24px\">\n",
              "    <path d=\"M0 0h24v24H0V0z\" fill=\"none\"/>\n",
              "    <path d=\"M18.56 5.44l.94 2.06.94-2.06 2.06-.94-2.06-.94-.94-2.06-.94 2.06-2.06.94zm-11 1L8.5 8.5l.94-2.06 2.06-.94-2.06-.94L8.5 2.5l-.94 2.06-2.06.94zm10 10l.94 2.06.94-2.06 2.06-.94-2.06-.94-.94-2.06-.94 2.06-2.06.94z\"/><path d=\"M17.41 7.96l-1.37-1.37c-.4-.4-.92-.59-1.43-.59-.52 0-1.04.2-1.43.59L10.3 9.45l-7.72 7.72c-.78.78-.78 2.05 0 2.83L4 21.41c.39.39.9.59 1.41.59.51 0 1.02-.2 1.41-.59l7.78-7.78 2.81-2.81c.8-.78.8-2.07 0-2.86zM5.41 20L4 18.59l7.72-7.72 1.47 1.35L5.41 20z\"/>\n",
              "  </svg>\n",
              "      </button>\n",
              "      \n",
              "  <style>\n",
              "    .colab-df-container {\n",
              "      display:flex;\n",
              "      flex-wrap:wrap;\n",
              "      gap: 12px;\n",
              "    }\n",
              "\n",
              "    .colab-df-convert {\n",
              "      background-color: #E8F0FE;\n",
              "      border: none;\n",
              "      border-radius: 50%;\n",
              "      cursor: pointer;\n",
              "      display: none;\n",
              "      fill: #1967D2;\n",
              "      height: 32px;\n",
              "      padding: 0 0 0 0;\n",
              "      width: 32px;\n",
              "    }\n",
              "\n",
              "    .colab-df-convert:hover {\n",
              "      background-color: #E2EBFA;\n",
              "      box-shadow: 0px 1px 2px rgba(60, 64, 67, 0.3), 0px 1px 3px 1px rgba(60, 64, 67, 0.15);\n",
              "      fill: #174EA6;\n",
              "    }\n",
              "\n",
              "    [theme=dark] .colab-df-convert {\n",
              "      background-color: #3B4455;\n",
              "      fill: #D2E3FC;\n",
              "    }\n",
              "\n",
              "    [theme=dark] .colab-df-convert:hover {\n",
              "      background-color: #434B5C;\n",
              "      box-shadow: 0px 1px 3px 1px rgba(0, 0, 0, 0.15);\n",
              "      filter: drop-shadow(0px 1px 2px rgba(0, 0, 0, 0.3));\n",
              "      fill: #FFFFFF;\n",
              "    }\n",
              "  </style>\n",
              "\n",
              "      <script>\n",
              "        const buttonEl =\n",
              "          document.querySelector('#df-491214ab-75da-4201-9bc3-d53e088cfd3e button.colab-df-convert');\n",
              "        buttonEl.style.display =\n",
              "          google.colab.kernel.accessAllowed ? 'block' : 'none';\n",
              "\n",
              "        async function convertToInteractive(key) {\n",
              "          const element = document.querySelector('#df-491214ab-75da-4201-9bc3-d53e088cfd3e');\n",
              "          const dataTable =\n",
              "            await google.colab.kernel.invokeFunction('convertToInteractive',\n",
              "                                                     [key], {});\n",
              "          if (!dataTable) return;\n",
              "\n",
              "          const docLinkHtml = 'Like what you see? Visit the ' +\n",
              "            '<a target=\"_blank\" href=https://colab.research.google.com/notebooks/data_table.ipynb>data table notebook</a>'\n",
              "            + ' to learn more about interactive tables.';\n",
              "          element.innerHTML = '';\n",
              "          dataTable['output_type'] = 'display_data';\n",
              "          await google.colab.output.renderOutput(dataTable, element);\n",
              "          const docLink = document.createElement('div');\n",
              "          docLink.innerHTML = docLinkHtml;\n",
              "          element.appendChild(docLink);\n",
              "        }\n",
              "      </script>\n",
              "    </div>\n",
              "  </div>\n",
              "  "
            ],
            "text/plain": [
              "        Key       Item Type  ...  History Legislative Body\n",
              "0  XBZAPQFK        blogPost  ...      NaN              NaN\n",
              "1  HX9UZ5JP  journalArticle  ...      NaN              NaN\n",
              "2  BQCZM53S        blogPost  ...      NaN              NaN\n",
              "3  JVMJ4RMM  journalArticle  ...      NaN              NaN\n",
              "4  W8F6VI9I          thesis  ...      NaN              NaN\n",
              "\n",
              "[5 rows x 87 columns]"
            ]
          },
          "metadata": {},
          "execution_count": 29
        }
      ]
    },
    {
      "cell_type": "code",
      "source": [
        "df['Item Type'].unique()"
      ],
      "metadata": {
        "colab": {
          "base_uri": "https://localhost:8080/"
        },
        "id": "h9EhbqMYAv2_",
        "outputId": "435b06a7-db47-4d1a-9725-4983d3892d75"
      },
      "execution_count": 30,
      "outputs": [
        {
          "output_type": "execute_result",
          "data": {
            "text/plain": [
              "array(['blogPost', 'journalArticle', 'thesis', 'conferencePaper',\n",
              "       'manuscript', 'report', 'bookSection', 'magazineArticle', 'book'],\n",
              "      dtype=object)"
            ]
          },
          "metadata": {},
          "execution_count": 30
        }
      ]
    },
    {
      "cell_type": "code",
      "source": [
        "item_nums = []\n",
        "for item in df['Item Type'].unique():\n",
        "    item_nums.append([item, len(df[df['Item Type'] == item])])\n",
        "\n",
        "item_nums.sort(key=lambda x:x[1])\n",
        "item_nums"
      ],
      "metadata": {
        "colab": {
          "base_uri": "https://localhost:8080/"
        },
        "id": "RsXK6OGkGA_F",
        "outputId": "92321e56-df7e-4818-dbce-25dea07e6ed5"
      },
      "execution_count": 31,
      "outputs": [
        {
          "output_type": "execute_result",
          "data": {
            "text/plain": [
              "[['magazineArticle', 2],\n",
              " ['thesis', 3],\n",
              " ['book', 13],\n",
              " ['bookSection', 52],\n",
              " ['report', 87],\n",
              " ['manuscript', 154],\n",
              " ['journalArticle', 170],\n",
              " ['conferencePaper', 262],\n",
              " ['blogPost', 421]]"
            ]
          },
          "metadata": {},
          "execution_count": 31
        }
      ]
    },
    {
      "cell_type": "code",
      "source": [
        "df[df['Item Type'] == 'journalArticle'].head()"
      ],
      "metadata": {
        "colab": {
          "base_uri": "https://localhost:8080/",
          "height": 716
        },
        "id": "niZZINK1Av78",
        "outputId": "23bb1933-038b-40df-8bc0-9d77db463bd8"
      },
      "execution_count": 32,
      "outputs": [
        {
          "output_type": "execute_result",
          "data": {
            "text/html": [
              "\n",
              "  <div id=\"df-74c65b7d-d2bd-4a13-9b71-5e0b03bdd21f\">\n",
              "    <div class=\"colab-df-container\">\n",
              "      <div>\n",
              "<style scoped>\n",
              "    .dataframe tbody tr th:only-of-type {\n",
              "        vertical-align: middle;\n",
              "    }\n",
              "\n",
              "    .dataframe tbody tr th {\n",
              "        vertical-align: top;\n",
              "    }\n",
              "\n",
              "    .dataframe thead th {\n",
              "        text-align: right;\n",
              "    }\n",
              "</style>\n",
              "<table border=\"1\" class=\"dataframe\">\n",
              "  <thead>\n",
              "    <tr style=\"text-align: right;\">\n",
              "      <th></th>\n",
              "      <th>Key</th>\n",
              "      <th>Item Type</th>\n",
              "      <th>Publication Year</th>\n",
              "      <th>Author</th>\n",
              "      <th>Title</th>\n",
              "      <th>Publication Title</th>\n",
              "      <th>ISBN</th>\n",
              "      <th>ISSN</th>\n",
              "      <th>DOI</th>\n",
              "      <th>Url</th>\n",
              "      <th>Abstract Note</th>\n",
              "      <th>Date</th>\n",
              "      <th>Date Added</th>\n",
              "      <th>Date Modified</th>\n",
              "      <th>Access Date</th>\n",
              "      <th>Pages</th>\n",
              "      <th>Num Pages</th>\n",
              "      <th>Issue</th>\n",
              "      <th>Volume</th>\n",
              "      <th>Number Of Volumes</th>\n",
              "      <th>Journal Abbreviation</th>\n",
              "      <th>Short Title</th>\n",
              "      <th>Series</th>\n",
              "      <th>Series Number</th>\n",
              "      <th>Series Text</th>\n",
              "      <th>Series Title</th>\n",
              "      <th>Publisher</th>\n",
              "      <th>Place</th>\n",
              "      <th>Language</th>\n",
              "      <th>Rights</th>\n",
              "      <th>Type</th>\n",
              "      <th>Archive</th>\n",
              "      <th>Archive Location</th>\n",
              "      <th>Library Catalog</th>\n",
              "      <th>Call Number</th>\n",
              "      <th>Extra</th>\n",
              "      <th>Notes</th>\n",
              "      <th>File Attachments</th>\n",
              "      <th>Link Attachments</th>\n",
              "      <th>Manual Tags</th>\n",
              "      <th>...</th>\n",
              "      <th>Cast Member</th>\n",
              "      <th>Commenter</th>\n",
              "      <th>Composer</th>\n",
              "      <th>Cosponsor</th>\n",
              "      <th>Counsel</th>\n",
              "      <th>Interviewer</th>\n",
              "      <th>Producer</th>\n",
              "      <th>Recipient</th>\n",
              "      <th>Reviewed Author</th>\n",
              "      <th>Scriptwriter</th>\n",
              "      <th>Words By</th>\n",
              "      <th>Guest</th>\n",
              "      <th>Number</th>\n",
              "      <th>Edition</th>\n",
              "      <th>Running Time</th>\n",
              "      <th>Scale</th>\n",
              "      <th>Medium</th>\n",
              "      <th>Artwork Size</th>\n",
              "      <th>Filing Date</th>\n",
              "      <th>Application Number</th>\n",
              "      <th>Assignee</th>\n",
              "      <th>Issuing Authority</th>\n",
              "      <th>Country</th>\n",
              "      <th>Meeting Name</th>\n",
              "      <th>Conference Name</th>\n",
              "      <th>Court</th>\n",
              "      <th>References</th>\n",
              "      <th>Reporter</th>\n",
              "      <th>Legal Status</th>\n",
              "      <th>Priority Numbers</th>\n",
              "      <th>Programming Language</th>\n",
              "      <th>Version</th>\n",
              "      <th>System</th>\n",
              "      <th>Code</th>\n",
              "      <th>Code Number</th>\n",
              "      <th>Section</th>\n",
              "      <th>Session</th>\n",
              "      <th>Committee</th>\n",
              "      <th>History</th>\n",
              "      <th>Legislative Body</th>\n",
              "    </tr>\n",
              "  </thead>\n",
              "  <tbody>\n",
              "    <tr>\n",
              "      <th>1</th>\n",
              "      <td>HX9UZ5JP</td>\n",
              "      <td>journalArticle</td>\n",
              "      <td>2020.0</td>\n",
              "      <td>Cihon, Peter; Maas, Matthijs M.; Kemp, Luke</td>\n",
              "      <td>Fragmentation and the Future: Investigating Ar...</td>\n",
              "      <td>Global Policy</td>\n",
              "      <td>NaN</td>\n",
              "      <td>1758-5899</td>\n",
              "      <td>10.1111/1758-5899.12890</td>\n",
              "      <td>https://onlinelibrary.wiley.com/doi/abs/10.111...</td>\n",
              "      <td>The international governance of artificial int...</td>\n",
              "      <td>2020</td>\n",
              "      <td>2022-01-30 04:47:43</td>\n",
              "      <td>2022-01-30 04:47:43</td>\n",
              "      <td>2021-11-13 15:58:24</td>\n",
              "      <td>545-556</td>\n",
              "      <td>NaN</td>\n",
              "      <td>5</td>\n",
              "      <td>11.0</td>\n",
              "      <td>NaN</td>\n",
              "      <td>NaN</td>\n",
              "      <td>Fragmentation and the Future</td>\n",
              "      <td>NaN</td>\n",
              "      <td>NaN</td>\n",
              "      <td>NaN</td>\n",
              "      <td>NaN</td>\n",
              "      <td>NaN</td>\n",
              "      <td>NaN</td>\n",
              "      <td>en</td>\n",
              "      <td>NaN</td>\n",
              "      <td>NaN</td>\n",
              "      <td>NaN</td>\n",
              "      <td>NaN</td>\n",
              "      <td>Wiley Online Library</td>\n",
              "      <td>NaN</td>\n",
              "      <td>ZSCC: 0000010  _eprint: https://onlinelibrary....</td>\n",
              "      <td>NaN</td>\n",
              "      <td>/Users/jacquesthibodeau/Zotero/storage/2TZBI3F...</td>\n",
              "      <td>NaN</td>\n",
              "      <td>UnsortedSafety</td>\n",
              "      <td>...</td>\n",
              "      <td>NaN</td>\n",
              "      <td>NaN</td>\n",
              "      <td>NaN</td>\n",
              "      <td>NaN</td>\n",
              "      <td>NaN</td>\n",
              "      <td>NaN</td>\n",
              "      <td>NaN</td>\n",
              "      <td>NaN</td>\n",
              "      <td>NaN</td>\n",
              "      <td>NaN</td>\n",
              "      <td>NaN</td>\n",
              "      <td>NaN</td>\n",
              "      <td>NaN</td>\n",
              "      <td>NaN</td>\n",
              "      <td>NaN</td>\n",
              "      <td>NaN</td>\n",
              "      <td>NaN</td>\n",
              "      <td>NaN</td>\n",
              "      <td>NaN</td>\n",
              "      <td>NaN</td>\n",
              "      <td>NaN</td>\n",
              "      <td>NaN</td>\n",
              "      <td>NaN</td>\n",
              "      <td>NaN</td>\n",
              "      <td>NaN</td>\n",
              "      <td>NaN</td>\n",
              "      <td>NaN</td>\n",
              "      <td>NaN</td>\n",
              "      <td>NaN</td>\n",
              "      <td>NaN</td>\n",
              "      <td>NaN</td>\n",
              "      <td>NaN</td>\n",
              "      <td>NaN</td>\n",
              "      <td>NaN</td>\n",
              "      <td>NaN</td>\n",
              "      <td>NaN</td>\n",
              "      <td>NaN</td>\n",
              "      <td>NaN</td>\n",
              "      <td>NaN</td>\n",
              "      <td>NaN</td>\n",
              "    </tr>\n",
              "    <tr>\n",
              "      <th>3</th>\n",
              "      <td>JVMJ4RMM</td>\n",
              "      <td>journalArticle</td>\n",
              "      <td>2020.0</td>\n",
              "      <td>Stray, Jonathan</td>\n",
              "      <td>Aligning AI Optimization to Community Well-Being</td>\n",
              "      <td>International Journal of Community Well-Being</td>\n",
              "      <td>NaN</td>\n",
              "      <td>2524-5295, 2524-5309</td>\n",
              "      <td>10.1007/s42413-020-00086-3</td>\n",
              "      <td>http://link.springer.com/10.1007/s42413-020-00...</td>\n",
              "      <td>NaN</td>\n",
              "      <td>2020-12</td>\n",
              "      <td>2022-01-30 04:47:36</td>\n",
              "      <td>2022-01-30 04:47:36</td>\n",
              "      <td>2021-11-13 22:47:54</td>\n",
              "      <td>443-463</td>\n",
              "      <td>NaN</td>\n",
              "      <td>4</td>\n",
              "      <td>3.0</td>\n",
              "      <td>NaN</td>\n",
              "      <td>Int. Journal of Com. WB</td>\n",
              "      <td>NaN</td>\n",
              "      <td>NaN</td>\n",
              "      <td>NaN</td>\n",
              "      <td>NaN</td>\n",
              "      <td>NaN</td>\n",
              "      <td>NaN</td>\n",
              "      <td>NaN</td>\n",
              "      <td>en</td>\n",
              "      <td>NaN</td>\n",
              "      <td>NaN</td>\n",
              "      <td>NaN</td>\n",
              "      <td>NaN</td>\n",
              "      <td>DOI.org (Crossref)</td>\n",
              "      <td>NaN</td>\n",
              "      <td>ZSCC: 0000010</td>\n",
              "      <td>NaN</td>\n",
              "      <td>/Users/jacquesthibodeau/Zotero/storage/V3BEV7X...</td>\n",
              "      <td>NaN</td>\n",
              "      <td>UnsortedSafety</td>\n",
              "      <td>...</td>\n",
              "      <td>NaN</td>\n",
              "      <td>NaN</td>\n",
              "      <td>NaN</td>\n",
              "      <td>NaN</td>\n",
              "      <td>NaN</td>\n",
              "      <td>NaN</td>\n",
              "      <td>NaN</td>\n",
              "      <td>NaN</td>\n",
              "      <td>NaN</td>\n",
              "      <td>NaN</td>\n",
              "      <td>NaN</td>\n",
              "      <td>NaN</td>\n",
              "      <td>NaN</td>\n",
              "      <td>NaN</td>\n",
              "      <td>NaN</td>\n",
              "      <td>NaN</td>\n",
              "      <td>NaN</td>\n",
              "      <td>NaN</td>\n",
              "      <td>NaN</td>\n",
              "      <td>NaN</td>\n",
              "      <td>NaN</td>\n",
              "      <td>NaN</td>\n",
              "      <td>NaN</td>\n",
              "      <td>NaN</td>\n",
              "      <td>NaN</td>\n",
              "      <td>NaN</td>\n",
              "      <td>NaN</td>\n",
              "      <td>NaN</td>\n",
              "      <td>NaN</td>\n",
              "      <td>NaN</td>\n",
              "      <td>NaN</td>\n",
              "      <td>NaN</td>\n",
              "      <td>NaN</td>\n",
              "      <td>NaN</td>\n",
              "      <td>NaN</td>\n",
              "      <td>NaN</td>\n",
              "      <td>NaN</td>\n",
              "      <td>NaN</td>\n",
              "      <td>NaN</td>\n",
              "      <td>NaN</td>\n",
              "    </tr>\n",
              "    <tr>\n",
              "      <th>11</th>\n",
              "      <td>TK5F29IU</td>\n",
              "      <td>journalArticle</td>\n",
              "      <td>2021.0</td>\n",
              "      <td>Hayden, Benjamin; Niv, Yael</td>\n",
              "      <td>The case against economic values in the orbito...</td>\n",
              "      <td>Behavioral Neuroscience</td>\n",
              "      <td>NaN</td>\n",
              "      <td>NaN</td>\n",
              "      <td>10.1037/bne0000448</td>\n",
              "      <td>https://osf.io/7hgup</td>\n",
              "      <td>Much of traditional neuroeconomics proceeds fr...</td>\n",
              "      <td>2021</td>\n",
              "      <td>2022-01-30 04:48:47</td>\n",
              "      <td>2022-01-30 04:48:47</td>\n",
              "      <td>2021-11-08 23:41:47</td>\n",
              "      <td>192-201</td>\n",
              "      <td>NaN</td>\n",
              "      <td>2</td>\n",
              "      <td>135.0</td>\n",
              "      <td>NaN</td>\n",
              "      <td>NaN</td>\n",
              "      <td>NaN</td>\n",
              "      <td>NaN</td>\n",
              "      <td>NaN</td>\n",
              "      <td>NaN</td>\n",
              "      <td>NaN</td>\n",
              "      <td>NaN</td>\n",
              "      <td>NaN</td>\n",
              "      <td>NaN</td>\n",
              "      <td>NaN</td>\n",
              "      <td>NaN</td>\n",
              "      <td>NaN</td>\n",
              "      <td>NaN</td>\n",
              "      <td>DOI.org (Crossref)</td>\n",
              "      <td>NaN</td>\n",
              "      <td>ZSCC: 0000026  DOI: 10.31234/osf.io/7hgup</td>\n",
              "      <td>NaN</td>\n",
              "      <td>NaN</td>\n",
              "      <td>NaN</td>\n",
              "      <td>UnsortedSafety</td>\n",
              "      <td>...</td>\n",
              "      <td>NaN</td>\n",
              "      <td>NaN</td>\n",
              "      <td>NaN</td>\n",
              "      <td>NaN</td>\n",
              "      <td>NaN</td>\n",
              "      <td>NaN</td>\n",
              "      <td>NaN</td>\n",
              "      <td>NaN</td>\n",
              "      <td>NaN</td>\n",
              "      <td>NaN</td>\n",
              "      <td>NaN</td>\n",
              "      <td>NaN</td>\n",
              "      <td>NaN</td>\n",
              "      <td>NaN</td>\n",
              "      <td>NaN</td>\n",
              "      <td>NaN</td>\n",
              "      <td>NaN</td>\n",
              "      <td>NaN</td>\n",
              "      <td>NaN</td>\n",
              "      <td>NaN</td>\n",
              "      <td>NaN</td>\n",
              "      <td>NaN</td>\n",
              "      <td>NaN</td>\n",
              "      <td>NaN</td>\n",
              "      <td>NaN</td>\n",
              "      <td>NaN</td>\n",
              "      <td>NaN</td>\n",
              "      <td>NaN</td>\n",
              "      <td>NaN</td>\n",
              "      <td>NaN</td>\n",
              "      <td>NaN</td>\n",
              "      <td>NaN</td>\n",
              "      <td>NaN</td>\n",
              "      <td>NaN</td>\n",
              "      <td>NaN</td>\n",
              "      <td>NaN</td>\n",
              "      <td>NaN</td>\n",
              "      <td>NaN</td>\n",
              "      <td>NaN</td>\n",
              "      <td>NaN</td>\n",
              "    </tr>\n",
              "    <tr>\n",
              "      <th>25</th>\n",
              "      <td>NHWZIKZ2</td>\n",
              "      <td>journalArticle</td>\n",
              "      <td>2020.0</td>\n",
              "      <td>Fernandes, Pedro; Santos, Francisco C.; Lopes,...</td>\n",
              "      <td>Norms for Beneficial A.I.: A Computational Ana...</td>\n",
              "      <td>AI Communications</td>\n",
              "      <td>NaN</td>\n",
              "      <td>18758452, 09217126</td>\n",
              "      <td>10.3233/AIC-201502</td>\n",
              "      <td>http://arxiv.org/abs/1907.03843</td>\n",
              "      <td>The rise of artificial intelligence (A.I.) bas...</td>\n",
              "      <td>2020-12-18</td>\n",
              "      <td>2022-01-30 04:48:46</td>\n",
              "      <td>2022-01-30 04:48:46</td>\n",
              "      <td>2021-11-13 22:40:37</td>\n",
              "      <td>155-171</td>\n",
              "      <td>NaN</td>\n",
              "      <td>3-6</td>\n",
              "      <td>33.0</td>\n",
              "      <td>NaN</td>\n",
              "      <td>AIC</td>\n",
              "      <td>Norms for Beneficial A.I.</td>\n",
              "      <td>NaN</td>\n",
              "      <td>NaN</td>\n",
              "      <td>NaN</td>\n",
              "      <td>NaN</td>\n",
              "      <td>NaN</td>\n",
              "      <td>NaN</td>\n",
              "      <td>NaN</td>\n",
              "      <td>NaN</td>\n",
              "      <td>NaN</td>\n",
              "      <td>NaN</td>\n",
              "      <td>NaN</td>\n",
              "      <td>arXiv.org</td>\n",
              "      <td>NaN</td>\n",
              "      <td>ZSCC: 0000004  arXiv: 1907.03843</td>\n",
              "      <td>NaN</td>\n",
              "      <td>/Users/jacquesthibodeau/Zotero/storage/JAVXSVN...</td>\n",
              "      <td>NaN</td>\n",
              "      <td>UnsortedSafety</td>\n",
              "      <td>...</td>\n",
              "      <td>NaN</td>\n",
              "      <td>NaN</td>\n",
              "      <td>NaN</td>\n",
              "      <td>NaN</td>\n",
              "      <td>NaN</td>\n",
              "      <td>NaN</td>\n",
              "      <td>NaN</td>\n",
              "      <td>NaN</td>\n",
              "      <td>NaN</td>\n",
              "      <td>NaN</td>\n",
              "      <td>NaN</td>\n",
              "      <td>NaN</td>\n",
              "      <td>NaN</td>\n",
              "      <td>NaN</td>\n",
              "      <td>NaN</td>\n",
              "      <td>NaN</td>\n",
              "      <td>NaN</td>\n",
              "      <td>NaN</td>\n",
              "      <td>NaN</td>\n",
              "      <td>NaN</td>\n",
              "      <td>NaN</td>\n",
              "      <td>NaN</td>\n",
              "      <td>NaN</td>\n",
              "      <td>NaN</td>\n",
              "      <td>NaN</td>\n",
              "      <td>NaN</td>\n",
              "      <td>NaN</td>\n",
              "      <td>NaN</td>\n",
              "      <td>NaN</td>\n",
              "      <td>NaN</td>\n",
              "      <td>NaN</td>\n",
              "      <td>NaN</td>\n",
              "      <td>NaN</td>\n",
              "      <td>NaN</td>\n",
              "      <td>NaN</td>\n",
              "      <td>NaN</td>\n",
              "      <td>NaN</td>\n",
              "      <td>NaN</td>\n",
              "      <td>NaN</td>\n",
              "      <td>NaN</td>\n",
              "    </tr>\n",
              "    <tr>\n",
              "      <th>30</th>\n",
              "      <td>HDWGJGAP</td>\n",
              "      <td>journalArticle</td>\n",
              "      <td>2021.0</td>\n",
              "      <td>Mingard, Chris; Valle-Pérez, Guillermo; Skalse...</td>\n",
              "      <td>Is SGD a Bayesian sampler? Well, almost</td>\n",
              "      <td>Journal of Machine Learning Research</td>\n",
              "      <td>NaN</td>\n",
              "      <td>NaN</td>\n",
              "      <td>NaN</td>\n",
              "      <td>http://arxiv.org/abs/2006.15191</td>\n",
              "      <td>Overparameterised deep neural networks (DNNs) ...</td>\n",
              "      <td>2021-02</td>\n",
              "      <td>2022-01-30 04:48:46</td>\n",
              "      <td>2022-01-30 04:48:46</td>\n",
              "      <td>2021-11-13 22:56:31</td>\n",
              "      <td>NaN</td>\n",
              "      <td>NaN</td>\n",
              "      <td>NaN</td>\n",
              "      <td>22.0</td>\n",
              "      <td>NaN</td>\n",
              "      <td>NaN</td>\n",
              "      <td>Is SGD a Bayesian sampler?</td>\n",
              "      <td>NaN</td>\n",
              "      <td>NaN</td>\n",
              "      <td>NaN</td>\n",
              "      <td>NaN</td>\n",
              "      <td>NaN</td>\n",
              "      <td>NaN</td>\n",
              "      <td>NaN</td>\n",
              "      <td>NaN</td>\n",
              "      <td>NaN</td>\n",
              "      <td>NaN</td>\n",
              "      <td>NaN</td>\n",
              "      <td>arXiv.org</td>\n",
              "      <td>NaN</td>\n",
              "      <td>ZSCC: 0000009  arXiv: 2006.15191</td>\n",
              "      <td>NaN</td>\n",
              "      <td>/Users/jacquesthibodeau/Zotero/storage/ACV9IXE...</td>\n",
              "      <td>NaN</td>\n",
              "      <td>UnsortedSafety</td>\n",
              "      <td>...</td>\n",
              "      <td>NaN</td>\n",
              "      <td>NaN</td>\n",
              "      <td>NaN</td>\n",
              "      <td>NaN</td>\n",
              "      <td>NaN</td>\n",
              "      <td>NaN</td>\n",
              "      <td>NaN</td>\n",
              "      <td>NaN</td>\n",
              "      <td>NaN</td>\n",
              "      <td>NaN</td>\n",
              "      <td>NaN</td>\n",
              "      <td>NaN</td>\n",
              "      <td>NaN</td>\n",
              "      <td>NaN</td>\n",
              "      <td>NaN</td>\n",
              "      <td>NaN</td>\n",
              "      <td>NaN</td>\n",
              "      <td>NaN</td>\n",
              "      <td>NaN</td>\n",
              "      <td>NaN</td>\n",
              "      <td>NaN</td>\n",
              "      <td>NaN</td>\n",
              "      <td>NaN</td>\n",
              "      <td>NaN</td>\n",
              "      <td>NaN</td>\n",
              "      <td>NaN</td>\n",
              "      <td>NaN</td>\n",
              "      <td>NaN</td>\n",
              "      <td>NaN</td>\n",
              "      <td>NaN</td>\n",
              "      <td>NaN</td>\n",
              "      <td>NaN</td>\n",
              "      <td>NaN</td>\n",
              "      <td>NaN</td>\n",
              "      <td>NaN</td>\n",
              "      <td>NaN</td>\n",
              "      <td>NaN</td>\n",
              "      <td>NaN</td>\n",
              "      <td>NaN</td>\n",
              "      <td>NaN</td>\n",
              "    </tr>\n",
              "  </tbody>\n",
              "</table>\n",
              "<p>5 rows × 87 columns</p>\n",
              "</div>\n",
              "      <button class=\"colab-df-convert\" onclick=\"convertToInteractive('df-74c65b7d-d2bd-4a13-9b71-5e0b03bdd21f')\"\n",
              "              title=\"Convert this dataframe to an interactive table.\"\n",
              "              style=\"display:none;\">\n",
              "        \n",
              "  <svg xmlns=\"http://www.w3.org/2000/svg\" height=\"24px\"viewBox=\"0 0 24 24\"\n",
              "       width=\"24px\">\n",
              "    <path d=\"M0 0h24v24H0V0z\" fill=\"none\"/>\n",
              "    <path d=\"M18.56 5.44l.94 2.06.94-2.06 2.06-.94-2.06-.94-.94-2.06-.94 2.06-2.06.94zm-11 1L8.5 8.5l.94-2.06 2.06-.94-2.06-.94L8.5 2.5l-.94 2.06-2.06.94zm10 10l.94 2.06.94-2.06 2.06-.94-2.06-.94-.94-2.06-.94 2.06-2.06.94z\"/><path d=\"M17.41 7.96l-1.37-1.37c-.4-.4-.92-.59-1.43-.59-.52 0-1.04.2-1.43.59L10.3 9.45l-7.72 7.72c-.78.78-.78 2.05 0 2.83L4 21.41c.39.39.9.59 1.41.59.51 0 1.02-.2 1.41-.59l7.78-7.78 2.81-2.81c.8-.78.8-2.07 0-2.86zM5.41 20L4 18.59l7.72-7.72 1.47 1.35L5.41 20z\"/>\n",
              "  </svg>\n",
              "      </button>\n",
              "      \n",
              "  <style>\n",
              "    .colab-df-container {\n",
              "      display:flex;\n",
              "      flex-wrap:wrap;\n",
              "      gap: 12px;\n",
              "    }\n",
              "\n",
              "    .colab-df-convert {\n",
              "      background-color: #E8F0FE;\n",
              "      border: none;\n",
              "      border-radius: 50%;\n",
              "      cursor: pointer;\n",
              "      display: none;\n",
              "      fill: #1967D2;\n",
              "      height: 32px;\n",
              "      padding: 0 0 0 0;\n",
              "      width: 32px;\n",
              "    }\n",
              "\n",
              "    .colab-df-convert:hover {\n",
              "      background-color: #E2EBFA;\n",
              "      box-shadow: 0px 1px 2px rgba(60, 64, 67, 0.3), 0px 1px 3px 1px rgba(60, 64, 67, 0.15);\n",
              "      fill: #174EA6;\n",
              "    }\n",
              "\n",
              "    [theme=dark] .colab-df-convert {\n",
              "      background-color: #3B4455;\n",
              "      fill: #D2E3FC;\n",
              "    }\n",
              "\n",
              "    [theme=dark] .colab-df-convert:hover {\n",
              "      background-color: #434B5C;\n",
              "      box-shadow: 0px 1px 3px 1px rgba(0, 0, 0, 0.15);\n",
              "      filter: drop-shadow(0px 1px 2px rgba(0, 0, 0, 0.3));\n",
              "      fill: #FFFFFF;\n",
              "    }\n",
              "  </style>\n",
              "\n",
              "      <script>\n",
              "        const buttonEl =\n",
              "          document.querySelector('#df-74c65b7d-d2bd-4a13-9b71-5e0b03bdd21f button.colab-df-convert');\n",
              "        buttonEl.style.display =\n",
              "          google.colab.kernel.accessAllowed ? 'block' : 'none';\n",
              "\n",
              "        async function convertToInteractive(key) {\n",
              "          const element = document.querySelector('#df-74c65b7d-d2bd-4a13-9b71-5e0b03bdd21f');\n",
              "          const dataTable =\n",
              "            await google.colab.kernel.invokeFunction('convertToInteractive',\n",
              "                                                     [key], {});\n",
              "          if (!dataTable) return;\n",
              "\n",
              "          const docLinkHtml = 'Like what you see? Visit the ' +\n",
              "            '<a target=\"_blank\" href=https://colab.research.google.com/notebooks/data_table.ipynb>data table notebook</a>'\n",
              "            + ' to learn more about interactive tables.';\n",
              "          element.innerHTML = '';\n",
              "          dataTable['output_type'] = 'display_data';\n",
              "          await google.colab.output.renderOutput(dataTable, element);\n",
              "          const docLink = document.createElement('div');\n",
              "          docLink.innerHTML = docLinkHtml;\n",
              "          element.appendChild(docLink);\n",
              "        }\n",
              "      </script>\n",
              "    </div>\n",
              "  </div>\n",
              "  "
            ],
            "text/plain": [
              "         Key       Item Type  ...  History Legislative Body\n",
              "1   HX9UZ5JP  journalArticle  ...      NaN              NaN\n",
              "3   JVMJ4RMM  journalArticle  ...      NaN              NaN\n",
              "11  TK5F29IU  journalArticle  ...      NaN              NaN\n",
              "25  NHWZIKZ2  journalArticle  ...      NaN              NaN\n",
              "30  HDWGJGAP  journalArticle  ...      NaN              NaN\n",
              "\n",
              "[5 rows x 87 columns]"
            ]
          },
          "metadata": {},
          "execution_count": 32
        }
      ]
    },
    {
      "cell_type": "markdown",
      "source": [
        "# Extract text from AI Alignment Resources"
      ],
      "metadata": {
        "id": "q4WhBM5lrPyD"
      }
    },
    {
      "cell_type": "code",
      "source": [
        "df_arxiv = df[df['Url'].str.contains('arxiv') == True]\n",
        "arxiv_paper_list = df_arxiv['Url'].values\n",
        "arxiv_paper_list[0:10]"
      ],
      "metadata": {
        "colab": {
          "base_uri": "https://localhost:8080/"
        },
        "id": "TaTb1nnZRrUE",
        "outputId": "59e39b85-de75-416e-bdf5-e96f04794cd1"
      },
      "execution_count": 33,
      "outputs": [
        {
          "output_type": "execute_result",
          "data": {
            "text/plain": [
              "array(['http://arxiv.org/abs/2002.11328',\n",
              "       'http://arxiv.org/abs/2010.11645',\n",
              "       'http://arxiv.org/abs/2002.11708',\n",
              "       'http://arxiv.org/abs/2012.10800',\n",
              "       'http://arxiv.org/abs/2011.08512',\n",
              "       'http://arxiv.org/abs/2002.11089',\n",
              "       'http://arxiv.org/abs/2012.05876',\n",
              "       'http://arxiv.org/abs/2010.14603',\n",
              "       'http://arxiv.org/abs/2005.01643',\n",
              "       'http://arxiv.org/abs/1907.03843'], dtype=object)"
            ]
          },
          "metadata": {},
          "execution_count": 33
        }
      ]
    },
    {
      "cell_type": "code",
      "source": [
        "# # Grabbing files from ar5iv in case source (LaTeX doesn't work)\n",
        "\n",
        "# def grab_text_from_webpage(url):\n",
        "#     with request.urlopen(url) as response:\n",
        "#         html = response.read()\n",
        "#     soup = BeautifulSoup(html, \"html.parser\")\n",
        "#     return soup.get_text(separator=\" \")\n",
        "\n",
        "# df_arxiv['Url'].str.replace('arxiv', 'ar5iv')\n",
        "# arxiv_paper = grab_text_from_webpage('http://ar5iv.org/abs/2002.11328')\n",
        "# arxiv_paper_list = arxiv_paper.split('\\n\\n')\n",
        "# list_text = BeautifulSoup(arxiv_paper, \"html.parser\").get_text(separator=\" \").split('\\n')\n",
        "# ''.join(list_text)"
      ],
      "metadata": {
        "id": "DTjcEYYLAwAd"
      },
      "execution_count": 34,
      "outputs": []
    },
    {
      "cell_type": "markdown",
      "source": [
        "## Extracting PDFs with Tika"
      ],
      "metadata": {
        "id": "CnAz2Ws6XONA"
      }
    },
    {
      "cell_type": "code",
      "source": [
        "# def tikaTextExtractor(file_path):\n",
        "#     \"\"\"Extracts text from a PDF using tika.\"\"\"\n",
        "#     print(\"Extracting text from file: \" + file_path)\n",
        "#     parsed_tika = parser.from_file(file_path)\n",
        "#     return parsed_tika[\"content\"]\n",
        "\n",
        "# txt = tikaTextExtractor(str(RAW_DIR / 'pdfs' / 'Superintelligence.pdf'))"
      ],
      "metadata": {
        "id": "GtcCbZzznPE3"
      },
      "execution_count": 35,
      "outputs": []
    },
    {
      "cell_type": "code",
      "source": [
        "# print(txt[0:1000])"
      ],
      "metadata": {
        "id": "5xadQnyup3SJ"
      },
      "execution_count": 36,
      "outputs": []
    },
    {
      "cell_type": "code",
      "source": [
        ""
      ],
      "metadata": {
        "id": "Nwl9KNYszUdJ"
      },
      "execution_count": 36,
      "outputs": []
    },
    {
      "cell_type": "code",
      "source": [
        "# with open(RAW_DIR / 'txts' / 'Superintelligence.txt', 'w') as f:\n",
        "#     f.write(txt)"
      ],
      "metadata": {
        "id": "cmiZn7w8sopD"
      },
      "execution_count": 37,
      "outputs": []
    },
    {
      "cell_type": "code",
      "source": [
        "# with request.urlopen('https://arxiv.org/e-print/2010.11645') as response:\n",
        "#     html = response.read()"
      ],
      "metadata": {
        "id": "q5zCEol86qjM"
      },
      "execution_count": 38,
      "outputs": []
    },
    {
      "cell_type": "code",
      "source": [
        "# for i,link in enumerate(['https://arxiv.org/e-print/2010.11645']):\n",
        "#     r = requests.get(link,allow_redirects=True)\n",
        "#     with open(f\"a{i}.\",\"wb\") as code:\n",
        "#         code.write(r.content)"
      ],
      "metadata": {
        "id": "wTsZ7T4t6qvE"
      },
      "execution_count": 66,
      "outputs": []
    },
    {
      "cell_type": "markdown",
      "source": [
        "## Extract LaTeX papers from arXiv"
      ],
      "metadata": {
        "id": "DIvoazD3XjV_"
      }
    },
    {
      "cell_type": "code",
      "source": [
        "paper = next(arxiv.Search(id_list=[\"2101.00027v1\"]).results())"
      ],
      "metadata": {
        "id": "JwzdUTI7FDl4"
      },
      "execution_count": 39,
      "outputs": []
    },
    {
      "cell_type": "code",
      "source": [
        "# paper.download_source(dirpath=TARS_DIR, filename=\"2101.00027v1.tar.gz\")"
      ],
      "metadata": {
        "id": "X4ociSItFDsz"
      },
      "execution_count": 40,
      "outputs": []
    },
    {
      "cell_type": "code",
      "source": [
        "paper.entry_id"
      ],
      "metadata": {
        "colab": {
          "base_uri": "https://localhost:8080/",
          "height": 36
        },
        "id": "W3vvZWrRJk-W",
        "outputId": "4ced1c2b-9868-4261-cf04-106194f0db7b"
      },
      "execution_count": 41,
      "outputs": [
        {
          "output_type": "execute_result",
          "data": {
            "application/vnd.google.colaboratory.intrinsic+json": {
              "type": "string"
            },
            "text/plain": [
              "'http://arxiv.org/abs/2101.00027v1'"
            ]
          },
          "metadata": {},
          "execution_count": 41
        }
      ]
    },
    {
      "cell_type": "code",
      "source": [
        "if not os.path.exists(TARS_DIR / \"211.00027v1.tar.gz\"):\n",
        "    print('does not exists')"
      ],
      "metadata": {
        "colab": {
          "base_uri": "https://localhost:8080/"
        },
        "id": "weqKO1UrNp2e",
        "outputId": "701d4408-30f2-4cc1-db79-dac737359c63"
      },
      "execution_count": 42,
      "outputs": [
        {
          "output_type": "stream",
          "name": "stdout",
          "text": [
            "does not exists\n"
          ]
        }
      ]
    },
    {
      "cell_type": "code",
      "source": [
        "def download_arxiv_paper_tar(paper_id, tar_filename):\n",
        "    paper = next(arxiv.Search(id_list=[paper_id]).results())\n",
        "    if not os.path.exists(str(TARS_DIR / tar_filename)):\n",
        "        paper.download_source(dirpath=TARS_DIR, filename=tar_filename)\n",
        "\n",
        "def extract_tex(tar_filename):\n",
        "    tar = tarfile.open(str(TARS_DIR / tar_filename))\n",
        "    for member in tar.getmembers():\n",
        "        if \".tex\" in member.name:\n",
        "            tex_filename = member.name\n",
        "            tar.extract(member, LATEX_DIR)\n",
        "    tar.close()\n",
        "    return tex_filename"
      ],
      "metadata": {
        "id": "HqPtQc8GJlQP"
      },
      "execution_count": 43,
      "outputs": []
    },
    {
      "cell_type": "code",
      "source": [
        "pickled_arxiv_list = str(RAW_DIR / \"arxiv_ids_and_names.pkl\")\n",
        "\n",
        "if not os.path.exists(pickled_arxiv_list):\n",
        "    arxiv_ids_and_names = []\n",
        "else:\n",
        "    pickle.load(pickled_arxiv_list)"
      ],
      "metadata": {
        "id": "NJSNa2ytZIYG"
      },
      "execution_count": 44,
      "outputs": []
    },
    {
      "cell_type": "code",
      "source": [
        "for paper_id in arxiv_paper_list:\n",
        "    paper_id = paper_id.split('/')[-1] + \"v1\"\n",
        "    tar_filename = paper_id + \".tar.gz\"\n",
        "    download_arxiv_paper_tar(paper_id, tar_filename)\n",
        "    if not os.path.exists(str(LATEX_DIR / tar_filename)):\n",
        "        tex_filename = extract_tex(tar_filename)\n",
        "    arxiv_ids_and_names.append([paper_id, tex_filename])\n"
      ],
      "metadata": {
        "id": "GAm1TLv_JlXw",
        "colab": {
          "base_uri": "https://localhost:8080/",
          "height": 246
        },
        "outputId": "f14ff8d2-3ca4-483c-aaa9-a58bc059fb76"
      },
      "execution_count": 25,
      "outputs": [
        {
          "output_type": "error",
          "ename": "NameError",
          "evalue": "ignored",
          "traceback": [
            "\u001b[0;31m---------------------------------------------------------------------------\u001b[0m",
            "\u001b[0;31mNameError\u001b[0m                                 Traceback (most recent call last)",
            "\u001b[0;32m<ipython-input-25-e1402249cd44>\u001b[0m in \u001b[0;36m<module>\u001b[0;34m()\u001b[0m\n\u001b[1;32m      5\u001b[0m     \u001b[0;32mif\u001b[0m \u001b[0;32mnot\u001b[0m \u001b[0mos\u001b[0m\u001b[0;34m.\u001b[0m\u001b[0mpath\u001b[0m\u001b[0;34m.\u001b[0m\u001b[0mexists\u001b[0m\u001b[0;34m(\u001b[0m\u001b[0mstr\u001b[0m\u001b[0;34m(\u001b[0m\u001b[0mLATEX_DIR\u001b[0m \u001b[0;34m/\u001b[0m \u001b[0mtar_filename\u001b[0m\u001b[0;34m)\u001b[0m\u001b[0;34m)\u001b[0m\u001b[0;34m:\u001b[0m\u001b[0;34m\u001b[0m\u001b[0;34m\u001b[0m\u001b[0m\n\u001b[1;32m      6\u001b[0m         \u001b[0mtex_filename\u001b[0m \u001b[0;34m=\u001b[0m \u001b[0mextract_tex\u001b[0m\u001b[0;34m(\u001b[0m\u001b[0mtar_filename\u001b[0m\u001b[0;34m)\u001b[0m\u001b[0;34m\u001b[0m\u001b[0;34m\u001b[0m\u001b[0m\n\u001b[0;32m----> 7\u001b[0;31m     \u001b[0marxiv_ids_and_names\u001b[0m\u001b[0;34m.\u001b[0m\u001b[0mappend\u001b[0m\u001b[0;34m(\u001b[0m\u001b[0;34m[\u001b[0m\u001b[0mpaper_id\u001b[0m\u001b[0;34m,\u001b[0m \u001b[0mtex_filename\u001b[0m\u001b[0;34m]\u001b[0m\u001b[0;34m)\u001b[0m\u001b[0;34m\u001b[0m\u001b[0;34m\u001b[0m\u001b[0m\n\u001b[0m",
            "\u001b[0;31mNameError\u001b[0m: name 'arxiv_ids_and_names' is not defined"
          ]
        }
      ]
    },
    {
      "cell_type": "code",
      "source": [
        "with open('arxiv_ids_and_names.pkl', 'wb') as b:\n",
        "    pickle.dump(arxiv_ids_and_names, b)"
      ],
      "metadata": {
        "id": "XEOxzItJde5X"
      },
      "execution_count": null,
      "outputs": []
    },
    {
      "cell_type": "markdown",
      "source": [
        "## Convert LaTeX or EPUB with Pandoc"
      ],
      "metadata": {
        "id": "-17qzp78XwAv"
      }
    },
    {
      "cell_type": "code",
      "source": [
        "!timeout 10s pandoc -s the-pile.tex -o the-pile.md --wrap=none"
      ],
      "metadata": {
        "colab": {
          "base_uri": "https://localhost:8080/"
        },
        "id": "evEcNdMEiVz5",
        "outputId": "5e437dc5-ffea-4e28-b1c5-bf6ef906654d"
      },
      "execution_count": 50,
      "outputs": [
        {
          "output_type": "stream",
          "name": "stdout",
          "text": [
            "Error at \"the-pile.tex\" (line 360, column 1):\n",
            "unexpected }\n",
            "expecting \\end{document}\n",
            "}\n",
            "^\n"
          ]
        }
      ]
    },
    {
      "cell_type": "code",
      "source": [
        "\n",
        "\n",
        "try:\n",
        "    pandoc.read(file='the-pile.tex', format='latex')\n",
        "except ExitCodeError:\n",
        "    # import traceback\n",
        "    # traceback.print_exc()\n",
        "    pass"
      ],
      "metadata": {
        "colab": {
          "base_uri": "https://localhost:8080/",
          "height": 638
        },
        "id": "oAU-KDql-PdU",
        "outputId": "19a9b712-cbe0-442f-af4d-ba1bcb8fd263"
      },
      "execution_count": 53,
      "outputs": [
        {
          "output_type": "error",
          "ename": "NameError",
          "evalue": "ignored",
          "traceback": [
            "\u001b[0;31m---------------------------------------------------------------------------\u001b[0m",
            "\u001b[0;31mProcessExecutionError\u001b[0m                     Traceback (most recent call last)",
            "\u001b[0;32m<ipython-input-53-d53777f05d79>\u001b[0m in \u001b[0;36m<module>\u001b[0;34m()\u001b[0m\n\u001b[1;32m      1\u001b[0m \u001b[0;32mtry\u001b[0m\u001b[0;34m:\u001b[0m\u001b[0;34m\u001b[0m\u001b[0;34m\u001b[0m\u001b[0m\n\u001b[0;32m----> 2\u001b[0;31m     \u001b[0mpandoc\u001b[0m\u001b[0;34m.\u001b[0m\u001b[0mread\u001b[0m\u001b[0;34m(\u001b[0m\u001b[0mfile\u001b[0m\u001b[0;34m=\u001b[0m\u001b[0;34m'the-pile.tex'\u001b[0m\u001b[0;34m,\u001b[0m \u001b[0mformat\u001b[0m\u001b[0;34m=\u001b[0m\u001b[0;34m'latex'\u001b[0m\u001b[0;34m)\u001b[0m\u001b[0;34m\u001b[0m\u001b[0;34m\u001b[0m\u001b[0m\n\u001b[0m\u001b[1;32m      3\u001b[0m \u001b[0;32mexcept\u001b[0m \u001b[0mExitCodeError\u001b[0m\u001b[0;34m:\u001b[0m\u001b[0;34m\u001b[0m\u001b[0;34m\u001b[0m\u001b[0m\n",
            "\u001b[0;32m/usr/local/lib/python3.7/site-packages/pandoc/__init__.py\u001b[0m in \u001b[0;36mread\u001b[0;34m(source, file, format, options)\u001b[0m\n\u001b[1;32m    197\u001b[0m         )\n\u001b[0;32m--> 198\u001b[0;31m         \u001b[0mpandoc\u001b[0m\u001b[0;34m(\u001b[0m\u001b[0moptions\u001b[0m\u001b[0;34m)\u001b[0m\u001b[0;34m\u001b[0m\u001b[0;34m\u001b[0m\u001b[0m\n\u001b[0m\u001b[1;32m    199\u001b[0m         \u001b[0mjson_file\u001b[0m \u001b[0;34m=\u001b[0m \u001b[0mopen\u001b[0m\u001b[0;34m(\u001b[0m\u001b[0moutput_path\u001b[0m\u001b[0;34m,\u001b[0m \u001b[0;34m\"r\"\u001b[0m\u001b[0;34m,\u001b[0m \u001b[0mencoding\u001b[0m\u001b[0;34m=\u001b[0m\u001b[0;34m\"utf-8\"\u001b[0m\u001b[0;34m)\u001b[0m\u001b[0;34m\u001b[0m\u001b[0;34m\u001b[0m\u001b[0m\n",
            "\u001b[0;32m/usr/local/lib/python3.7/site-packages/plumbum/commands/base.py\u001b[0m in \u001b[0;36m__call__\u001b[0;34m(self, *args, **kwargs)\u001b[0m\n\u001b[1;32m     98\u001b[0m         \u001b[0;34m\"\"\"A shortcut for `run(args)`, returning only the process' stdout\"\"\"\u001b[0m\u001b[0;34m\u001b[0m\u001b[0;34m\u001b[0m\u001b[0m\n\u001b[0;32m---> 99\u001b[0;31m         \u001b[0;32mreturn\u001b[0m \u001b[0mself\u001b[0m\u001b[0;34m.\u001b[0m\u001b[0mrun\u001b[0m\u001b[0;34m(\u001b[0m\u001b[0margs\u001b[0m\u001b[0;34m,\u001b[0m \u001b[0;34m**\u001b[0m\u001b[0mkwargs\u001b[0m\u001b[0;34m)\u001b[0m\u001b[0;34m[\u001b[0m\u001b[0;36m1\u001b[0m\u001b[0;34m]\u001b[0m\u001b[0;34m\u001b[0m\u001b[0;34m\u001b[0m\u001b[0m\n\u001b[0m\u001b[1;32m    100\u001b[0m \u001b[0;34m\u001b[0m\u001b[0m\n",
            "\u001b[0;32m/usr/local/lib/python3.7/site-packages/plumbum/commands/base.py\u001b[0m in \u001b[0;36mrun\u001b[0;34m(self, args, **kwargs)\u001b[0m\n\u001b[1;32m    239\u001b[0m         \u001b[0;32mwith\u001b[0m \u001b[0mself\u001b[0m\u001b[0;34m.\u001b[0m\u001b[0mbgrun\u001b[0m\u001b[0;34m(\u001b[0m\u001b[0margs\u001b[0m\u001b[0;34m,\u001b[0m \u001b[0;34m**\u001b[0m\u001b[0mkwargs\u001b[0m\u001b[0;34m)\u001b[0m \u001b[0;32mas\u001b[0m \u001b[0mp\u001b[0m\u001b[0;34m:\u001b[0m\u001b[0;34m\u001b[0m\u001b[0;34m\u001b[0m\u001b[0m\n\u001b[0;32m--> 240\u001b[0;31m             \u001b[0;32mreturn\u001b[0m \u001b[0mp\u001b[0m\u001b[0;34m.\u001b[0m\u001b[0mrun\u001b[0m\u001b[0;34m(\u001b[0m\u001b[0;34m)\u001b[0m\u001b[0;34m\u001b[0m\u001b[0;34m\u001b[0m\u001b[0m\n\u001b[0m\u001b[1;32m    241\u001b[0m \u001b[0;34m\u001b[0m\u001b[0m\n",
            "\u001b[0;32m/usr/local/lib/python3.7/site-packages/plumbum/commands/base.py\u001b[0m in \u001b[0;36mrunner\u001b[0;34m()\u001b[0m\n\u001b[1;32m    200\u001b[0m             \u001b[0;32mtry\u001b[0m\u001b[0;34m:\u001b[0m\u001b[0;34m\u001b[0m\u001b[0;34m\u001b[0m\u001b[0m\n\u001b[0;32m--> 201\u001b[0;31m                 \u001b[0;32mreturn\u001b[0m \u001b[0mrun_proc\u001b[0m\u001b[0;34m(\u001b[0m\u001b[0mp\u001b[0m\u001b[0;34m,\u001b[0m \u001b[0mretcode\u001b[0m\u001b[0;34m,\u001b[0m \u001b[0mtimeout\u001b[0m\u001b[0;34m)\u001b[0m\u001b[0;34m\u001b[0m\u001b[0;34m\u001b[0m\u001b[0m\n\u001b[0m\u001b[1;32m    202\u001b[0m             \u001b[0;32mfinally\u001b[0m\u001b[0;34m:\u001b[0m\u001b[0;34m\u001b[0m\u001b[0;34m\u001b[0m\u001b[0m\n",
            "\u001b[0;32m/usr/local/lib/python3.7/site-packages/plumbum/commands/processes.py\u001b[0m in \u001b[0;36mrun_proc\u001b[0;34m(proc, retcode, timeout)\u001b[0m\n\u001b[1;32m    321\u001b[0m \u001b[0;34m\u001b[0m\u001b[0m\n\u001b[0;32m--> 322\u001b[0;31m     \u001b[0;32mreturn\u001b[0m \u001b[0m_check_process\u001b[0m\u001b[0;34m(\u001b[0m\u001b[0mproc\u001b[0m\u001b[0;34m,\u001b[0m \u001b[0mretcode\u001b[0m\u001b[0;34m,\u001b[0m \u001b[0mtimeout\u001b[0m\u001b[0;34m,\u001b[0m \u001b[0mstdout\u001b[0m\u001b[0;34m,\u001b[0m \u001b[0mstderr\u001b[0m\u001b[0;34m)\u001b[0m\u001b[0;34m\u001b[0m\u001b[0;34m\u001b[0m\u001b[0m\n\u001b[0m\u001b[1;32m    323\u001b[0m \u001b[0;34m\u001b[0m\u001b[0m\n",
            "\u001b[0;32m/usr/local/lib/python3.7/site-packages/plumbum/commands/processes.py\u001b[0m in \u001b[0;36m_check_process\u001b[0;34m(proc, retcode, timeout, stdout, stderr)\u001b[0m\n\u001b[1;32m     23\u001b[0m \u001b[0;32mdef\u001b[0m \u001b[0m_check_process\u001b[0m\u001b[0;34m(\u001b[0m\u001b[0mproc\u001b[0m\u001b[0;34m,\u001b[0m \u001b[0mretcode\u001b[0m\u001b[0;34m,\u001b[0m \u001b[0mtimeout\u001b[0m\u001b[0;34m,\u001b[0m \u001b[0mstdout\u001b[0m\u001b[0;34m,\u001b[0m \u001b[0mstderr\u001b[0m\u001b[0;34m)\u001b[0m\u001b[0;34m:\u001b[0m\u001b[0;34m\u001b[0m\u001b[0;34m\u001b[0m\u001b[0m\n\u001b[0;32m---> 24\u001b[0;31m     \u001b[0mproc\u001b[0m\u001b[0;34m.\u001b[0m\u001b[0mverify\u001b[0m\u001b[0;34m(\u001b[0m\u001b[0mretcode\u001b[0m\u001b[0;34m,\u001b[0m \u001b[0mtimeout\u001b[0m\u001b[0;34m,\u001b[0m \u001b[0mstdout\u001b[0m\u001b[0;34m,\u001b[0m \u001b[0mstderr\u001b[0m\u001b[0;34m)\u001b[0m\u001b[0;34m\u001b[0m\u001b[0;34m\u001b[0m\u001b[0m\n\u001b[0m\u001b[1;32m     25\u001b[0m     \u001b[0;32mreturn\u001b[0m \u001b[0mproc\u001b[0m\u001b[0;34m.\u001b[0m\u001b[0mreturncode\u001b[0m\u001b[0;34m,\u001b[0m \u001b[0mstdout\u001b[0m\u001b[0;34m,\u001b[0m \u001b[0mstderr\u001b[0m\u001b[0;34m\u001b[0m\u001b[0;34m\u001b[0m\u001b[0m\n",
            "\u001b[0;32m/usr/local/lib/python3.7/site-packages/plumbum/machines/base.py\u001b[0m in \u001b[0;36mverify\u001b[0;34m(self, retcode, timeout, stdout, stderr)\u001b[0m\n\u001b[1;32m     28\u001b[0m                 raise ProcessExecutionError(\n\u001b[0;32m---> 29\u001b[0;31m                     \u001b[0mgetattr\u001b[0m\u001b[0;34m(\u001b[0m\u001b[0mself\u001b[0m\u001b[0;34m,\u001b[0m \u001b[0;34m\"argv\"\u001b[0m\u001b[0;34m,\u001b[0m \u001b[0;32mNone\u001b[0m\u001b[0;34m)\u001b[0m\u001b[0;34m,\u001b[0m \u001b[0mself\u001b[0m\u001b[0;34m.\u001b[0m\u001b[0mreturncode\u001b[0m\u001b[0;34m,\u001b[0m \u001b[0mstdout\u001b[0m\u001b[0;34m,\u001b[0m \u001b[0mstderr\u001b[0m\u001b[0;34m\u001b[0m\u001b[0;34m\u001b[0m\u001b[0m\n\u001b[0m\u001b[1;32m     30\u001b[0m                 )\n",
            "\u001b[0;31mProcessExecutionError\u001b[0m: Unexpected exit code: 65\nCommand line: | /usr/local/bin/pandoc -t json -o /tmp/tmp_wirt58j/output.js -f latex /tmp/tmp_wirt58j/input\nStderr:       | Error at \"/tmp/tmp_wirt58j/input\" (line 360, column 1):\n              | unexpected }\n              | expecting \\end{document}\n              | }\n              | ^",
            "\nDuring handling of the above exception, another exception occurred:\n",
            "\u001b[0;31mNameError\u001b[0m                                 Traceback (most recent call last)",
            "\u001b[0;32m<ipython-input-53-d53777f05d79>\u001b[0m in \u001b[0;36m<module>\u001b[0;34m()\u001b[0m\n\u001b[1;32m      1\u001b[0m \u001b[0;32mtry\u001b[0m\u001b[0;34m:\u001b[0m\u001b[0;34m\u001b[0m\u001b[0;34m\u001b[0m\u001b[0m\n\u001b[1;32m      2\u001b[0m     \u001b[0mpandoc\u001b[0m\u001b[0;34m.\u001b[0m\u001b[0mread\u001b[0m\u001b[0;34m(\u001b[0m\u001b[0mfile\u001b[0m\u001b[0;34m=\u001b[0m\u001b[0;34m'the-pile.tex'\u001b[0m\u001b[0;34m,\u001b[0m \u001b[0mformat\u001b[0m\u001b[0;34m=\u001b[0m\u001b[0;34m'latex'\u001b[0m\u001b[0;34m)\u001b[0m\u001b[0;34m\u001b[0m\u001b[0;34m\u001b[0m\u001b[0m\n\u001b[0;32m----> 3\u001b[0;31m \u001b[0;32mexcept\u001b[0m \u001b[0mExitCodeError\u001b[0m\u001b[0;34m:\u001b[0m\u001b[0;34m\u001b[0m\u001b[0;34m\u001b[0m\u001b[0m\n\u001b[0m\u001b[1;32m      4\u001b[0m     \u001b[0;31m# import traceback\u001b[0m\u001b[0;34m\u001b[0m\u001b[0;34m\u001b[0m\u001b[0;34m\u001b[0m\u001b[0m\n\u001b[1;32m      5\u001b[0m     \u001b[0;31m# traceback.print_exc()\u001b[0m\u001b[0;34m\u001b[0m\u001b[0;34m\u001b[0m\u001b[0;34m\u001b[0m\u001b[0m\n",
            "\u001b[0;31mNameError\u001b[0m: name 'ExitCodeError' is not defined"
          ]
        }
      ]
    },
    {
      "cell_type": "markdown",
      "source": [
        "# Search all useful arxiv papers"
      ],
      "metadata": {
        "id": "xQZkrjVoGcRx"
      }
    },
    {
      "cell_type": "code",
      "source": [
        "search = arxiv.Search(\n",
        "    query=\"ai safety\",\n",
        "    max_results=10,\n",
        "    sort_by = arxiv.SortCriterion.Relevance\n",
        ")"
      ],
      "metadata": {
        "id": "sTQ2TZuFEcGO"
      },
      "execution_count": 32,
      "outputs": []
    },
    {
      "cell_type": "code",
      "source": [
        "for result in search.results():\n",
        "  print('Title: ', result.title, '\\nDate: ',result.published , '\\nId: ', result.entry_id, \n",
        "        '\\nSummary: ',result.summary ,'\\nURL: ', result.pdf_url, '\\n\\n')"
      ],
      "metadata": {
        "colab": {
          "base_uri": "https://localhost:8080/"
        },
        "id": "usnOl1JHGpZH",
        "outputId": "c5c97563-c482-4068-f90d-2fe641b93cdf"
      },
      "execution_count": 33,
      "outputs": [
        {
          "output_type": "stream",
          "name": "stdout",
          "text": [
            "Title:  Evolutionary Computation and AI Safety: Research Problems Impeding Routine and Safe Real-world Application of Evolution \n",
            "Date:  2019-06-24 19:26:10+00:00 \n",
            "Id:  http://arxiv.org/abs/1906.10189v2 \n",
            "Summary:  Recent developments in artificial intelligence and machine learning have\n",
            "spurred interest in the growing field of AI safety, which studies how to\n",
            "prevent human-harming accidents when deploying AI systems. This paper thus\n",
            "explores the intersection of AI safety with evolutionary computation, to show\n",
            "how safety issues arise in evolutionary computation and how understanding from\n",
            "evolutionary computational and biological evolution can inform the broader\n",
            "study of AI safety. \n",
            "URL:  http://arxiv.org/pdf/1906.10189v2 \n",
            "\n",
            "\n",
            "Title:  AI Failures: A Review of Underlying Issues \n",
            "Date:  2020-07-18 15:31:29+00:00 \n",
            "Id:  http://arxiv.org/abs/2008.04073v1 \n",
            "Summary:  Instances of Artificial Intelligence (AI) systems failing to deliver\n",
            "consistent, satisfactory performance are legion. We investigate why AI failures\n",
            "occur. We address only a narrow subset of the broader field of AI Safety. We\n",
            "focus on AI failures on account of flaws in conceptualization, design and\n",
            "deployment. Other AI Safety issues like trade-offs between privacy and security\n",
            "or convenience, bad actors hacking into AI systems to create mayhem or bad\n",
            "actors deploying AI for purposes harmful to humanity and are out of scope of\n",
            "our discussion. We find that AI systems fail on account of omission and\n",
            "commission errors in the design of the AI system, as well as upon failure to\n",
            "develop an appropriate interpretation of input information. Moreover, even when\n",
            "there is no significant flaw in the AI software, an AI system may fail because\n",
            "the hardware is incapable of robust performance across environments. Finally an\n",
            "AI system is quite likely to fail in situations where, in effect, it is called\n",
            "upon to deliver moral judgments -- a capability AI does not possess. We observe\n",
            "certain trade-offs in measures to mitigate a subset of AI failures and provide\n",
            "some recommendations. \n",
            "URL:  http://arxiv.org/pdf/2008.04073v1 \n",
            "\n",
            "\n",
            "Title:  System Safety and Artificial Intelligence \n",
            "Date:  2022-02-18 16:37:54+00:00 \n",
            "Id:  http://arxiv.org/abs/2202.09292v1 \n",
            "Summary:  This chapter formulates seven lessons for preventing harm in artificial\n",
            "intelligence (AI) systems based on insights from the field of system safety for\n",
            "software-based automation in safety-critical domains. New applications of AI\n",
            "across societal domains and public organizations and infrastructures come with\n",
            "new hazards, which lead to new forms of harm, both grave and pernicious. The\n",
            "text addresses the lack of consensus for diagnosing and eliminating new AI\n",
            "system hazards. For decades, the field of system safety has dealt with\n",
            "accidents and harm in safety-critical systems governed by varying degrees of\n",
            "software-based automation and decision-making. This field embraces the core\n",
            "assumption of systems and control that AI systems cannot be safeguarded by\n",
            "technical design choices on the model or algorithm alone, instead requiring an\n",
            "end-to-end hazard analysis and design frame that includes the context of use,\n",
            "impacted stakeholders and the formal and informal institutional environment in\n",
            "which the system operates. Safety and other values are then inherently\n",
            "socio-technical and emergent system properties that require design and control\n",
            "measures to instantiate these across the technical, social and institutional\n",
            "components of a system. This chapter honors system safety pioneer Nancy\n",
            "Leveson, by situating her core lessons for today's AI system safety challenges.\n",
            "For every lesson, concrete tools are offered for rethinking and reorganizing\n",
            "the safety management of AI systems, both in design and governance. This\n",
            "history tells us that effective AI safety management requires transdisciplinary\n",
            "approaches and a shared language that allows involvement of all levels of\n",
            "society. \n",
            "URL:  http://arxiv.org/pdf/2202.09292v1 \n",
            "\n",
            "\n",
            "Title:  Unpredictability of AI \n",
            "Date:  2019-05-29 14:37:16+00:00 \n",
            "Id:  http://arxiv.org/abs/1905.13053v1 \n",
            "Summary:  The young field of AI Safety is still in the process of identifying its\n",
            "challenges and limitations. In this paper, we formally describe one such\n",
            "impossibility result, namely Unpredictability of AI. We prove that it is\n",
            "impossible to precisely and consistently predict what specific actions a\n",
            "smarter-than-human intelligent system will take to achieve its objectives, even\n",
            "if we know terminal goals of the system. In conclusion, impact of\n",
            "Unpredictability on AI Safety is discussed. \n",
            "URL:  http://arxiv.org/pdf/1905.13053v1 \n",
            "\n",
            "\n",
            "Title:  TanksWorld: A Multi-Agent Environment for AI Safety Research \n",
            "Date:  2020-02-25 21:00:52+00:00 \n",
            "Id:  http://arxiv.org/abs/2002.11174v1 \n",
            "Summary:  The ability to create artificial intelligence (AI) capable of performing\n",
            "complex tasks is rapidly outpacing our ability to ensure the safe and assured\n",
            "operation of AI-enabled systems. Fortunately, a landscape of AI safety research\n",
            "is emerging in response to this asymmetry and yet there is a long way to go. In\n",
            "particular, recent simulation environments created to illustrate AI safety\n",
            "risks are relatively simple or narrowly-focused on a particular issue. Hence,\n",
            "we see a critical need for AI safety research environments that abstract\n",
            "essential aspects of complex real-world applications. In this work, we\n",
            "introduce the AI safety TanksWorld as an environment for AI safety research\n",
            "with three essential aspects: competing performance objectives, human-machine\n",
            "teaming, and multi-agent competition. The AI safety TanksWorld aims to\n",
            "accelerate the advancement of safe multi-agent decision-making algorithms by\n",
            "providing a software framework to support competitions with both system\n",
            "performance and safety objectives. As a work in progress, this paper introduces\n",
            "our research objectives and learning environment with reference code and\n",
            "baseline performance metrics to follow in a future work. \n",
            "URL:  http://arxiv.org/pdf/2002.11174v1 \n",
            "\n",
            "\n",
            "Title:  Transdisciplinary AI Observatory -- Retrospective Analyses and Future-Oriented Contradistinctions \n",
            "Date:  2020-11-26 16:01:49+00:00 \n",
            "Id:  http://arxiv.org/abs/2012.02592v2 \n",
            "Summary:  In the last years, AI safety gained international recognition in the light of\n",
            "heterogeneous safety-critical and ethical issues that risk overshadowing the\n",
            "broad beneficial impacts of AI. In this context, the implementation of AI\n",
            "observatory endeavors represents one key research direction. This paper\n",
            "motivates the need for an inherently transdisciplinary AI observatory approach\n",
            "integrating diverse retrospective and counterfactual views. We delineate aims\n",
            "and limitations while providing hands-on-advice utilizing concrete practical\n",
            "examples. Distinguishing between unintentionally and intentionally triggered AI\n",
            "risks with diverse socio-psycho-technological impacts, we exemplify a\n",
            "retrospective descriptive analysis followed by a retrospective counterfactual\n",
            "risk analysis. Building on these AI observatory tools, we present near-term\n",
            "transdisciplinary guidelines for AI safety. As further contribution, we discuss\n",
            "differentiated and tailored long-term directions through the lens of two\n",
            "disparate modern AI safety paradigms. For simplicity, we refer to these two\n",
            "different paradigms with the terms artificial stupidity (AS) and eternal\n",
            "creativity (EC) respectively. While both AS and EC acknowledge the need for a\n",
            "hybrid cognitive-affective approach to AI safety and overlap with regard to\n",
            "many short-term considerations, they differ fundamentally in the nature of\n",
            "multiple envisaged long-term solution patterns. By compiling relevant\n",
            "underlying contradistinctions, we aim to provide future-oriented incentives for\n",
            "constructive dialectics in practical and theoretical AI safety research. \n",
            "URL:  http://arxiv.org/pdf/2012.02592v2 \n",
            "\n",
            "\n",
            "Title:  A Psychopathological Approach to Safety Engineering in AI and AGI \n",
            "Date:  2018-05-23 00:19:07+00:00 \n",
            "Id:  http://arxiv.org/abs/1805.08915v1 \n",
            "Summary:  The complexity of dynamics in AI techniques is already approaching that of\n",
            "complex adaptive systems, thus curtailing the feasibility of formal\n",
            "controllability and reachability analysis in the context of AI safety. It\n",
            "follows that the envisioned instances of Artificial General Intelligence (AGI)\n",
            "will also suffer from challenges of complexity. To tackle such issues, we\n",
            "propose the modeling of deleterious behaviors in AI and AGI as psychological\n",
            "disorders, thereby enabling the employment of psychopathological approaches to\n",
            "analysis and control of misbehaviors. Accordingly, we present a discussion on\n",
            "the feasibility of the psychopathological approaches to AI safety, and propose\n",
            "general directions for research on modeling, diagnosis, and treatment of\n",
            "psychological disorders in AGI. \n",
            "URL:  http://arxiv.org/pdf/1805.08915v1 \n",
            "\n",
            "\n",
            "Title:  On Safety Assessment of Artificial Intelligence \n",
            "Date:  2020-02-29 14:05:28+00:00 \n",
            "Id:  http://arxiv.org/abs/2003.00260v1 \n",
            "Summary:  In this paper we discuss how systems with Artificial Intelligence (AI) can\n",
            "undergo safety assessment. This is relevant, if AI is used in safety related\n",
            "applications. Taking a deeper look into AI models, we show, that many models of\n",
            "artificial intelligence, in particular machine learning, are statistical\n",
            "models. Safety assessment would then have t o concentrate on the model that is\n",
            "used in AI, besides the normal assessment procedure. Part of the budget of\n",
            "dangerous random failures for the relevant safety integrity level needs to be\n",
            "used for the probabilistic faulty behavior of the AI system. We demonstrate our\n",
            "thoughts with a simple example and propose a research challenge that may be\n",
            "decisive for the use of AI in safety related systems. \n",
            "URL:  http://arxiv.org/pdf/2003.00260v1 \n",
            "\n",
            "\n",
            "Title:  Artificial Intelligence Safety and Cybersecurity: a Timeline of AI Failures \n",
            "Date:  2016-10-25 18:14:24+00:00 \n",
            "Id:  http://arxiv.org/abs/1610.07997v1 \n",
            "Summary:  In this work, we present and analyze reported failures of artificially\n",
            "intelligent systems and extrapolate our analysis to future AIs. We suggest that\n",
            "both the frequency and the seriousness of future AI failures will steadily\n",
            "increase. AI Safety can be improved based on ideas developed by cybersecurity\n",
            "experts. For narrow AIs safety failures are at the same, moderate, level of\n",
            "criticality as in cybersecurity, however for general AI, failures have a\n",
            "fundamentally different impact. A single failure of a superintelligent system\n",
            "may cause a catastrophic event without a chance for recovery. The goal of\n",
            "cybersecurity is to reduce the number of successful attacks on the system; the\n",
            "goal of AI Safety is to make sure zero attacks succeed in bypassing the safety\n",
            "mechanisms. Unfortunately, such a level of performance is unachievable. Every\n",
            "security system will eventually fail; there is no such thing as a 100% secure\n",
            "system. \n",
            "URL:  http://arxiv.org/pdf/1610.07997v1 \n",
            "\n",
            "\n",
            "Title:  Human Indignity: From Legal AI Personhood to Selfish Memes \n",
            "Date:  2018-10-02 20:01:43+00:00 \n",
            "Id:  http://arxiv.org/abs/1810.02724v1 \n",
            "Summary:  It is possible to rely on current corporate law to grant legal personhood to\n",
            "Artificially Intelligent (AI) agents. In this paper, after introducing pathways\n",
            "to AI personhood, we analyze consequences of such AI empowerment on human\n",
            "dignity, human safety and AI rights. We emphasize possibility of creating\n",
            "selfish memes and legal system hacking in the context of artificial entities.\n",
            "Finally, we consider some potential solutions for addressing described\n",
            "problems. \n",
            "URL:  http://arxiv.org/pdf/1810.02724v1 \n",
            "\n",
            "\n"
          ]
        }
      ]
    },
    {
      "cell_type": "code",
      "source": [
        ""
      ],
      "metadata": {
        "id": "7e9glMOIGpdI"
      },
      "execution_count": null,
      "outputs": []
    },
    {
      "cell_type": "code",
      "source": [
        ""
      ],
      "metadata": {
        "id": "vCp4R0EpGpgB"
      },
      "execution_count": null,
      "outputs": []
    },
    {
      "cell_type": "code",
      "source": [
        ""
      ],
      "metadata": {
        "id": "xTiKzxqeGpjA"
      },
      "execution_count": null,
      "outputs": []
    },
    {
      "cell_type": "code",
      "source": [
        ""
      ],
      "metadata": {
        "id": "YA3--td8Gpm2"
      },
      "execution_count": null,
      "outputs": []
    },
    {
      "cell_type": "code",
      "source": [
        ""
      ],
      "metadata": {
        "id": "iLLrlel_EcJE"
      },
      "execution_count": null,
      "outputs": []
    },
    {
      "cell_type": "code",
      "source": [
        ""
      ],
      "metadata": {
        "id": "N-YU1x3mEcMe"
      },
      "execution_count": null,
      "outputs": []
    },
    {
      "cell_type": "markdown",
      "source": [
        "# SOTAWHAT"
      ],
      "metadata": {
        "id": "bMlEPzymEceg"
      }
    },
    {
      "cell_type": "code",
      "source": [
        "!git clone https://github.com/chiphuyen/sotawhat\n",
        "%cd sotawhat\n",
        "!pip install .\n",
        "%cd .."
      ],
      "metadata": {
        "colab": {
          "base_uri": "https://localhost:8080/"
        },
        "id": "QP3SbgleEj9q",
        "outputId": "055f8897-bcbd-4774-87e8-f564137d6737"
      },
      "execution_count": 24,
      "outputs": [
        {
          "output_type": "stream",
          "name": "stdout",
          "text": [
            "Cloning into 'sotawhat'...\n",
            "remote: Enumerating objects: 92, done.\u001b[K\n",
            "remote: Counting objects: 100% (3/3), done.\u001b[K\n",
            "remote: Compressing objects: 100% (3/3), done.\u001b[K\n",
            "remote: Total 92 (delta 0), reused 1 (delta 0), pack-reused 89\u001b[K\n",
            "Unpacking objects: 100% (92/92), done.\n",
            "/content/drive/MyDrive/code-projects/gpt-ai-safety/sotawhat\n",
            "Processing /content/drive/MyDrive/code-projects/gpt-ai-safety/sotawhat\n",
            "\u001b[33m  DEPRECATION: A future pip version will change local packages to be built in-place without first copying to a temporary directory. We recommend you use --use-feature=in-tree-build to test your packages with this new behavior before it becomes the default.\n",
            "   pip 21.3 will remove support for this functionality. You can find discussion regarding this at https://github.com/pypa/pip/issues/7555.\u001b[0m\n",
            "Requirement already satisfied: six in /usr/local/lib/python3.7/dist-packages (from sotawhat==0.0.1) (1.15.0)\n",
            "Requirement already satisfied: nltk in /usr/local/lib/python3.7/dist-packages (from sotawhat==0.0.1) (3.2.5)\n",
            "Collecting pyspellchecker\n",
            "  Downloading pyspellchecker-0.6.3-py3-none-any.whl (2.7 MB)\n",
            "\u001b[K     |████████████████████████████████| 2.7 MB 5.1 MB/s \n",
            "\u001b[?25hBuilding wheels for collected packages: sotawhat\n",
            "  Building wheel for sotawhat (setup.py) ... \u001b[?25l\u001b[?25hdone\n",
            "  Created wheel for sotawhat: filename=sotawhat-0.0.1-py3-none-any.whl size=4623 sha256=5aef8419ceec258d0ead1cf1725627fcb3cf7f5d4dfae58b5c359b5929819a17\n",
            "  Stored in directory: /tmp/pip-ephem-wheel-cache-tnk903_y/wheels/26/04/55/7db24114f64d0ccb8c2a0cf7f1f15cb00143cb04bebdb0819c\n",
            "Successfully built sotawhat\n",
            "Installing collected packages: pyspellchecker, sotawhat\n",
            "Successfully installed pyspellchecker-0.6.3 sotawhat-0.0.1\n",
            "/content/drive/MyDrive/code-projects/gpt-ai-safety/sotawhat\n"
          ]
        }
      ]
    },
    {
      "cell_type": "code",
      "source": [
        "!sotawhat ai safety 10"
      ],
      "metadata": {
        "colab": {
          "base_uri": "https://localhost:8080/"
        },
        "id": "m-s5HtG9E4vT",
        "outputId": "1080f895-b78f-4700-f594-eed43d071359"
      },
      "execution_count": 29,
      "outputs": [
        {
          "output_type": "stream",
          "name": "stdout",
          "text": [
            "[nltk_data] Downloading package punkt to /root/nltk_data...\n",
            "[nltk_data]   Unzipping tokenizers/punkt.zip.\n",
            "Impossibility Results in AI: A Survey (Mario Brcic - 1 September, 2021)\n",
            "As such, these results serve as guidelines, reminders, and warnings to AI safety, AI policy, and governance researchers. We concluded that deductive impossibilities deny 100%-guarantees for security\n",
            "Link: sp;[<a href=\n",
            "====================================================\n",
            "Towards a framework for evaluating the safety, acceptability and efficacy of AI systems for health: an initial synthesis (Jessica Morley - 14 April, 2021)\n",
            "There are numerous reasons for this, but a main contributory factor is the lack of internationally accepted, or formalised, regulatory standards to assess AI safety and impact and effectiveness. We do this by conducting a systematic search across Scopus, PubMed and Google Scholar to identify all the relevant literature published between January 1970 and November 2020 related to the evaluation of: output performance; efficacy; and real-world use of AI systems, and synthesising the key themes according to the stages of evaluation: pre-clinical (theoretical phase); exploratory phase; definitive phase; and post-market surveillance phase (monitoring)\n",
            "Link: sp;[<a href=\n",
            "====================================================\n",
            "Incorporating Expert Guidance in Epidemic Forecasting (Alexander RodrÃ­guez - 24 December, 2020)\n",
            "We propose a new approach leveraging the Seldonian optimization framework from AI safety and demonstrate how it can be adapted to epidemic forecasting. We study two types of guidance: smoothness and regional consistency of errors, where we show that by its successful incorporation, we are able to not only bound the probability of undesirable behavior to happen, but also to reduce RMSE on test data by up to 17%.\n",
            "Link: sp;[<a href=\n",
            "====================================================\n",
            "An overview of 11 proposals for building safe advanced AI (Evan Hubinger - 4 December, 2020)\n",
            "This paper analyzes and compares 11 different proposals for building safe advanced AI under the current machine learning paradigm, including major contenders such as iterated amplification, AI safety via debate, and recursive reward modeling\n",
            "Link: sp;[<a href=\n",
            "====================================================\n",
            "AI safety: state of the field through quantitative lens (Mislav Juric - 9 July, 2020)\n",
            "While there exist survey papers for the field of AI safety, there is a lack of a quantitative look at the research being conducted. In this paper, bibliometric analysis of the literature finds significant increase in research activity since 2015\n",
            "Link: sp;[<a href=\n",
            "====================================================\n",
            "Artificial Intelligence Safety and Cybersecurity: a Timeline of AI Failures (Roman V. Yampolskiy - 25 October, 2016)\n",
            "The goal of cybersecurity is to reduce the number of successful attacks on the system; the goal of AI Safety is to make sure zero attacks succeed in bypassing the safety mechanisms. Every security system will eventually fail; there is no such thing as a 100% secure system.\n",
            "Link: sp;[<a href=\n",
            "====================================================\n",
            "System Safety and Artificial Intelligence (Roel I. J. Dobbe - 18 February, 2022)\n",
            "This history tells us that effective AI safety management requires transdisciplinary approaches and a shared language that allows involvement of all levels of society.\n",
            "Link: sp;[<a href=\n",
            "====================================================\n",
            "The Concept of Criticality in AI Safety (Yitzhak Spielberg - 12 January, 2022)\n",
            "We introduce the concept of critical actions with respect to AI safety and discuss how to build a model that measures action criticality\n",
            "Link: sp;[<a href=\n",
            "====================================================\n",
            "Arguments about Highly Reliable Agent Designs as a Useful Path to Artificial Intelligence Safety (Issa Rice - 9 January, 2022)\n",
            "In order to reduce confusion in the debate about AI safety, here we build on a previous discussion by Rice which collects and presents four central arguments which are used to justify HRAD as a path towards safety of AI systems.\n",
            "Link: sp;[<a href=\n",
            "====================================================\n",
            "Scaling Language Models: Methods, Analysis & Insights from Training Gopher (Jack W. Rae - 21 January, 2022)\n",
            "Finally we discuss the application of language models to AI safety and the mitigation of downstream harms.\n",
            "Link: sp;[<a href=\n",
            "====================================================\n"
          ]
        }
      ]
    },
    {
      "cell_type": "code",
      "source": [
        ""
      ],
      "metadata": {
        "id": "kuIyS2_-Fa29"
      },
      "execution_count": null,
      "outputs": []
    }
  ]
}